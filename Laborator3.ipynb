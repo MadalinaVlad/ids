{
 "cells": [
  {
   "cell_type": "markdown",
   "metadata": {},
   "source": [
    "# Laborator 3\n",
    "Saptamana 11-15 martie 2019"
   ]
  },
  {
   "cell_type": "code",
   "execution_count": 2,
   "metadata": {},
   "outputs": [
    {
     "data": {
      "text/plain": [
       "array([14, 24, 12])"
      ]
     },
     "execution_count": 2,
     "metadata": {},
     "output_type": "execute_result"
    }
   ],
   "source": [
    "#ex 2\n",
    "\n",
    "import numpy as np\n",
    "def f1(a):\n",
    "    \"\"\"This function make the sum for each row of the matrix\n",
    "    :param a: numpy 2D array\n",
    "    return:numpy.ndarray\n",
    "    \"\"\"\n",
    "    return np.prod(a, 1)\n",
    "\n",
    "a = np.array([[7, 1, 2],\n",
    "              [3, 2, 4],\n",
    "              [1, 3, 4]])\n",
    "f1(a)"
   ]
  },
  {
   "cell_type": "code",
   "execution_count": 5,
   "metadata": {},
   "outputs": [
    {
     "data": {
      "text/plain": [
       "(array([1, 2], dtype=int64), array([2, 2], dtype=int64))"
      ]
     },
     "execution_count": 5,
     "metadata": {},
     "output_type": "execute_result"
    }
   ],
   "source": [
    "#ex1\n",
    "import numpy as np\n",
    "def f2(a):\n",
    "    \"\"\"This function show the position in matrix where the value\n",
    "    is equal with a given value\n",
    "    :param a: numpy 2D array\n",
    "    return: tuple\n",
    "     \"\"\"\n",
    "    return np.where(a==4)\n",
    "    \n",
    "a = np.array([[0, 1, 2],\n",
    "              [0, 2, 4],\n",
    "              [0, 3, 4]])\n",
    "f2(a)"
   ]
  },
  {
   "cell_type": "code",
   "execution_count": 10,
   "metadata": {},
   "outputs": [
    {
     "data": {
      "text/plain": [
       "array([[False,  True,  True],\n",
       "       [False,  True,  True],\n",
       "       [False,  True,  True]])"
      ]
     },
     "execution_count": 10,
     "metadata": {},
     "output_type": "execute_result"
    }
   ],
   "source": [
    "#ex3\n",
    "import numpy as np\n",
    "def f3(a,b):\n",
    "    \"\"\"This function show if an element from a matrix, is bigger or equal with\n",
    "    the value from another matrix situated on the same position\n",
    "    :param a: numpy 2D array\n",
    "    :param b: numpy 2D array\n",
    "    return:numpy.ndarray\n",
    "    \"\"\"\n",
    "    return a>=b\n",
    "    \n",
    "a = np.array([[0, 1, 2],\n",
    "              [0, 2, 4],\n",
    "              [0, 3, 4]])\n",
    "b = np.array([[7, 1, 2],\n",
    "              [3, 2, 4],\n",
    "              [1, 3, 4]])\n",
    "f3(a,b)"
   ]
  },
  {
   "cell_type": "code",
   "execution_count": 13,
   "metadata": {},
   "outputs": [
    {
     "data": {
      "text/plain": [
       "(array([2, 7], dtype=int64),)"
      ]
     },
     "execution_count": 13,
     "metadata": {},
     "output_type": "execute_result"
    }
   ],
   "source": [
    "#ex4\n",
    "import numpy as np\n",
    "def f4(a):\n",
    "    \"\"\"This function returns the positions in array of the biggest number\n",
    "    :param a:numpy array\n",
    "    return:tuple\n",
    "    \"\"\"\n",
    "    return np.where(arr == np.amax(arr))\n",
    "\n",
    "arr=np.array([7,8 ,89, 20,34,23,67,89,0])\n",
    "f4(arr)"
   ]
  },
  {
   "cell_type": "code",
   "execution_count": 17,
   "metadata": {},
   "outputs": [
    {
     "name": "stdout",
     "output_type": "stream",
     "text": [
      "[230 284  20  78 152]\n"
     ]
    },
    {
     "data": {
      "text/plain": [
       "array([160, 156, 152])"
      ]
     },
     "execution_count": 17,
     "metadata": {},
     "output_type": "execute_result"
    }
   ],
   "source": [
    "import numpy as np\n",
    "def multiply(arr):\n",
    "    \"\"\"Multiply the numbers which ar lower than 100\n",
    "    :param a: np.array\n",
    "    return: numpy.ndarray\"\"\"\n",
    "    arr[arr<100] *= 2\n",
    "    return arr\n",
    "def ciclare(arr):\n",
    "    \"\"\"\n",
    "    In this function, the \"multiply\" function is applied until \n",
    "    there are no elements smaller than 100. Then returns the numbers\n",
    "    between 150 and 200\n",
    "    :param arr: np.array\n",
    "    return:numpy.ndarray\n",
    "    \"\"\"\n",
    "    while arr[arr<100].any():\n",
    "        arr[arr<100]*=2\n",
    "    return(arr[(np.logical_and(arr>150, arr<200))])\n",
    "\n",
    "arr = np.array([230, 284,10, 39, 76])\n",
    "multiply(arr)\n",
    "ciclare(arr)"
   ]
  },
  {
   "cell_type": "code",
   "execution_count": 10,
   "metadata": {},
   "outputs": [
    {
     "name": "stdout",
     "output_type": "stream",
     "text": [
      "<class 'numpy.ndarray'>\n"
     ]
    },
    {
     "data": {
      "text/plain": [
       "array([  4,   7,   9, 100, 300, 230,   3])"
      ]
     },
     "execution_count": 10,
     "metadata": {},
     "output_type": "execute_result"
    }
   ],
   "source": [
    "#ex 6\n",
    "\"\"\" This function peak the biggest numbers on the same position \n",
    "from two diffrent arrays\n",
    ":param a: np.array\n",
    ":param b: np.array\n",
    "return: 'numpy.ndarray\n",
    "\"\"\"\n",
    "def maxim(a,b):\n",
    "    return np.maximum(a,b)\n",
    "\n",
    "a = np.array([3, 7, 9, 13, -10, 200, 3])\n",
    "b = np.array([4, 5, -9, 100, 300, 230, 1])\n",
    "maxim(a,b)"
   ]
  },
  {
   "cell_type": "code",
   "execution_count": 37,
   "metadata": {},
   "outputs": [
    {
     "name": "stdout",
     "output_type": "stream",
     "text": [
      "21.9 µs ± 1.95 µs per loop (mean ± std. dev. of 7 runs, 10000 loops each)\n",
      "11.3 µs ± 4.4 µs per loop (mean ± std. dev. of 7 runs, 100000 loops each)\n",
      "7.42 µs ± 1.36 µs per loop (mean ± std. dev. of 7 runs, 100000 loops each)\n"
     ]
    }
   ],
   "source": [
    "#ex7\n",
    "import numpy as np\n",
    "def met1(a):\n",
    "    \"\"\"This function calculates how long it takes to calculate a sum, \n",
    "    starting from a matrix, making a copy of it, replacing the nan values with 0 and then actually make the sum.\n",
    "    :param a: numpyy 2D array\n",
    "    return: \"\"\"\n",
    "    %timeit np.nan_to_num(np.copy(a)).sum()\n",
    "    \n",
    "def met2(a):\n",
    "    \"\"\"Using the nansum function, met2 calculates how long it takes to make the sum of all values from matrix\n",
    "    :param a: numpy 2D array\n",
    "    return: \n",
    "    \"\"\"\n",
    "    %timeit sum2=np.nansum(a)\n",
    "\n",
    "def met3(a):\n",
    "    \"\"\"This function calculates how long it takes to make a sum with all values from a matrix, excluding \n",
    "    those values equal to nan\n",
    "    :param a: numpy 2D array\n",
    "    return: \"\"\"\n",
    "    %timeit sum3=a[np.isnan(a)==False].sum()\n",
    "    \n",
    "a = np.array([[7, 1, 2],\n",
    "            [3, 2, 4],\n",
    "            [1, 3, np.NaN]])\n",
    "met1(a)\n",
    "met2(a)\n",
    "met3(a)\n"
   ]
  },
  {
   "cell_type": "markdown",
   "metadata": {},
   "source": [
    "## Exercitii simple folosind API de NumPy  \n",
    "\n",
    "Nota: in rezolvarea exercitiilor se vor folosi cat mai mult functii NumPy vectorizate. Functiile scrise de voi vor fi documentate cu docstrings (tutoriale: Docstrings in Python, urmati NumPy Style Python Docstrings). Folositi type annotations. Utilizati doar pachetele NumPy si SciPy."
   ]
  },
  {
   "cell_type": "markdown",
   "metadata": {},
   "source": [
    "1. (0.5 puncte) Folosind functia `np.where`, determinati care sunt liniile si coloanele care contin un element dat intr-o matrice. \n",
    "1. (0.5 puncte) Pentru o matrice de numere, sa se determine produsul elementelor pe linii.\n",
    "1. (0.5 puncte) Determinati daca toate elementele unei matrice `a` sunt mai mari sau egale decat toate de pe pozitiile corespondente din `b`.\n",
    "1. (0.5 puncte) Pentru un vector de numere, care sunt *toate pozitiile* pe care apare valoarea maxima? Folositi functie NumPy.\n",
    "1. (0.5 puncte) Se considera vectorul: `a = np.array([230, 10, 284, 39, 76])`. Folosind indexarea logica, sa se inmulteasca elementele din vector care sunt mai mici ca 100 cu 2 (restul raman neschimbate). Folosind ciclare, sa se aplice aceeasi operatie pana cand toate elementele devin mai mari ca 100. Sa se afiseze din vectorul final elementele care sunt mai mari de 150 si mai mici de 200.\n",
    "1. (0.5 puncte) Sa se scrie o functie care preia doi vectori de aceeasi lungime si returneaza maximele pe pozitiile corespunzatoare:\n",
    "```python\n",
    "a = np.array([3, 7, 9, 13, -10, 200, 3])\n",
    "b = np.array([4, 5, -9, 100, 300, 230, 1])\n",
    "pair_max(a, b)\n",
    "#iesire dorita: \n",
    "array([  4,   7,   9, 100, 300, 230,   3])\n",
    "```\n",
    "1. (1 punct) Sa se calculeze suma elementelor non-NaN intr-un 2d numpy array, in 3 feluri. Folosind comanda magica `%%timeit` [Built-in magic commands](http://ipython.readthedocs.io/en/stable/interactive/magics.html#cell-magics), [IPython Magic Commands](https://jakevdp.github.io/PythonDataScienceHandbook/01.03-magic-commands.html), sa se determine care e mai rapida.\n",
    "    1. Peste o copie a tabelului initial (functia membru `copy()` a unui tablou) se suprascriu elementele nan cu 0, apoi se face suma;\n",
    "    1. Folosind functia `np.nansum`;\n",
    "    1. Folosind indiciere booleana si functia `np.isnan`, se determina colectia elementelor non-nan si se calculeaza suma lor in mod obisnuit.\n",
    "1. (1 punct) Incarcati setul de date Iris, de la adresa 'https://archive.ics.uci.edu/ml/machine-learning-databases/iris/iris.data', folosind `np.genfromtxt`.  Alegeti aleator 10 pozitii in matricea de 150 linii si 4 coloane (omiteti ultima coloana, de tip text), setati aceste valori pe NaN. Construiti o functie care, primid la intrare o matrice, returneaza un tuplu cu indicii de linie respectiv de coloana in care se gasesc valori NaN.\n",
    "1. (1 punct) Construiti o functie care, primind o matrice, determina pe ce pozitii se afla valorile in afara unui interval \\[min, max\\] dat prin parametri. \n",
    "1. (1 punct) Sa se construiasca o functie care returneaza cele mai mari `k` valori dintr-un vector de cel putin `k` elemente, impreuna cu pozitiile lor. "
   ]
  },
  {
   "cell_type": "code",
   "execution_count": 4,
   "metadata": {},
   "outputs": [
    {
     "name": "stdout",
     "output_type": "stream",
     "text": [
      "<class 'numpy.ndarray'>\n"
     ]
    },
    {
     "data": {
      "text/plain": [
       "array([[0, 2],\n",
       "       [1, 0],\n",
       "       [1, 1],\n",
       "       [2, 1],\n",
       "       [2, 2]], dtype=int64)"
      ]
     },
     "execution_count": 4,
     "metadata": {},
     "output_type": "execute_result"
    }
   ],
   "source": [
    "#ex9\n",
    "import numpy as np\n",
    "def interval(a, min, max):\n",
    "    \"\"\"\n",
    "    This function returns positions of the values lower than a min value\n",
    "    and higher than a max value\n",
    "    :param a: numpy 2D array\n",
    "    return: numpy.ndarray\n",
    "    \"\"\"\n",
    "    return np.argwhere(np.logical_or(a < min, a>max))\n",
    "a = np.array([[10, 13, 23],\n",
    "                [30, 22, 14],\n",
    "                [20, 31, 24]])\n",
    "interval(a, 10,20)"
   ]
  },
  {
   "cell_type": "code",
   "execution_count": 7,
   "metadata": {},
   "outputs": [
    {
     "name": "stdout",
     "output_type": "stream",
     "text": [
      "<class 'numpy.ndarray'>\n"
     ]
    },
    {
     "data": {
      "text/plain": [
       "array([76, 85, 90, 91, 92])"
      ]
     },
     "execution_count": 7,
     "metadata": {},
     "output_type": "execute_result"
    }
   ],
   "source": [
    "#ex10\n",
    "def k_valori(a,k):\n",
    "    \"\"\"\n",
    "    The function returns the biggest k values from the array\n",
    "    :param a: an numpy array\n",
    "    return: numpy.ndarray\n",
    "    \"\"\"\n",
    "    return (a[np.argsort(a)[-k:]])\n",
    "    \n",
    "arr = np.array([58, 50, 40,  9, 92,  5, 91, 43, 2,5,\n",
    "                90, 60, 85, 49, 38, 76, 51, 38,\n",
    "                 14, 30, 61])\n",
    "k_valori(arr,5)"
   ]
  },
  {
   "cell_type": "markdown",
   "metadata": {},
   "source": [
    "**Precizari:**\n",
    "1. Se acorda 3 puncte din oficiu.\n",
    "1. Tema se va prezenta in sapatamana 18-22 martie. \n",
    "1. Modalitatea de predare a temei: \n",
    "    1. se vor forma si se va lucra in echipe de cate doua persoane (in cazul in care nu se poate, se va lucra individual)\n",
    "    2. exercitiile rezolvate se vor comite pe un repository **privat** de [Github](https://github.com/), la care vor avea doar acces membrii echipei si profesorii, Lucian Mircea Sasu (cont github: lmsasu) respectiv Arpad Kerestely (cont github: akerestely)\n",
    "    3. repository-ul va contine un fisier \"readme.md\" (in radacina repository-ului) in care vor fi mentionati autorii temelor, cu nume complet si grupa din care fac parte."
   ]
  }
 ],
 "metadata": {
  "kernelspec": {
   "display_name": "Python 3",
   "language": "python",
   "name": "python3"
  },
  "language_info": {
   "codemirror_mode": {
    "name": "ipython",
    "version": 3
   },
   "file_extension": ".py",
   "mimetype": "text/x-python",
   "name": "python",
   "nbconvert_exporter": "python",
   "pygments_lexer": "ipython3",
   "version": "3.7.1"
  },
  "toc": {
   "base_numbering": 1,
   "nav_menu": {},
   "number_sections": true,
   "sideBar": true,
   "skip_h1_title": false,
   "title_cell": "Table of Contents",
   "title_sidebar": "Contents",
   "toc_cell": false,
   "toc_position": {},
   "toc_section_display": true,
   "toc_window_display": false
  }
 },
 "nbformat": 4,
 "nbformat_minor": 2
}
