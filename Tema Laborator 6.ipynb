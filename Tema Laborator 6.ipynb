{
 "cells": [
  {
   "cell_type": "markdown",
   "metadata": {},
   "source": [
    "# Laborator 6"
   ]
  },
  {
   "cell_type": "markdown",
   "metadata": {},
   "source": [
    "## Modele de clasificare\n",
    "\n",
    "Folositi urmatoarele seturi de date:\n",
    "1. [Semeion Handwritten Digit Data Set](http://archive.ics.uci.edu/ml/datasets/Semeion+Handwritten+Digit)\n",
    "1. [Wireless Indoor Localization Data Set](http://archive.ics.uci.edu/ml/datasets/Wireless+Indoor+Localization)\n",
    "1. [Spambase Data Set](http://archive.ics.uci.edu/ml/datasets/Spambase)\n",
    "1. [Smartphone Dataset for Human Activity Recognition (HAR) in Ambient Assisted Living (AAL) Data Set ](http://archive.ics.uci.edu/ml/datasets/Smartphone+Dataset+for+Human+Activity+Recognition+%28HAR%29+in+Ambient+Assisted+Living+%28AAL%29)\n",
    "\n",
    "plus inca doua seturi de date de clasificare alese de voi, din repository-urile specificate in Cursul 4. \n",
    "\n",
    "1. Daca e necesar, aplicati o metoda de missing value imputation sau eliminati inregistrarile/coloanele care au valori lipsa; documentati metoda folosita.\n",
    "1. Pentru fiecare set de date aplicati 5 modele de clasificare din scikit learn. Pentru fiecare raportati: acuratete, scor F1 - a se vedea [sklearn.metrics](http://scikit-learn.org/stable/modules/classes.html#module-sklearn.metrics) folosind 5 fold cross validation. Raportati mediile rezultatelor atat pentru fold-urile de antrenare, cat si pentru cele de testare. Revedeti formele ulterioare ale acestui document pentru precizari despre: continutul rezultatelor raportate, modalitate de notare. \n",
    "1. Documentati in jupyter notebook fiecare din modelele folosite, in limba romana. Puteti face o sectiune o sectiune separata cu documentarea algoritmilor + trimitere la algoritm. \n",
    "1. Pentru fiecare model: efectuati o cautare a hiperparametrilor optimi folosind grid search si random search.\n",
    "\n",
    "Exemple de modele de clasificare:\n",
    "1. [Multi-layer Perceptron classifier](https://scikit-learn.org/stable/modules/generated/sklearn.neural_network.MLPClassifier.html#sklearn.neural_network.MLPClassifier)\n",
    "1. [KNN](https://scikit-learn.org/stable/modules/generated/sklearn.neighbors.KNeighborsClassifier.html#sklearn.neighbors.KNeighborsClassifier)\n",
    "1. [SVM](https://scikit-learn.org/stable/modules/generated/sklearn.svm.SVC.html#sklearn.svm.SVC)\n",
    "1. [Gaussian processes](https://scikit-learn.org/stable/modules/generated/sklearn.gaussian_process.GaussianProcessClassifier.html#sklearn.gaussian_process.GaussianProcessClassifier)\n",
    "1. [RBF](https://scikit-learn.org/stable/modules/generated/sklearn.gaussian_process.kernels.RBF.html#sklearn.gaussian_process.kernels.RBF)\n",
    "1. [Decision tree](https://scikit-learn.org/stable/modules/generated/sklearn.tree.DecisionTreeClassifier.html#sklearn.tree.DecisionTreeClassifier)\n",
    "1. [Random forest](https://scikit-learn.org/stable/modules/generated/sklearn.ensemble.RandomForestClassifier.html#sklearn.ensemble.RandomForestClassifier)\n",
    "1. [Gaussian Naive bayes](https://scikit-learn.org/stable/modules/generated/sklearn.naive_bayes.GaussianNB.html#sklearn.naive_bayes.GaussianNB) \n",
    "\n",
    "Pentru fiecare set de date raportati rezultalele obtinute de fiecare model. "
   ]
  },
  {
   "cell_type": "markdown",
   "metadata": {},
   "source": [
    "*Predare:* laboratorul va fi salvat in repository-ul de github si predat in saptamana 15-19 aprilie."
   ]
  },
  {
   "cell_type": "markdown",
   "metadata": {},
   "source": [
    "# Documentare Algoritmi"
   ]
  },
  {
   "cell_type": "markdown",
   "metadata": {},
   "source": [
    "*Multi-layer Perceptron classifier:*\n",
    "Un multilayer perceptron (MLP) este o retea neurala artificiala, adanca. E compusa din mai mult decat un perceptron. Contine un input layer care primeste semnalul, un output layer care face decizia sau predictia despre input, si intre aceste doua, un numar arbitrar de layere ascunse care sunt adevaratul motor computational al MLP-ului.\n",
    "Network-uri feedforward cum este MLP sunt ca in tenis sau ping pong. Sunt implicate in principal in doua miscari, un constant inainte si inapoi.\n",
    "hidden_layer_sizes = Al i-lea element reprezinta numarul de neuroni in al i-lea layer ascuns\n",
    "max_iter = Numar maxim de iteratii\n",
    "alpha = L2 penalty parameter\n",
    "solver ='sgd' - Solutia pentru optimizarea greutatii (‘sgd’ se refera la stochastic gradient descent)\n",
    "verbose = Printeaza mesajele cu progresul\n",
    "random_state= Seed-ul folosit de random number generator\n",
    "tol = Toleranta pentru optimizare\n",
    "\n",
    "*KNN:* \n",
    "In algoritmul k-nearest neighbour, datele sunt intai trasate pe un spatiu n-dimensional, unde 'n' este numarul de atribute. Fiecare punct din acest spatiu n-dimensional e etichetat cu valoarea clasei. Pentru a descoperi clasificarea unei date neclasificate, punctul este trasat in acest spatiu n-dimensional, si label-urile claselor ale celor mai apropiate k data points sunt notate. In general, k este un numar par. Clasa care apare de numarul maxim de ori printre cele mai apropiate k data points este luata ca si clasa noului data point. Asta e decizia luata prin votarea a k puncte vecine.\n",
    "algorithm = 'brute' - Va folosi algoritmul brute first search\n",
    "leaf_size = leaf-size-ul pasat BallTree-ului sau KDTree-ului\n",
    "metric = 'minkowski' - metric-ul de distanta folosit pentru tree\n",
    "metric_params = None - keyword-uri aditionale pentru metric\n",
    "n_jobs = 1 - Numarul de job-uri paralele care sa ruleze pentru neighbours search\n",
    "n_neighbors = 4 - Numar default de vecini folositi\n",
    "p = 2 - parametru putere pentru Minkowski metric\n",
    "weights = 'distance' - Functia de greutate folosita la predictie. 'distance' greutatea se indreapta in functie de inversa distantei\n",
    "\n",
    "*Decision Tree:*\n",
    "O structura tree e construita ce sparge dataset-urile in subset-uri mai mici, eventual rezultand intr-o predictie. Exista noduri de decizie care partitioneaza data si nodurile frunza care dau predictia, care poate fi urmarita traversand simple IF..AND..AND….THEN mergand in jos pe noduri.\n",
    "Nodul sursa (primul nod de decizie) partitioneaza data bazat pe cea mai influenta partitionare de feature-uri. Exista doua masuri pentru acest lucru, Gini Impurity si Entropy.\n",
    "\n",
    "*SVM:*\n",
    "SVM difera de alti algoritmi de clasificare in sensul ca alege boundary-ul de decizie care maximizeaza distanta de la cele mai apropiate data points ale tuturor claselor. Un SVM nu doar gaseste un boundary de decizie; il gaseste pe cel mai optimal.\n",
    "Cel mai optimal boundary de decizie e acela care are margine maxima de la cele mai apropiate puncte ale tuturor claselor. Cele mai apropiate puncte din boundary-ul de decizie care maximizeaza distanta dintre boundary-ul de decizie si puncte sunt numite vectori de suport. Boundary-ul de decizie in cazul masinariilor vector suport se numeste maximum margin classifier, sau maximum margin hyper plane.\n",
    "\n",
    "*Random Forest:*\n",
    "Random Forest Classifier este un algoritmul de ansamblu. Algoritmii de ansamblu sunt aceia care combină mai mult de un algoritm de același fel sau de alt tip pentru clasificarea obiectelor. De exemplu, predicția rulează pe Naive Bayes, SVM și Tree Decision și apoi se ia votul pentru examinarea finală a clasei pentru obiectul de testare.\n",
    "Random Forest Classifier creează un set de arbori de decizie dintr-un subset selectat aleatoriu de set de antrenament. Apoi agregă voturile de la arbori de decizie diferiți pentru a decide clasa finală a obiectului de testare."
   ]
  },
  {
   "cell_type": "markdown",
   "metadata": {},
   "source": [
    "# Semeion Handwritten Digit Data Set"
   ]
  },
  {
   "cell_type": "code",
   "execution_count": 2,
   "metadata": {},
   "outputs": [
    {
     "data": {
      "text/html": [
       "<div>\n",
       "<style scoped>\n",
       "    .dataframe tbody tr th:only-of-type {\n",
       "        vertical-align: middle;\n",
       "    }\n",
       "\n",
       "    .dataframe tbody tr th {\n",
       "        vertical-align: top;\n",
       "    }\n",
       "\n",
       "    .dataframe thead th {\n",
       "        text-align: right;\n",
       "    }\n",
       "</style>\n",
       "<table border=\"1\" class=\"dataframe\">\n",
       "  <thead>\n",
       "    <tr style=\"text-align: right;\">\n",
       "      <th></th>\n",
       "      <th>0</th>\n",
       "      <th>1</th>\n",
       "      <th>2</th>\n",
       "      <th>3</th>\n",
       "      <th>4</th>\n",
       "      <th>5</th>\n",
       "      <th>6</th>\n",
       "      <th>7</th>\n",
       "      <th>8</th>\n",
       "      <th>9</th>\n",
       "      <th>...</th>\n",
       "      <th>256</th>\n",
       "      <th>257</th>\n",
       "      <th>258</th>\n",
       "      <th>259</th>\n",
       "      <th>260</th>\n",
       "      <th>261</th>\n",
       "      <th>262</th>\n",
       "      <th>263</th>\n",
       "      <th>264</th>\n",
       "      <th>265</th>\n",
       "    </tr>\n",
       "  </thead>\n",
       "  <tbody>\n",
       "    <tr>\n",
       "      <th>0</th>\n",
       "      <td>0.0</td>\n",
       "      <td>0.0</td>\n",
       "      <td>0.0</td>\n",
       "      <td>0.0</td>\n",
       "      <td>0.0</td>\n",
       "      <td>0.0</td>\n",
       "      <td>1.0</td>\n",
       "      <td>1.0</td>\n",
       "      <td>1.0</td>\n",
       "      <td>1.0</td>\n",
       "      <td>...</td>\n",
       "      <td>1</td>\n",
       "      <td>0</td>\n",
       "      <td>0</td>\n",
       "      <td>0</td>\n",
       "      <td>0</td>\n",
       "      <td>0</td>\n",
       "      <td>0</td>\n",
       "      <td>0</td>\n",
       "      <td>0</td>\n",
       "      <td>0</td>\n",
       "    </tr>\n",
       "    <tr>\n",
       "      <th>1</th>\n",
       "      <td>0.0</td>\n",
       "      <td>0.0</td>\n",
       "      <td>0.0</td>\n",
       "      <td>0.0</td>\n",
       "      <td>0.0</td>\n",
       "      <td>1.0</td>\n",
       "      <td>1.0</td>\n",
       "      <td>1.0</td>\n",
       "      <td>1.0</td>\n",
       "      <td>1.0</td>\n",
       "      <td>...</td>\n",
       "      <td>1</td>\n",
       "      <td>0</td>\n",
       "      <td>0</td>\n",
       "      <td>0</td>\n",
       "      <td>0</td>\n",
       "      <td>0</td>\n",
       "      <td>0</td>\n",
       "      <td>0</td>\n",
       "      <td>0</td>\n",
       "      <td>0</td>\n",
       "    </tr>\n",
       "    <tr>\n",
       "      <th>2</th>\n",
       "      <td>0.0</td>\n",
       "      <td>0.0</td>\n",
       "      <td>0.0</td>\n",
       "      <td>0.0</td>\n",
       "      <td>0.0</td>\n",
       "      <td>0.0</td>\n",
       "      <td>0.0</td>\n",
       "      <td>0.0</td>\n",
       "      <td>0.0</td>\n",
       "      <td>1.0</td>\n",
       "      <td>...</td>\n",
       "      <td>1</td>\n",
       "      <td>0</td>\n",
       "      <td>0</td>\n",
       "      <td>0</td>\n",
       "      <td>0</td>\n",
       "      <td>0</td>\n",
       "      <td>0</td>\n",
       "      <td>0</td>\n",
       "      <td>0</td>\n",
       "      <td>0</td>\n",
       "    </tr>\n",
       "    <tr>\n",
       "      <th>3</th>\n",
       "      <td>0.0</td>\n",
       "      <td>0.0</td>\n",
       "      <td>0.0</td>\n",
       "      <td>0.0</td>\n",
       "      <td>0.0</td>\n",
       "      <td>0.0</td>\n",
       "      <td>1.0</td>\n",
       "      <td>1.0</td>\n",
       "      <td>1.0</td>\n",
       "      <td>1.0</td>\n",
       "      <td>...</td>\n",
       "      <td>1</td>\n",
       "      <td>0</td>\n",
       "      <td>0</td>\n",
       "      <td>0</td>\n",
       "      <td>0</td>\n",
       "      <td>0</td>\n",
       "      <td>0</td>\n",
       "      <td>0</td>\n",
       "      <td>0</td>\n",
       "      <td>0</td>\n",
       "    </tr>\n",
       "    <tr>\n",
       "      <th>4</th>\n",
       "      <td>0.0</td>\n",
       "      <td>0.0</td>\n",
       "      <td>0.0</td>\n",
       "      <td>0.0</td>\n",
       "      <td>0.0</td>\n",
       "      <td>0.0</td>\n",
       "      <td>0.0</td>\n",
       "      <td>0.0</td>\n",
       "      <td>0.0</td>\n",
       "      <td>1.0</td>\n",
       "      <td>...</td>\n",
       "      <td>1</td>\n",
       "      <td>0</td>\n",
       "      <td>0</td>\n",
       "      <td>0</td>\n",
       "      <td>0</td>\n",
       "      <td>0</td>\n",
       "      <td>0</td>\n",
       "      <td>0</td>\n",
       "      <td>0</td>\n",
       "      <td>0</td>\n",
       "    </tr>\n",
       "  </tbody>\n",
       "</table>\n",
       "<p>5 rows × 266 columns</p>\n",
       "</div>"
      ],
      "text/plain": [
       "   0    1    2    3    4    5    6    7    8    9   ...   256  257  258  259  \\\n",
       "0  0.0  0.0  0.0  0.0  0.0  0.0  1.0  1.0  1.0  1.0 ...     1    0    0    0   \n",
       "1  0.0  0.0  0.0  0.0  0.0  1.0  1.0  1.0  1.0  1.0 ...     1    0    0    0   \n",
       "2  0.0  0.0  0.0  0.0  0.0  0.0  0.0  0.0  0.0  1.0 ...     1    0    0    0   \n",
       "3  0.0  0.0  0.0  0.0  0.0  0.0  1.0  1.0  1.0  1.0 ...     1    0    0    0   \n",
       "4  0.0  0.0  0.0  0.0  0.0  0.0  0.0  0.0  0.0  1.0 ...     1    0    0    0   \n",
       "\n",
       "   260  261  262  263  264  265  \n",
       "0    0    0    0    0    0    0  \n",
       "1    0    0    0    0    0    0  \n",
       "2    0    0    0    0    0    0  \n",
       "3    0    0    0    0    0    0  \n",
       "4    0    0    0    0    0    0  \n",
       "\n",
       "[5 rows x 266 columns]"
      ]
     },
     "execution_count": 2,
     "metadata": {},
     "output_type": "execute_result"
    }
   ],
   "source": [
    "import numpy as np\n",
    "import pandas as pd\n",
    "import matplotlib.pyplot as plt\n",
    "from sklearn.model_selection import train_test_split\n",
    "\n",
    "#Se citeste setul de date\n",
    "semeion = pd.read_csv(\"semeion.data\", delimiter = r\"\\s+\", header = None)\n",
    "semeion.head()"
   ]
  },
  {
   "cell_type": "code",
   "execution_count": 3,
   "metadata": {},
   "outputs": [
    {
     "data": {
      "text/html": [
       "<div>\n",
       "<style scoped>\n",
       "    .dataframe tbody tr th:only-of-type {\n",
       "        vertical-align: middle;\n",
       "    }\n",
       "\n",
       "    .dataframe tbody tr th {\n",
       "        vertical-align: top;\n",
       "    }\n",
       "\n",
       "    .dataframe thead th {\n",
       "        text-align: right;\n",
       "    }\n",
       "</style>\n",
       "<table border=\"1\" class=\"dataframe\">\n",
       "  <thead>\n",
       "    <tr style=\"text-align: right;\">\n",
       "      <th></th>\n",
       "      <th>0</th>\n",
       "      <th>1</th>\n",
       "      <th>2</th>\n",
       "      <th>3</th>\n",
       "      <th>4</th>\n",
       "      <th>5</th>\n",
       "      <th>6</th>\n",
       "      <th>7</th>\n",
       "      <th>8</th>\n",
       "      <th>9</th>\n",
       "      <th>...</th>\n",
       "      <th>246</th>\n",
       "      <th>247</th>\n",
       "      <th>248</th>\n",
       "      <th>249</th>\n",
       "      <th>250</th>\n",
       "      <th>251</th>\n",
       "      <th>252</th>\n",
       "      <th>253</th>\n",
       "      <th>254</th>\n",
       "      <th>255</th>\n",
       "    </tr>\n",
       "  </thead>\n",
       "  <tbody>\n",
       "    <tr>\n",
       "      <th>0</th>\n",
       "      <td>0.0</td>\n",
       "      <td>0.0</td>\n",
       "      <td>0.0</td>\n",
       "      <td>0.0</td>\n",
       "      <td>0.0</td>\n",
       "      <td>0.0</td>\n",
       "      <td>1.0</td>\n",
       "      <td>1.0</td>\n",
       "      <td>1.0</td>\n",
       "      <td>1.0</td>\n",
       "      <td>...</td>\n",
       "      <td>1.0</td>\n",
       "      <td>0.0</td>\n",
       "      <td>0.0</td>\n",
       "      <td>0.0</td>\n",
       "      <td>0.0</td>\n",
       "      <td>0.0</td>\n",
       "      <td>0.0</td>\n",
       "      <td>0.0</td>\n",
       "      <td>0.0</td>\n",
       "      <td>0.0</td>\n",
       "    </tr>\n",
       "    <tr>\n",
       "      <th>1</th>\n",
       "      <td>0.0</td>\n",
       "      <td>0.0</td>\n",
       "      <td>0.0</td>\n",
       "      <td>0.0</td>\n",
       "      <td>0.0</td>\n",
       "      <td>1.0</td>\n",
       "      <td>1.0</td>\n",
       "      <td>1.0</td>\n",
       "      <td>1.0</td>\n",
       "      <td>1.0</td>\n",
       "      <td>...</td>\n",
       "      <td>1.0</td>\n",
       "      <td>1.0</td>\n",
       "      <td>1.0</td>\n",
       "      <td>1.0</td>\n",
       "      <td>1.0</td>\n",
       "      <td>0.0</td>\n",
       "      <td>0.0</td>\n",
       "      <td>0.0</td>\n",
       "      <td>0.0</td>\n",
       "      <td>0.0</td>\n",
       "    </tr>\n",
       "    <tr>\n",
       "      <th>2</th>\n",
       "      <td>0.0</td>\n",
       "      <td>0.0</td>\n",
       "      <td>0.0</td>\n",
       "      <td>0.0</td>\n",
       "      <td>0.0</td>\n",
       "      <td>0.0</td>\n",
       "      <td>0.0</td>\n",
       "      <td>0.0</td>\n",
       "      <td>0.0</td>\n",
       "      <td>1.0</td>\n",
       "      <td>...</td>\n",
       "      <td>1.0</td>\n",
       "      <td>0.0</td>\n",
       "      <td>0.0</td>\n",
       "      <td>0.0</td>\n",
       "      <td>0.0</td>\n",
       "      <td>0.0</td>\n",
       "      <td>0.0</td>\n",
       "      <td>0.0</td>\n",
       "      <td>0.0</td>\n",
       "      <td>0.0</td>\n",
       "    </tr>\n",
       "    <tr>\n",
       "      <th>3</th>\n",
       "      <td>0.0</td>\n",
       "      <td>0.0</td>\n",
       "      <td>0.0</td>\n",
       "      <td>0.0</td>\n",
       "      <td>0.0</td>\n",
       "      <td>0.0</td>\n",
       "      <td>1.0</td>\n",
       "      <td>1.0</td>\n",
       "      <td>1.0</td>\n",
       "      <td>1.0</td>\n",
       "      <td>...</td>\n",
       "      <td>0.0</td>\n",
       "      <td>0.0</td>\n",
       "      <td>0.0</td>\n",
       "      <td>0.0</td>\n",
       "      <td>0.0</td>\n",
       "      <td>0.0</td>\n",
       "      <td>0.0</td>\n",
       "      <td>0.0</td>\n",
       "      <td>0.0</td>\n",
       "      <td>0.0</td>\n",
       "    </tr>\n",
       "    <tr>\n",
       "      <th>4</th>\n",
       "      <td>0.0</td>\n",
       "      <td>0.0</td>\n",
       "      <td>0.0</td>\n",
       "      <td>0.0</td>\n",
       "      <td>0.0</td>\n",
       "      <td>0.0</td>\n",
       "      <td>0.0</td>\n",
       "      <td>0.0</td>\n",
       "      <td>0.0</td>\n",
       "      <td>1.0</td>\n",
       "      <td>...</td>\n",
       "      <td>0.0</td>\n",
       "      <td>0.0</td>\n",
       "      <td>0.0</td>\n",
       "      <td>0.0</td>\n",
       "      <td>0.0</td>\n",
       "      <td>0.0</td>\n",
       "      <td>0.0</td>\n",
       "      <td>0.0</td>\n",
       "      <td>0.0</td>\n",
       "      <td>0.0</td>\n",
       "    </tr>\n",
       "  </tbody>\n",
       "</table>\n",
       "<p>5 rows × 256 columns</p>\n",
       "</div>"
      ],
      "text/plain": [
       "   0    1    2    3    4    5    6    7    8    9   ...   246  247  248  249  \\\n",
       "0  0.0  0.0  0.0  0.0  0.0  0.0  1.0  1.0  1.0  1.0 ...   1.0  0.0  0.0  0.0   \n",
       "1  0.0  0.0  0.0  0.0  0.0  1.0  1.0  1.0  1.0  1.0 ...   1.0  1.0  1.0  1.0   \n",
       "2  0.0  0.0  0.0  0.0  0.0  0.0  0.0  0.0  0.0  1.0 ...   1.0  0.0  0.0  0.0   \n",
       "3  0.0  0.0  0.0  0.0  0.0  0.0  1.0  1.0  1.0  1.0 ...   0.0  0.0  0.0  0.0   \n",
       "4  0.0  0.0  0.0  0.0  0.0  0.0  0.0  0.0  0.0  1.0 ...   0.0  0.0  0.0  0.0   \n",
       "\n",
       "   250  251  252  253  254  255  \n",
       "0  0.0  0.0  0.0  0.0  0.0  0.0  \n",
       "1  1.0  0.0  0.0  0.0  0.0  0.0  \n",
       "2  0.0  0.0  0.0  0.0  0.0  0.0  \n",
       "3  0.0  0.0  0.0  0.0  0.0  0.0  \n",
       "4  0.0  0.0  0.0  0.0  0.0  0.0  \n",
       "\n",
       "[5 rows x 256 columns]"
      ]
     },
     "execution_count": 3,
     "metadata": {},
     "output_type": "execute_result"
    }
   ],
   "source": [
    "#Separ datele in X si y, si le separ in seturi de train si de test\n",
    "X = pd.DataFrame(semeion)\n",
    "X = X.drop([256,257,258,259,260,261,262,263,264,265], axis=1)\n",
    "X.head()"
   ]
  },
  {
   "cell_type": "code",
   "execution_count": 4,
   "metadata": {},
   "outputs": [
    {
     "data": {
      "text/html": [
       "<div>\n",
       "<style scoped>\n",
       "    .dataframe tbody tr th:only-of-type {\n",
       "        vertical-align: middle;\n",
       "    }\n",
       "\n",
       "    .dataframe tbody tr th {\n",
       "        vertical-align: top;\n",
       "    }\n",
       "\n",
       "    .dataframe thead th {\n",
       "        text-align: right;\n",
       "    }\n",
       "</style>\n",
       "<table border=\"1\" class=\"dataframe\">\n",
       "  <thead>\n",
       "    <tr style=\"text-align: right;\">\n",
       "      <th></th>\n",
       "      <th>0</th>\n",
       "      <th>1</th>\n",
       "      <th>2</th>\n",
       "      <th>3</th>\n",
       "      <th>4</th>\n",
       "      <th>5</th>\n",
       "      <th>6</th>\n",
       "      <th>7</th>\n",
       "      <th>8</th>\n",
       "      <th>9</th>\n",
       "      <th>y</th>\n",
       "    </tr>\n",
       "  </thead>\n",
       "  <tbody>\n",
       "    <tr>\n",
       "      <th>0</th>\n",
       "      <td>1</td>\n",
       "      <td>0</td>\n",
       "      <td>0</td>\n",
       "      <td>0</td>\n",
       "      <td>0</td>\n",
       "      <td>0</td>\n",
       "      <td>0</td>\n",
       "      <td>0</td>\n",
       "      <td>0</td>\n",
       "      <td>0</td>\n",
       "      <td>0</td>\n",
       "    </tr>\n",
       "    <tr>\n",
       "      <th>1</th>\n",
       "      <td>1</td>\n",
       "      <td>0</td>\n",
       "      <td>0</td>\n",
       "      <td>0</td>\n",
       "      <td>0</td>\n",
       "      <td>0</td>\n",
       "      <td>0</td>\n",
       "      <td>0</td>\n",
       "      <td>0</td>\n",
       "      <td>0</td>\n",
       "      <td>0</td>\n",
       "    </tr>\n",
       "    <tr>\n",
       "      <th>2</th>\n",
       "      <td>1</td>\n",
       "      <td>0</td>\n",
       "      <td>0</td>\n",
       "      <td>0</td>\n",
       "      <td>0</td>\n",
       "      <td>0</td>\n",
       "      <td>0</td>\n",
       "      <td>0</td>\n",
       "      <td>0</td>\n",
       "      <td>0</td>\n",
       "      <td>0</td>\n",
       "    </tr>\n",
       "    <tr>\n",
       "      <th>3</th>\n",
       "      <td>1</td>\n",
       "      <td>0</td>\n",
       "      <td>0</td>\n",
       "      <td>0</td>\n",
       "      <td>0</td>\n",
       "      <td>0</td>\n",
       "      <td>0</td>\n",
       "      <td>0</td>\n",
       "      <td>0</td>\n",
       "      <td>0</td>\n",
       "      <td>0</td>\n",
       "    </tr>\n",
       "    <tr>\n",
       "      <th>4</th>\n",
       "      <td>1</td>\n",
       "      <td>0</td>\n",
       "      <td>0</td>\n",
       "      <td>0</td>\n",
       "      <td>0</td>\n",
       "      <td>0</td>\n",
       "      <td>0</td>\n",
       "      <td>0</td>\n",
       "      <td>0</td>\n",
       "      <td>0</td>\n",
       "      <td>0</td>\n",
       "    </tr>\n",
       "  </tbody>\n",
       "</table>\n",
       "</div>"
      ],
      "text/plain": [
       "   0  1  2  3  4  5  6  7  8  9  y\n",
       "0  1  0  0  0  0  0  0  0  0  0  0\n",
       "1  1  0  0  0  0  0  0  0  0  0  0\n",
       "2  1  0  0  0  0  0  0  0  0  0  0\n",
       "3  1  0  0  0  0  0  0  0  0  0  0\n",
       "4  1  0  0  0  0  0  0  0  0  0  0"
      ]
     },
     "execution_count": 4,
     "metadata": {},
     "output_type": "execute_result"
    }
   ],
   "source": [
    "label_semeion = pd.DataFrame(semeion.iloc[:,[256,257,258,259,260,261,262,263,264,265]])\n",
    "label_semeion.rename(columns={256:0, 257:1, 258:2, 259:3, 260:4, 261:5, 262:6, 263:7, 264:8, 265:9 }, inplace=True)\n",
    "label_semeion['y'] = label_semeion.apply(lambda x: label_semeion.columns[x.idxmax()], axis = 1)\n",
    "label_semeion.head()"
   ]
  },
  {
   "cell_type": "code",
   "execution_count": 5,
   "metadata": {},
   "outputs": [
    {
     "data": {
      "text/plain": [
       "0    0\n",
       "1    0\n",
       "2    0\n",
       "3    0\n",
       "4    0\n",
       "Name: y, dtype: int64"
      ]
     },
     "execution_count": 5,
     "metadata": {},
     "output_type": "execute_result"
    }
   ],
   "source": [
    "y = label_semeion['y']\n",
    "X_train, X_test, y_train, y_test = train_test_split(X, y, test_size=0.05, random_state=5)\n",
    "y.head()"
   ]
  },
  {
   "cell_type": "markdown",
   "metadata": {},
   "source": [
    "# Multi-layer Perceptron classifier"
   ]
  },
  {
   "cell_type": "code",
   "execution_count": 6,
   "metadata": {},
   "outputs": [
    {
     "name": "stdout",
     "output_type": "stream",
     "text": [
      "Iteration 1, loss = 2.40236808\n",
      "Iteration 2, loss = 2.36949301\n",
      "Iteration 3, loss = 2.33331622\n",
      "Iteration 4, loss = 2.30169205\n",
      "Iteration 5, loss = 2.27644599\n",
      "Iteration 6, loss = 2.25328957\n",
      "Iteration 7, loss = 2.23285746\n",
      "Iteration 8, loss = 2.21363538\n",
      "Iteration 9, loss = 2.19484131\n",
      "Iteration 10, loss = 2.17664548\n",
      "Iteration 11, loss = 2.15773056\n",
      "Iteration 12, loss = 2.13854325\n",
      "Iteration 13, loss = 2.11864589\n",
      "Iteration 14, loss = 2.09821040\n",
      "Iteration 15, loss = 2.07647085\n",
      "Iteration 16, loss = 2.05366735\n",
      "Iteration 17, loss = 2.02957608\n",
      "Iteration 18, loss = 2.00410402\n",
      "Iteration 19, loss = 1.97705625\n",
      "Iteration 20, loss = 1.94846980\n",
      "Iteration 21, loss = 1.91839110\n",
      "Iteration 22, loss = 1.88652475\n",
      "Iteration 23, loss = 1.85320942\n",
      "Iteration 24, loss = 1.81804080\n",
      "Iteration 25, loss = 1.78045065\n",
      "Iteration 26, loss = 1.74205333\n",
      "Iteration 27, loss = 1.70103856\n",
      "Iteration 28, loss = 1.65859197\n",
      "Iteration 29, loss = 1.61422975\n",
      "Iteration 30, loss = 1.56900038\n",
      "Iteration 31, loss = 1.52280967\n",
      "Iteration 32, loss = 1.47565400\n",
      "Iteration 33, loss = 1.42812516\n",
      "Iteration 34, loss = 1.38113789\n",
      "Iteration 35, loss = 1.33423194\n",
      "Iteration 36, loss = 1.28779119\n",
      "Iteration 37, loss = 1.24181044\n",
      "Iteration 38, loss = 1.19679059\n",
      "Iteration 39, loss = 1.15373088\n",
      "Iteration 40, loss = 1.11127479\n",
      "Iteration 41, loss = 1.07029204\n",
      "Iteration 42, loss = 1.03136388\n",
      "Iteration 43, loss = 0.99370490\n",
      "Iteration 44, loss = 0.95786296\n",
      "Iteration 45, loss = 0.92359412\n",
      "Iteration 46, loss = 0.89145577\n",
      "Iteration 47, loss = 0.86025651\n",
      "Iteration 48, loss = 0.83063590\n",
      "Iteration 49, loss = 0.80277682\n",
      "Iteration 50, loss = 0.77618761\n",
      "Iteration 51, loss = 0.75111276\n",
      "Iteration 52, loss = 0.72749764\n",
      "Iteration 53, loss = 0.70467252\n",
      "Iteration 54, loss = 0.68346106\n",
      "Iteration 55, loss = 0.66306034\n",
      "Iteration 56, loss = 0.64410316\n",
      "Iteration 57, loss = 0.62600364\n",
      "Iteration 58, loss = 0.60836670\n",
      "Iteration 59, loss = 0.59217053\n",
      "Iteration 60, loss = 0.57625783\n",
      "Iteration 61, loss = 0.56130918\n",
      "Iteration 62, loss = 0.54700779\n",
      "Iteration 63, loss = 0.53374346\n",
      "Iteration 64, loss = 0.52068739\n",
      "Iteration 65, loss = 0.50828087\n",
      "Iteration 66, loss = 0.49686861\n",
      "Iteration 67, loss = 0.48499483\n",
      "Iteration 68, loss = 0.47424471\n",
      "Iteration 69, loss = 0.46393478\n",
      "Iteration 70, loss = 0.45390639\n",
      "Iteration 71, loss = 0.44421976\n",
      "Iteration 72, loss = 0.43491199\n",
      "Iteration 73, loss = 0.42578094\n",
      "Iteration 74, loss = 0.41759252\n",
      "Iteration 75, loss = 0.40898554\n",
      "Iteration 76, loss = 0.40191108\n",
      "Iteration 77, loss = 0.39373636\n",
      "Iteration 78, loss = 0.38632884\n",
      "Iteration 79, loss = 0.37874474\n",
      "Iteration 80, loss = 0.37224870\n",
      "Iteration 81, loss = 0.36570878\n",
      "Iteration 82, loss = 0.35946799\n",
      "Iteration 83, loss = 0.35300519\n",
      "Iteration 84, loss = 0.34683380\n",
      "Iteration 85, loss = 0.34085733\n",
      "Iteration 86, loss = 0.33503912\n",
      "Iteration 87, loss = 0.32962228\n",
      "Iteration 88, loss = 0.32444301\n",
      "Iteration 89, loss = 0.31888919\n",
      "Iteration 90, loss = 0.31414471\n",
      "Iteration 91, loss = 0.30911792\n",
      "Iteration 92, loss = 0.30422762\n",
      "Iteration 93, loss = 0.29946636\n",
      "Iteration 94, loss = 0.29494790\n",
      "Iteration 95, loss = 0.29059994\n",
      "Iteration 96, loss = 0.28606561\n",
      "Iteration 97, loss = 0.28211271\n",
      "Iteration 98, loss = 0.27802086\n",
      "Iteration 99, loss = 0.27399632\n",
      "Iteration 100, loss = 0.27010721\n",
      "Iteration 101, loss = 0.26661579\n",
      "Iteration 102, loss = 0.26257558\n",
      "Iteration 103, loss = 0.25935781\n",
      "Iteration 104, loss = 0.25578486\n",
      "Iteration 105, loss = 0.25215034\n",
      "Iteration 106, loss = 0.24898447\n",
      "Iteration 107, loss = 0.24569403\n",
      "Iteration 108, loss = 0.24268707\n",
      "Iteration 109, loss = 0.23935367\n",
      "Iteration 110, loss = 0.23615166\n",
      "Iteration 111, loss = 0.23335082\n",
      "Iteration 112, loss = 0.23015212\n",
      "Iteration 113, loss = 0.22728032\n",
      "Iteration 114, loss = 0.22461436\n",
      "Iteration 115, loss = 0.22162009\n",
      "Iteration 116, loss = 0.21891148\n",
      "Iteration 117, loss = 0.21650836\n",
      "Iteration 118, loss = 0.21348066\n",
      "Iteration 119, loss = 0.21093422\n",
      "Iteration 120, loss = 0.20867128\n",
      "Iteration 121, loss = 0.20620237\n",
      "Iteration 122, loss = 0.20379910\n",
      "Iteration 123, loss = 0.20141045\n",
      "Iteration 124, loss = 0.19896033\n",
      "Iteration 125, loss = 0.19667157\n",
      "Iteration 126, loss = 0.19460340\n",
      "Iteration 127, loss = 0.19223558\n",
      "Iteration 128, loss = 0.19043911\n",
      "Iteration 129, loss = 0.18800664\n",
      "Iteration 130, loss = 0.18601453\n",
      "Iteration 131, loss = 0.18394422\n",
      "Iteration 132, loss = 0.18186778\n",
      "Iteration 133, loss = 0.18017435\n",
      "Iteration 134, loss = 0.17834225\n",
      "Iteration 135, loss = 0.17615360\n",
      "Iteration 136, loss = 0.17425936\n",
      "Iteration 137, loss = 0.17229237\n",
      "Iteration 138, loss = 0.17031879\n",
      "Iteration 139, loss = 0.16864548\n",
      "Iteration 140, loss = 0.16700163\n",
      "Iteration 141, loss = 0.16532307\n",
      "Iteration 142, loss = 0.16350666\n",
      "Iteration 143, loss = 0.16178409\n",
      "Iteration 144, loss = 0.16008054\n",
      "Iteration 145, loss = 0.15848696\n",
      "Iteration 146, loss = 0.15687468\n",
      "Iteration 147, loss = 0.15518535\n",
      "Iteration 148, loss = 0.15380141\n",
      "Iteration 149, loss = 0.15216501\n",
      "Iteration 150, loss = 0.15080390\n",
      "Iteration 151, loss = 0.14910363\n",
      "Iteration 152, loss = 0.14784393\n",
      "Iteration 153, loss = 0.14621844\n",
      "Iteration 154, loss = 0.14470652\n",
      "Iteration 155, loss = 0.14330823\n",
      "Iteration 156, loss = 0.14183716\n",
      "Iteration 157, loss = 0.14057481\n",
      "Iteration 158, loss = 0.13947040\n",
      "Iteration 159, loss = 0.13796727\n",
      "Iteration 160, loss = 0.13639379\n",
      "Iteration 161, loss = 0.13533542\n",
      "Iteration 162, loss = 0.13408490\n",
      "Iteration 163, loss = 0.13293702\n",
      "Iteration 164, loss = 0.13144902\n",
      "Iteration 165, loss = 0.13018686\n",
      "Iteration 166, loss = 0.12893955\n",
      "Iteration 167, loss = 0.12763676\n",
      "Iteration 168, loss = 0.12673340\n",
      "Iteration 169, loss = 0.12552338\n",
      "Iteration 170, loss = 0.12416487\n",
      "Iteration 171, loss = 0.12310690\n",
      "Iteration 172, loss = 0.12205994\n",
      "Iteration 173, loss = 0.12083332\n",
      "Iteration 174, loss = 0.11997059\n",
      "Iteration 175, loss = 0.11876036\n",
      "Iteration 176, loss = 0.11764709\n",
      "Iteration 177, loss = 0.11663533\n",
      "Iteration 178, loss = 0.11546529\n",
      "Iteration 179, loss = 0.11449748\n",
      "Iteration 180, loss = 0.11371971\n",
      "Iteration 181, loss = 0.11245684\n",
      "Iteration 182, loss = 0.11138847\n",
      "Iteration 183, loss = 0.11042950\n",
      "Iteration 184, loss = 0.10959122\n",
      "Iteration 185, loss = 0.10840647\n",
      "Iteration 186, loss = 0.10757125\n",
      "Iteration 187, loss = 0.10657725\n",
      "Iteration 188, loss = 0.10583636\n",
      "Iteration 189, loss = 0.10480467\n",
      "Iteration 190, loss = 0.10392846\n",
      "Iteration 191, loss = 0.10297923\n",
      "Iteration 192, loss = 0.10207132\n",
      "Iteration 193, loss = 0.10122611\n",
      "Iteration 194, loss = 0.10031211\n",
      "Iteration 195, loss = 0.09954589\n",
      "Iteration 196, loss = 0.09863597\n",
      "Iteration 197, loss = 0.09773550\n",
      "Iteration 198, loss = 0.09679271\n",
      "Iteration 199, loss = 0.09595049\n",
      "Iteration 200, loss = 0.09525996\n",
      "Iteration 201, loss = 0.09443326\n",
      "Iteration 202, loss = 0.09364662\n",
      "Iteration 203, loss = 0.09279119\n",
      "Iteration 204, loss = 0.09217037\n",
      "Iteration 205, loss = 0.09123487\n",
      "Iteration 206, loss = 0.09047986\n",
      "Iteration 207, loss = 0.08959595\n",
      "Iteration 208, loss = 0.08895716\n",
      "Iteration 209, loss = 0.08834881\n",
      "Iteration 210, loss = 0.08751925\n",
      "Iteration 211, loss = 0.08676551\n",
      "Iteration 212, loss = 0.08595397\n",
      "Iteration 213, loss = 0.08533815\n",
      "Iteration 214, loss = 0.08454138\n",
      "Iteration 215, loss = 0.08397818\n",
      "Iteration 216, loss = 0.08319759\n",
      "Iteration 217, loss = 0.08247596\n",
      "Iteration 218, loss = 0.08185334\n",
      "Iteration 219, loss = 0.08120808\n",
      "Iteration 220, loss = 0.08054422\n",
      "Iteration 221, loss = 0.07989851\n",
      "Iteration 222, loss = 0.07931270\n",
      "Iteration 223, loss = 0.07862651\n",
      "Iteration 224, loss = 0.07797249\n",
      "Iteration 225, loss = 0.07736614\n",
      "Iteration 226, loss = 0.07665352\n",
      "Iteration 227, loss = 0.07604374\n",
      "Iteration 228, loss = 0.07550436\n",
      "Iteration 229, loss = 0.07491765\n",
      "Iteration 230, loss = 0.07433897\n",
      "Iteration 231, loss = 0.07379611\n",
      "Iteration 232, loss = 0.07305394\n",
      "Iteration 233, loss = 0.07256695\n",
      "Iteration 234, loss = 0.07190206\n",
      "Iteration 235, loss = 0.07147664\n",
      "Iteration 236, loss = 0.07072943\n",
      "Iteration 237, loss = 0.07039318\n",
      "Iteration 238, loss = 0.06975604\n",
      "Iteration 239, loss = 0.06926701\n",
      "Iteration 240, loss = 0.06861868\n",
      "Iteration 241, loss = 0.06807467\n",
      "Iteration 242, loss = 0.06747927\n",
      "Iteration 243, loss = 0.06700898\n",
      "Iteration 244, loss = 0.06654301\n",
      "Iteration 245, loss = 0.06608053\n",
      "Iteration 246, loss = 0.06556855\n",
      "Iteration 247, loss = 0.06504532\n",
      "Iteration 248, loss = 0.06448448\n",
      "Iteration 249, loss = 0.06402152\n",
      "Iteration 250, loss = 0.06355802\n",
      "Iteration 251, loss = 0.06303161\n",
      "Iteration 252, loss = 0.06253478\n",
      "Iteration 253, loss = 0.06210035\n",
      "Iteration 254, loss = 0.06166231\n",
      "Iteration 255, loss = 0.06110511\n",
      "Iteration 256, loss = 0.06070260\n",
      "Iteration 257, loss = 0.06022962\n",
      "Iteration 258, loss = 0.05991352\n",
      "Iteration 259, loss = 0.05942699\n"
     ]
    },
    {
     "name": "stdout",
     "output_type": "stream",
     "text": [
      "Iteration 260, loss = 0.05881148\n",
      "Iteration 261, loss = 0.05837311\n",
      "Iteration 262, loss = 0.05805949\n",
      "Iteration 263, loss = 0.05761736\n",
      "Iteration 264, loss = 0.05715200\n",
      "Iteration 265, loss = 0.05675482\n",
      "Iteration 266, loss = 0.05631238\n",
      "Iteration 267, loss = 0.05595995\n",
      "Iteration 268, loss = 0.05544744\n",
      "Iteration 269, loss = 0.05507106\n",
      "Iteration 270, loss = 0.05472504\n",
      "Iteration 271, loss = 0.05435906\n",
      "Iteration 272, loss = 0.05389643\n",
      "Iteration 273, loss = 0.05351576\n",
      "Iteration 274, loss = 0.05311367\n",
      "Iteration 275, loss = 0.05267745\n",
      "Iteration 276, loss = 0.05235464\n",
      "Iteration 277, loss = 0.05192949\n",
      "Iteration 278, loss = 0.05160513\n",
      "Iteration 279, loss = 0.05130700\n",
      "Iteration 280, loss = 0.05087900\n",
      "Iteration 281, loss = 0.05054704\n",
      "Iteration 282, loss = 0.05017729\n",
      "Iteration 283, loss = 0.04985028\n",
      "Iteration 284, loss = 0.04942846\n",
      "Iteration 285, loss = 0.04916495\n",
      "Iteration 286, loss = 0.04878893\n",
      "Iteration 287, loss = 0.04849851\n",
      "Iteration 288, loss = 0.04814680\n",
      "Iteration 289, loss = 0.04777841\n",
      "Iteration 290, loss = 0.04744310\n",
      "Iteration 291, loss = 0.04713121\n",
      "Iteration 292, loss = 0.04684980\n",
      "Iteration 293, loss = 0.04648507\n",
      "Iteration 294, loss = 0.04616640\n",
      "Iteration 295, loss = 0.04584704\n",
      "Iteration 296, loss = 0.04549689\n",
      "Iteration 297, loss = 0.04528886\n",
      "Iteration 298, loss = 0.04495290\n",
      "Iteration 299, loss = 0.04461020\n",
      "Iteration 300, loss = 0.04437273\n",
      "Iteration 301, loss = 0.04403617\n",
      "Iteration 302, loss = 0.04373383\n",
      "Iteration 303, loss = 0.04345862\n",
      "Iteration 304, loss = 0.04312626\n",
      "Iteration 305, loss = 0.04286370\n",
      "Iteration 306, loss = 0.04272074\n",
      "Iteration 307, loss = 0.04228622\n",
      "Iteration 308, loss = 0.04203844\n",
      "Iteration 309, loss = 0.04173261\n",
      "Iteration 310, loss = 0.04147350\n",
      "Iteration 311, loss = 0.04116567\n",
      "Iteration 312, loss = 0.04093739\n",
      "Iteration 313, loss = 0.04060587\n",
      "Iteration 314, loss = 0.04034424\n",
      "Iteration 315, loss = 0.04009884\n",
      "Iteration 316, loss = 0.03988091\n",
      "Iteration 317, loss = 0.03955437\n",
      "Iteration 318, loss = 0.03934316\n",
      "Iteration 319, loss = 0.03909251\n",
      "Iteration 320, loss = 0.03884821\n",
      "Iteration 321, loss = 0.03859423\n",
      "Iteration 322, loss = 0.03839679\n",
      "Iteration 323, loss = 0.03812471\n",
      "Iteration 324, loss = 0.03789313\n",
      "Iteration 325, loss = 0.03767380\n",
      "Iteration 326, loss = 0.03742695\n",
      "Iteration 327, loss = 0.03715724\n",
      "Iteration 328, loss = 0.03694106\n",
      "Iteration 329, loss = 0.03670354\n",
      "Iteration 330, loss = 0.03649643\n",
      "Iteration 331, loss = 0.03630687\n",
      "Iteration 332, loss = 0.03605158\n",
      "Iteration 333, loss = 0.03580409\n",
      "Iteration 334, loss = 0.03558120\n",
      "Iteration 335, loss = 0.03539090\n",
      "Iteration 336, loss = 0.03514702\n",
      "Iteration 337, loss = 0.03501561\n",
      "Iteration 338, loss = 0.03475209\n",
      "Iteration 339, loss = 0.03455686\n",
      "Iteration 340, loss = 0.03427506\n",
      "Iteration 341, loss = 0.03407541\n",
      "Iteration 342, loss = 0.03394181\n",
      "Iteration 343, loss = 0.03366164\n",
      "Iteration 344, loss = 0.03348053\n",
      "Iteration 345, loss = 0.03329686\n",
      "Iteration 346, loss = 0.03315223\n",
      "Iteration 347, loss = 0.03287383\n",
      "Iteration 348, loss = 0.03274992\n",
      "Iteration 349, loss = 0.03249674\n",
      "Iteration 350, loss = 0.03232348\n",
      "Iteration 351, loss = 0.03211256\n",
      "Iteration 352, loss = 0.03193013\n",
      "Iteration 353, loss = 0.03173976\n",
      "Iteration 354, loss = 0.03156165\n",
      "Iteration 355, loss = 0.03138048\n",
      "Iteration 356, loss = 0.03119852\n",
      "Iteration 357, loss = 0.03100529\n",
      "Iteration 358, loss = 0.03085038\n",
      "Iteration 359, loss = 0.03070255\n",
      "Iteration 360, loss = 0.03046897\n",
      "Iteration 361, loss = 0.03033428\n",
      "Iteration 362, loss = 0.03016255\n",
      "Iteration 363, loss = 0.02994380\n",
      "Iteration 364, loss = 0.02975974\n",
      "Iteration 365, loss = 0.02960404\n",
      "Iteration 366, loss = 0.02944406\n",
      "Iteration 367, loss = 0.02923840\n",
      "Iteration 368, loss = 0.02908439\n",
      "Iteration 369, loss = 0.02893174\n",
      "Iteration 370, loss = 0.02877221\n",
      "Iteration 371, loss = 0.02864341\n",
      "Iteration 372, loss = 0.02847315\n",
      "Iteration 373, loss = 0.02831165\n",
      "Iteration 374, loss = 0.02815645\n",
      "Iteration 375, loss = 0.02801769\n",
      "Iteration 376, loss = 0.02785461\n",
      "Iteration 377, loss = 0.02768414\n",
      "Iteration 378, loss = 0.02753818\n",
      "Iteration 379, loss = 0.02737632\n",
      "Iteration 380, loss = 0.02731152\n",
      "Iteration 381, loss = 0.02709688\n",
      "Iteration 382, loss = 0.02693279\n",
      "Iteration 383, loss = 0.02677768\n",
      "Iteration 384, loss = 0.02664239\n",
      "Iteration 385, loss = 0.02648918\n",
      "Iteration 386, loss = 0.02638329\n",
      "Iteration 387, loss = 0.02621625\n",
      "Iteration 388, loss = 0.02613525\n",
      "Iteration 389, loss = 0.02598330\n",
      "Iteration 390, loss = 0.02582762\n",
      "Iteration 391, loss = 0.02568114\n",
      "Iteration 392, loss = 0.02555868\n",
      "Iteration 393, loss = 0.02541291\n",
      "Iteration 394, loss = 0.02528615\n",
      "Iteration 395, loss = 0.02513817\n",
      "Iteration 396, loss = 0.02502855\n",
      "Iteration 397, loss = 0.02487311\n",
      "Iteration 398, loss = 0.02477288\n",
      "Iteration 399, loss = 0.02464359\n",
      "Iteration 400, loss = 0.02452978\n",
      "Iteration 401, loss = 0.02439481\n",
      "Iteration 402, loss = 0.02424734\n",
      "Iteration 403, loss = 0.02413712\n",
      "Iteration 404, loss = 0.02403018\n",
      "Iteration 405, loss = 0.02390318\n",
      "Iteration 406, loss = 0.02378045\n",
      "Iteration 407, loss = 0.02365672\n",
      "Iteration 408, loss = 0.02352614\n",
      "Iteration 409, loss = 0.02343887\n",
      "Iteration 410, loss = 0.02332927\n",
      "Iteration 411, loss = 0.02320364\n",
      "Iteration 412, loss = 0.02310540\n",
      "Iteration 413, loss = 0.02296462\n",
      "Iteration 414, loss = 0.02286627\n",
      "Iteration 415, loss = 0.02276521\n",
      "Iteration 416, loss = 0.02263527\n",
      "Iteration 417, loss = 0.02252890\n",
      "Iteration 418, loss = 0.02242130\n",
      "Iteration 419, loss = 0.02230182\n",
      "Iteration 420, loss = 0.02222953\n",
      "Iteration 421, loss = 0.02212038\n",
      "Iteration 422, loss = 0.02198136\n",
      "Iteration 423, loss = 0.02189958\n",
      "Iteration 424, loss = 0.02178962\n",
      "Iteration 425, loss = 0.02167412\n",
      "Iteration 426, loss = 0.02158358\n",
      "Iteration 427, loss = 0.02147239\n",
      "Iteration 428, loss = 0.02136945\n",
      "Iteration 429, loss = 0.02126543\n",
      "Iteration 430, loss = 0.02117513\n",
      "Iteration 431, loss = 0.02107010\n",
      "Iteration 432, loss = 0.02096688\n",
      "Iteration 433, loss = 0.02086942\n",
      "Iteration 434, loss = 0.02081463\n",
      "Iteration 435, loss = 0.02068430\n",
      "Iteration 436, loss = 0.02057955\n",
      "Iteration 437, loss = 0.02048912\n",
      "Iteration 438, loss = 0.02038523\n",
      "Iteration 439, loss = 0.02031721\n",
      "Iteration 440, loss = 0.02021290\n",
      "Iteration 441, loss = 0.02012717\n",
      "Iteration 442, loss = 0.02003979\n",
      "Iteration 443, loss = 0.01993922\n",
      "Iteration 444, loss = 0.01983870\n",
      "Iteration 445, loss = 0.01976904\n",
      "Iteration 446, loss = 0.01967550\n",
      "Iteration 447, loss = 0.01958030\n",
      "Iteration 448, loss = 0.01952158\n",
      "Iteration 449, loss = 0.01940696\n",
      "Iteration 450, loss = 0.01932567\n",
      "Iteration 451, loss = 0.01926496\n",
      "Iteration 452, loss = 0.01915269\n",
      "Iteration 453, loss = 0.01909558\n",
      "Iteration 454, loss = 0.01899094\n",
      "Iteration 455, loss = 0.01891282\n",
      "Iteration 456, loss = 0.01882870\n",
      "Iteration 457, loss = 0.01872842\n",
      "Iteration 458, loss = 0.01864477\n",
      "Iteration 459, loss = 0.01859284\n",
      "Iteration 460, loss = 0.01850399\n",
      "Iteration 461, loss = 0.01840256\n",
      "Iteration 462, loss = 0.01833147\n",
      "Iteration 463, loss = 0.01825552\n",
      "Iteration 464, loss = 0.01817205\n",
      "Iteration 465, loss = 0.01809153\n",
      "Iteration 466, loss = 0.01801978\n",
      "Iteration 467, loss = 0.01793455\n",
      "Iteration 468, loss = 0.01786756\n",
      "Iteration 469, loss = 0.01779514\n",
      "Iteration 470, loss = 0.01771286\n",
      "Iteration 471, loss = 0.01766267\n",
      "Iteration 472, loss = 0.01757399\n",
      "Iteration 473, loss = 0.01749229\n",
      "Iteration 474, loss = 0.01740896\n",
      "Iteration 475, loss = 0.01734338\n",
      "Iteration 476, loss = 0.01727671\n",
      "Iteration 477, loss = 0.01720777\n",
      "Iteration 478, loss = 0.01713160\n",
      "Iteration 479, loss = 0.01707131\n",
      "Iteration 480, loss = 0.01698773\n",
      "Iteration 481, loss = 0.01691270\n",
      "Iteration 482, loss = 0.01685772\n",
      "Iteration 483, loss = 0.01677896\n",
      "Iteration 484, loss = 0.01672823\n",
      "Iteration 485, loss = 0.01665729\n",
      "Iteration 486, loss = 0.01657997\n",
      "Iteration 487, loss = 0.01650128\n",
      "Iteration 488, loss = 0.01644389\n",
      "Iteration 489, loss = 0.01636829\n",
      "Iteration 490, loss = 0.01630663\n",
      "Iteration 491, loss = 0.01625492\n",
      "Iteration 492, loss = 0.01617799\n",
      "Iteration 493, loss = 0.01610572\n",
      "Iteration 494, loss = 0.01604382\n",
      "Iteration 495, loss = 0.01599319\n",
      "Iteration 496, loss = 0.01592269\n",
      "Iteration 497, loss = 0.01586818\n",
      "Iteration 498, loss = 0.01579322\n",
      "Iteration 499, loss = 0.01572834\n",
      "Iteration 500, loss = 0.01567038\n"
     ]
    },
    {
     "name": "stderr",
     "output_type": "stream",
     "text": [
      "D:\\Applications\\Anaconda3\\lib\\site-packages\\sklearn\\neural_network\\multilayer_perceptron.py:562: ConvergenceWarning: Stochastic Optimizer: Maximum iterations (500) reached and the optimization hasn't converged yet.\n",
      "  % self.max_iter, ConvergenceWarning)\n"
     ]
    }
   ],
   "source": [
    "from sklearn.neural_network import MLPClassifier\n",
    "from sklearn.metrics import accuracy_score\n",
    "from sklearn.metrics import confusion_matrix\n",
    "\n",
    "mlp_clf = MLPClassifier(hidden_layer_sizes=(100,100,100), max_iter=500, alpha=0.0001, \n",
    "                    solver='sgd', verbose=10, random_state=21, tol=0.000000001)\n",
    "mlp_clf.fit(X_train, y_train)\n",
    "y_pred = mlp_clf.predict(X_test)"
   ]
  },
  {
   "cell_type": "code",
   "execution_count": 7,
   "metadata": {},
   "outputs": [
    {
     "data": {
      "text/plain": [
       "0.9375"
      ]
     },
     "execution_count": 7,
     "metadata": {},
     "output_type": "execute_result"
    }
   ],
   "source": [
    "accuracy_score(y_test, y_pred)"
   ]
  },
  {
   "cell_type": "code",
   "execution_count": 8,
   "metadata": {},
   "outputs": [
    {
     "name": "stdout",
     "output_type": "stream",
     "text": [
      "Multi-layer Perceptron classifier F1 score: 0.9375\n"
     ]
    }
   ],
   "source": [
    "from sklearn.metrics import f1_score\n",
    "\n",
    "score = f1_score(y_pred, y_test, average='micro')\n",
    "print (\"Multi-layer Perceptron classifier F1 score: \" + str(score))"
   ]
  },
  {
   "cell_type": "markdown",
   "metadata": {},
   "source": [
    "# K Nearest Neighbours"
   ]
  },
  {
   "cell_type": "code",
   "execution_count": 15,
   "metadata": {},
   "outputs": [
    {
     "data": {
      "text/plain": [
       "KNeighborsClassifier(algorithm='brute', leaf_size=30, metric='minkowski',\n",
       "           metric_params=None, n_jobs=1, n_neighbors=4, p=2,\n",
       "           weights='distance')"
      ]
     },
     "execution_count": 15,
     "metadata": {},
     "output_type": "execute_result"
    }
   ],
   "source": [
    "from sklearn.neighbors import KNeighborsClassifier\n",
    "from sklearn.model_selection import GridSearchCV\n",
    "from sklearn import tree\n",
    "from sklearn import metrics\n",
    "from sklearn.metrics import precision_recall_fscore_support\n",
    "\n",
    "knn_clf = KNeighborsClassifier(algorithm='brute', leaf_size=30, metric='minkowski',\n",
    "           metric_params=None, n_jobs=1, n_neighbors=4, p=2,\n",
    "           weights='distance')\n",
    "knn_clf.fit(X_train,y_train)"
   ]
  },
  {
   "cell_type": "code",
   "execution_count": 16,
   "metadata": {},
   "outputs": [
    {
     "data": {
      "text/plain": [
       "0.925"
      ]
     },
     "execution_count": 16,
     "metadata": {},
     "output_type": "execute_result"
    }
   ],
   "source": [
    "y_pred = knn_clf.predict(X_test)\n",
    "accuracy_score(y_test,y_pred)"
   ]
  },
  {
   "cell_type": "code",
   "execution_count": 17,
   "metadata": {},
   "outputs": [
    {
     "name": "stdout",
     "output_type": "stream",
     "text": [
      "K Nearest Neighbours classifier F1 score: 0.925\n"
     ]
    }
   ],
   "source": [
    "score = f1_score(y_pred, y_test, average='micro')\n",
    "print (\"K Nearest Neighbours classifier F1 score: \" + str(score))"
   ]
  },
  {
   "cell_type": "markdown",
   "metadata": {},
   "source": [
    "# Decision Tree"
   ]
  },
  {
   "cell_type": "code",
   "execution_count": 18,
   "metadata": {},
   "outputs": [
    {
     "data": {
      "text/plain": [
       "0.775"
      ]
     },
     "execution_count": 18,
     "metadata": {},
     "output_type": "execute_result"
    }
   ],
   "source": [
    "from sklearn.tree import DecisionTreeClassifier\n",
    "\n",
    "dt_clf = tree.DecisionTreeClassifier()\n",
    "dt_clf.fit(X_train, y_train)\n",
    "y_pred = dt_clf.predict(X_test)\n",
    "accuracy_score(y_test, y_pred)"
   ]
  },
  {
   "cell_type": "code",
   "execution_count": 19,
   "metadata": {},
   "outputs": [
    {
     "name": "stdout",
     "output_type": "stream",
     "text": [
      "Decision Tree classifier F1 score: 0.775\n"
     ]
    }
   ],
   "source": [
    "score = f1_score(y_pred, y_test, average='micro')\n",
    "print (\"Decision Tree classifier F1 score: \" + str(score))"
   ]
  },
  {
   "cell_type": "markdown",
   "metadata": {},
   "source": [
    "# SVC"
   ]
  },
  {
   "cell_type": "code",
   "execution_count": 20,
   "metadata": {},
   "outputs": [
    {
     "data": {
      "text/plain": [
       "0.925"
      ]
     },
     "execution_count": 20,
     "metadata": {},
     "output_type": "execute_result"
    }
   ],
   "source": [
    "from sklearn.svm import SVC\n",
    "\n",
    "sv_clf = SVC(kernel='linear')  \n",
    "sv_clf.fit(X_train, y_train)  \n",
    "y_pred = sv_clf.predict(X_test)  \n",
    "accuracy_score(y_test, y_pred)"
   ]
  },
  {
   "cell_type": "code",
   "execution_count": 21,
   "metadata": {},
   "outputs": [
    {
     "name": "stdout",
     "output_type": "stream",
     "text": [
      "SVC F1 score: 0.925\n"
     ]
    }
   ],
   "source": [
    "score = f1_score(y_pred, y_test, average='micro')\n",
    "print (\"SVC F1 score: \" + str(score))"
   ]
  },
  {
   "cell_type": "markdown",
   "metadata": {},
   "source": [
    "# Random Forest"
   ]
  },
  {
   "cell_type": "code",
   "execution_count": 22,
   "metadata": {},
   "outputs": [
    {
     "data": {
      "text/plain": [
       "0.925"
      ]
     },
     "execution_count": 22,
     "metadata": {},
     "output_type": "execute_result"
    }
   ],
   "source": [
    "from sklearn.ensemble import RandomForestClassifier\n",
    "\n",
    "rf_clf = RandomForestClassifier(n_estimators=100)\n",
    "rf_clf.fit(X_train,y_train)\n",
    "y_pred = rf_clf.predict(X_test)\n",
    "accuracy_score(y_test, y_pred)"
   ]
  },
  {
   "cell_type": "code",
   "execution_count": 23,
   "metadata": {},
   "outputs": [
    {
     "name": "stdout",
     "output_type": "stream",
     "text": [
      "Random Forest classifier F1 score: 0.925\n"
     ]
    }
   ],
   "source": [
    "score = f1_score(y_pred, y_test, average='micro')\n",
    "print (\"Random Forest classifier F1 score: \" + str(score))"
   ]
  },
  {
   "cell_type": "markdown",
   "metadata": {},
   "source": [
    "\n",
    "\n",
    "\n",
    "\n",
    "# Wireless Indoor Localization Data Set"
   ]
  },
  {
   "cell_type": "code",
   "execution_count": 24,
   "metadata": {
    "scrolled": true
   },
   "outputs": [
    {
     "data": {
      "text/html": [
       "<div>\n",
       "<style scoped>\n",
       "    .dataframe tbody tr th:only-of-type {\n",
       "        vertical-align: middle;\n",
       "    }\n",
       "\n",
       "    .dataframe tbody tr th {\n",
       "        vertical-align: top;\n",
       "    }\n",
       "\n",
       "    .dataframe thead th {\n",
       "        text-align: right;\n",
       "    }\n",
       "</style>\n",
       "<table border=\"1\" class=\"dataframe\">\n",
       "  <thead>\n",
       "    <tr style=\"text-align: right;\">\n",
       "      <th></th>\n",
       "      <th>0</th>\n",
       "      <th>1</th>\n",
       "      <th>2</th>\n",
       "      <th>3</th>\n",
       "      <th>4</th>\n",
       "      <th>5</th>\n",
       "      <th>6</th>\n",
       "      <th>7</th>\n",
       "    </tr>\n",
       "  </thead>\n",
       "  <tbody>\n",
       "    <tr>\n",
       "      <th>0</th>\n",
       "      <td>-64</td>\n",
       "      <td>-56</td>\n",
       "      <td>-61</td>\n",
       "      <td>-66</td>\n",
       "      <td>-71</td>\n",
       "      <td>-82</td>\n",
       "      <td>-81</td>\n",
       "      <td>1</td>\n",
       "    </tr>\n",
       "    <tr>\n",
       "      <th>1</th>\n",
       "      <td>-68</td>\n",
       "      <td>-57</td>\n",
       "      <td>-61</td>\n",
       "      <td>-65</td>\n",
       "      <td>-71</td>\n",
       "      <td>-85</td>\n",
       "      <td>-85</td>\n",
       "      <td>1</td>\n",
       "    </tr>\n",
       "    <tr>\n",
       "      <th>2</th>\n",
       "      <td>-63</td>\n",
       "      <td>-60</td>\n",
       "      <td>-60</td>\n",
       "      <td>-67</td>\n",
       "      <td>-76</td>\n",
       "      <td>-85</td>\n",
       "      <td>-84</td>\n",
       "      <td>1</td>\n",
       "    </tr>\n",
       "    <tr>\n",
       "      <th>3</th>\n",
       "      <td>-61</td>\n",
       "      <td>-60</td>\n",
       "      <td>-68</td>\n",
       "      <td>-62</td>\n",
       "      <td>-77</td>\n",
       "      <td>-90</td>\n",
       "      <td>-80</td>\n",
       "      <td>1</td>\n",
       "    </tr>\n",
       "    <tr>\n",
       "      <th>4</th>\n",
       "      <td>-63</td>\n",
       "      <td>-65</td>\n",
       "      <td>-60</td>\n",
       "      <td>-63</td>\n",
       "      <td>-77</td>\n",
       "      <td>-81</td>\n",
       "      <td>-87</td>\n",
       "      <td>1</td>\n",
       "    </tr>\n",
       "  </tbody>\n",
       "</table>\n",
       "</div>"
      ],
      "text/plain": [
       "    0   1   2   3   4   5   6  7\n",
       "0 -64 -56 -61 -66 -71 -82 -81  1\n",
       "1 -68 -57 -61 -65 -71 -85 -85  1\n",
       "2 -63 -60 -60 -67 -76 -85 -84  1\n",
       "3 -61 -60 -68 -62 -77 -90 -80  1\n",
       "4 -63 -65 -60 -63 -77 -81 -87  1"
      ]
     },
     "execution_count": 24,
     "metadata": {},
     "output_type": "execute_result"
    }
   ],
   "source": [
    "wireless = pd.read_csv(\"wifi_localization.txt\", delimiter = r\"\\s+\", header = None)\n",
    "wireless.head()"
   ]
  },
  {
   "cell_type": "code",
   "execution_count": 25,
   "metadata": {},
   "outputs": [
    {
     "data": {
      "text/html": [
       "<div>\n",
       "<style scoped>\n",
       "    .dataframe tbody tr th:only-of-type {\n",
       "        vertical-align: middle;\n",
       "    }\n",
       "\n",
       "    .dataframe tbody tr th {\n",
       "        vertical-align: top;\n",
       "    }\n",
       "\n",
       "    .dataframe thead th {\n",
       "        text-align: right;\n",
       "    }\n",
       "</style>\n",
       "<table border=\"1\" class=\"dataframe\">\n",
       "  <thead>\n",
       "    <tr style=\"text-align: right;\">\n",
       "      <th></th>\n",
       "      <th>0</th>\n",
       "      <th>1</th>\n",
       "      <th>2</th>\n",
       "      <th>3</th>\n",
       "      <th>4</th>\n",
       "      <th>5</th>\n",
       "      <th>6</th>\n",
       "    </tr>\n",
       "  </thead>\n",
       "  <tbody>\n",
       "    <tr>\n",
       "      <th>0</th>\n",
       "      <td>-64</td>\n",
       "      <td>-56</td>\n",
       "      <td>-61</td>\n",
       "      <td>-66</td>\n",
       "      <td>-71</td>\n",
       "      <td>-82</td>\n",
       "      <td>-81</td>\n",
       "    </tr>\n",
       "    <tr>\n",
       "      <th>1</th>\n",
       "      <td>-68</td>\n",
       "      <td>-57</td>\n",
       "      <td>-61</td>\n",
       "      <td>-65</td>\n",
       "      <td>-71</td>\n",
       "      <td>-85</td>\n",
       "      <td>-85</td>\n",
       "    </tr>\n",
       "    <tr>\n",
       "      <th>2</th>\n",
       "      <td>-63</td>\n",
       "      <td>-60</td>\n",
       "      <td>-60</td>\n",
       "      <td>-67</td>\n",
       "      <td>-76</td>\n",
       "      <td>-85</td>\n",
       "      <td>-84</td>\n",
       "    </tr>\n",
       "    <tr>\n",
       "      <th>3</th>\n",
       "      <td>-61</td>\n",
       "      <td>-60</td>\n",
       "      <td>-68</td>\n",
       "      <td>-62</td>\n",
       "      <td>-77</td>\n",
       "      <td>-90</td>\n",
       "      <td>-80</td>\n",
       "    </tr>\n",
       "    <tr>\n",
       "      <th>4</th>\n",
       "      <td>-63</td>\n",
       "      <td>-65</td>\n",
       "      <td>-60</td>\n",
       "      <td>-63</td>\n",
       "      <td>-77</td>\n",
       "      <td>-81</td>\n",
       "      <td>-87</td>\n",
       "    </tr>\n",
       "  </tbody>\n",
       "</table>\n",
       "</div>"
      ],
      "text/plain": [
       "    0   1   2   3   4   5   6\n",
       "0 -64 -56 -61 -66 -71 -82 -81\n",
       "1 -68 -57 -61 -65 -71 -85 -85\n",
       "2 -63 -60 -60 -67 -76 -85 -84\n",
       "3 -61 -60 -68 -62 -77 -90 -80\n",
       "4 -63 -65 -60 -63 -77 -81 -87"
      ]
     },
     "execution_count": 25,
     "metadata": {},
     "output_type": "execute_result"
    }
   ],
   "source": [
    "X = pd.DataFrame(wireless)\n",
    "X = X.drop([7], axis=1)\n",
    "X.head()"
   ]
  },
  {
   "cell_type": "code",
   "execution_count": 26,
   "metadata": {},
   "outputs": [
    {
     "data": {
      "text/plain": [
       "0    1\n",
       "1    1\n",
       "2    1\n",
       "3    1\n",
       "4    1\n",
       "Name: 7, dtype: int64"
      ]
     },
     "execution_count": 26,
     "metadata": {},
     "output_type": "execute_result"
    }
   ],
   "source": [
    "y = wireless[7]\n",
    "X_train, X_test, y_train, y_test = train_test_split(X, y, test_size=0.05, random_state=5)\n",
    "y.head()"
   ]
  },
  {
   "cell_type": "markdown",
   "metadata": {},
   "source": [
    "# Multi-layer Perceptron classifier"
   ]
  },
  {
   "cell_type": "code",
   "execution_count": 27,
   "metadata": {},
   "outputs": [
    {
     "name": "stdout",
     "output_type": "stream",
     "text": [
      "Iteration 1, loss = 7.44670803\n",
      "Iteration 2, loss = 0.65687446\n",
      "Iteration 3, loss = 0.32680127\n",
      "Iteration 4, loss = 0.20941922\n",
      "Iteration 5, loss = 0.16724708\n",
      "Iteration 6, loss = 0.14250162\n",
      "Iteration 7, loss = 0.12590971\n",
      "Iteration 8, loss = 0.11751770\n",
      "Iteration 9, loss = 0.11059268\n",
      "Iteration 10, loss = 0.10140166\n",
      "Iteration 11, loss = 0.09737821\n",
      "Iteration 12, loss = 0.09555989\n",
      "Iteration 13, loss = 0.09160300\n",
      "Iteration 14, loss = 0.08830650\n",
      "Iteration 15, loss = 0.08615646\n",
      "Iteration 16, loss = 0.08652366\n",
      "Iteration 17, loss = 0.08228239\n",
      "Iteration 18, loss = 0.08091552\n",
      "Iteration 19, loss = 0.08058047\n",
      "Iteration 20, loss = 0.07822453\n",
      "Iteration 21, loss = 0.07965467\n",
      "Iteration 22, loss = 0.07562550\n",
      "Iteration 23, loss = 0.07291193\n",
      "Iteration 24, loss = 0.07575721\n",
      "Iteration 25, loss = 0.07415664\n",
      "Iteration 26, loss = 0.07253708\n",
      "Iteration 27, loss = 0.07137740\n",
      "Iteration 28, loss = 0.07341850\n",
      "Iteration 29, loss = 0.07178214\n",
      "Iteration 30, loss = 0.06634569\n",
      "Iteration 31, loss = 0.07449410\n",
      "Iteration 32, loss = 0.07487455\n",
      "Iteration 33, loss = 0.06982895\n",
      "Iteration 34, loss = 0.06721118\n",
      "Iteration 35, loss = 0.06697061\n",
      "Iteration 36, loss = 0.06862157\n",
      "Iteration 37, loss = 0.06778702\n",
      "Iteration 38, loss = 0.07022638\n",
      "Iteration 39, loss = 0.06782793\n",
      "Iteration 40, loss = 0.06775411\n",
      "Iteration 41, loss = 0.06771862\n",
      "Training loss did not improve more than tol=0.000000 for 10 consecutive epochs. Stopping.\n"
     ]
    }
   ],
   "source": [
    "mlp_clf = MLPClassifier(hidden_layer_sizes=(100,100,100), max_iter=500, alpha=0.0001, \n",
    "                    solver='sgd', verbose=10, random_state=21, tol=0.000000001)\n",
    "mlp_clf.fit(X_train, y_train)\n",
    "y_pred = mlp_clf.predict(X_test)"
   ]
  },
  {
   "cell_type": "code",
   "execution_count": 28,
   "metadata": {},
   "outputs": [
    {
     "data": {
      "text/plain": [
       "0.97"
      ]
     },
     "execution_count": 28,
     "metadata": {},
     "output_type": "execute_result"
    }
   ],
   "source": [
    "accuracy_score(y_test, y_pred)"
   ]
  },
  {
   "cell_type": "code",
   "execution_count": 29,
   "metadata": {},
   "outputs": [
    {
     "name": "stdout",
     "output_type": "stream",
     "text": [
      "Multi-layer Perceptron classifier F1 score: 0.97\n"
     ]
    }
   ],
   "source": [
    "score = f1_score(y_pred, y_test, average='micro')\n",
    "print (\"Multi-layer Perceptron classifier F1 score: \" + str(score))"
   ]
  },
  {
   "cell_type": "markdown",
   "metadata": {},
   "source": [
    "# K Nearest Neighbours"
   ]
  },
  {
   "cell_type": "code",
   "execution_count": 30,
   "metadata": {},
   "outputs": [
    {
     "data": {
      "text/plain": [
       "KNeighborsClassifier(algorithm='brute', leaf_size=30, metric='minkowski',\n",
       "           metric_params=None, n_jobs=1, n_neighbors=4, p=2,\n",
       "           weights='distance')"
      ]
     },
     "execution_count": 30,
     "metadata": {},
     "output_type": "execute_result"
    }
   ],
   "source": [
    "knn_clf = KNeighborsClassifier(algorithm='brute', leaf_size=30, metric='minkowski',\n",
    "           metric_params=None, n_jobs=1, n_neighbors=4, p=2,\n",
    "           weights='distance')\n",
    "knn_clf.fit(X_train,y_train)"
   ]
  },
  {
   "cell_type": "code",
   "execution_count": 31,
   "metadata": {},
   "outputs": [
    {
     "data": {
      "text/plain": [
       "0.98"
      ]
     },
     "execution_count": 31,
     "metadata": {},
     "output_type": "execute_result"
    }
   ],
   "source": [
    "y_pred = knn_clf.predict(X_test)\n",
    "accuracy_score(y_test,y_pred)"
   ]
  },
  {
   "cell_type": "code",
   "execution_count": 32,
   "metadata": {},
   "outputs": [
    {
     "name": "stdout",
     "output_type": "stream",
     "text": [
      "K Nearest Neighbours classifier F1 score: 0.98\n"
     ]
    }
   ],
   "source": [
    "score = f1_score(y_pred, y_test, average='micro')\n",
    "print (\"K Nearest Neighbours classifier F1 score: \" + str(score))"
   ]
  },
  {
   "cell_type": "markdown",
   "metadata": {},
   "source": [
    "# Decision Tree"
   ]
  },
  {
   "cell_type": "code",
   "execution_count": 33,
   "metadata": {},
   "outputs": [
    {
     "data": {
      "text/plain": [
       "0.97"
      ]
     },
     "execution_count": 33,
     "metadata": {},
     "output_type": "execute_result"
    }
   ],
   "source": [
    "dt_clf = tree.DecisionTreeClassifier()\n",
    "dt_clf.fit(X_train, y_train)\n",
    "y_pred = dt_clf.predict(X_test)\n",
    "accuracy_score(y_test, y_pred)"
   ]
  },
  {
   "cell_type": "code",
   "execution_count": 34,
   "metadata": {},
   "outputs": [
    {
     "name": "stdout",
     "output_type": "stream",
     "text": [
      "Decision Tree classifier F1 score: 0.97\n"
     ]
    }
   ],
   "source": [
    "score = f1_score(y_pred, y_test, average='micro')\n",
    "print (\"Decision Tree classifier F1 score: \" + str(score))"
   ]
  },
  {
   "cell_type": "markdown",
   "metadata": {},
   "source": [
    "# SVC"
   ]
  },
  {
   "cell_type": "code",
   "execution_count": 35,
   "metadata": {},
   "outputs": [
    {
     "data": {
      "text/plain": [
       "0.97"
      ]
     },
     "execution_count": 35,
     "metadata": {},
     "output_type": "execute_result"
    }
   ],
   "source": [
    "sv_clf = SVC(kernel='linear')  \n",
    "sv_clf.fit(X_train, y_train)  \n",
    "y_pred = sv_clf.predict(X_test)  \n",
    "accuracy_score(y_test, y_pred)"
   ]
  },
  {
   "cell_type": "code",
   "execution_count": 36,
   "metadata": {},
   "outputs": [
    {
     "name": "stdout",
     "output_type": "stream",
     "text": [
      "SVC F1 score: 0.97\n"
     ]
    }
   ],
   "source": [
    "score = f1_score(y_pred, y_test, average='micro')\n",
    "print (\"SVC F1 score: \" + str(score))"
   ]
  },
  {
   "cell_type": "markdown",
   "metadata": {},
   "source": [
    "# Random Forest"
   ]
  },
  {
   "cell_type": "code",
   "execution_count": 37,
   "metadata": {},
   "outputs": [
    {
     "data": {
      "text/plain": [
       "0.98"
      ]
     },
     "execution_count": 37,
     "metadata": {},
     "output_type": "execute_result"
    }
   ],
   "source": [
    "rf_clf = RandomForestClassifier(n_estimators=100)\n",
    "rf_clf.fit(X_train,y_train)\n",
    "y_pred = rf_clf.predict(X_test)\n",
    "accuracy_score(y_test, y_pred)"
   ]
  },
  {
   "cell_type": "code",
   "execution_count": 38,
   "metadata": {},
   "outputs": [
    {
     "name": "stdout",
     "output_type": "stream",
     "text": [
      "Random Forest classifier F1 score: 0.98\n"
     ]
    }
   ],
   "source": [
    "score = f1_score(y_pred, y_test, average='micro')\n",
    "print (\"Random Forest classifier F1 score: \" + str(score))"
   ]
  },
  {
   "cell_type": "markdown",
   "metadata": {},
   "source": [
    "# Spambase Data Set"
   ]
  },
  {
   "cell_type": "code",
   "execution_count": 39,
   "metadata": {
    "scrolled": true
   },
   "outputs": [
    {
     "data": {
      "text/html": [
       "<div>\n",
       "<style scoped>\n",
       "    .dataframe tbody tr th:only-of-type {\n",
       "        vertical-align: middle;\n",
       "    }\n",
       "\n",
       "    .dataframe tbody tr th {\n",
       "        vertical-align: top;\n",
       "    }\n",
       "\n",
       "    .dataframe thead th {\n",
       "        text-align: right;\n",
       "    }\n",
       "</style>\n",
       "<table border=\"1\" class=\"dataframe\">\n",
       "  <thead>\n",
       "    <tr style=\"text-align: right;\">\n",
       "      <th></th>\n",
       "      <th>0</th>\n",
       "      <th>1</th>\n",
       "      <th>2</th>\n",
       "      <th>3</th>\n",
       "      <th>4</th>\n",
       "      <th>5</th>\n",
       "      <th>6</th>\n",
       "      <th>7</th>\n",
       "      <th>8</th>\n",
       "      <th>9</th>\n",
       "      <th>...</th>\n",
       "      <th>48</th>\n",
       "      <th>49</th>\n",
       "      <th>50</th>\n",
       "      <th>51</th>\n",
       "      <th>52</th>\n",
       "      <th>53</th>\n",
       "      <th>54</th>\n",
       "      <th>55</th>\n",
       "      <th>56</th>\n",
       "      <th>57</th>\n",
       "    </tr>\n",
       "  </thead>\n",
       "  <tbody>\n",
       "    <tr>\n",
       "      <th>0</th>\n",
       "      <td>0.00</td>\n",
       "      <td>0.64</td>\n",
       "      <td>0.64</td>\n",
       "      <td>0.0</td>\n",
       "      <td>0.32</td>\n",
       "      <td>0.00</td>\n",
       "      <td>0.00</td>\n",
       "      <td>0.00</td>\n",
       "      <td>0.00</td>\n",
       "      <td>0.00</td>\n",
       "      <td>...</td>\n",
       "      <td>0.00</td>\n",
       "      <td>0.000</td>\n",
       "      <td>0.0</td>\n",
       "      <td>0.778</td>\n",
       "      <td>0.000</td>\n",
       "      <td>0.000</td>\n",
       "      <td>3.756</td>\n",
       "      <td>61</td>\n",
       "      <td>278</td>\n",
       "      <td>1</td>\n",
       "    </tr>\n",
       "    <tr>\n",
       "      <th>1</th>\n",
       "      <td>0.21</td>\n",
       "      <td>0.28</td>\n",
       "      <td>0.50</td>\n",
       "      <td>0.0</td>\n",
       "      <td>0.14</td>\n",
       "      <td>0.28</td>\n",
       "      <td>0.21</td>\n",
       "      <td>0.07</td>\n",
       "      <td>0.00</td>\n",
       "      <td>0.94</td>\n",
       "      <td>...</td>\n",
       "      <td>0.00</td>\n",
       "      <td>0.132</td>\n",
       "      <td>0.0</td>\n",
       "      <td>0.372</td>\n",
       "      <td>0.180</td>\n",
       "      <td>0.048</td>\n",
       "      <td>5.114</td>\n",
       "      <td>101</td>\n",
       "      <td>1028</td>\n",
       "      <td>1</td>\n",
       "    </tr>\n",
       "    <tr>\n",
       "      <th>2</th>\n",
       "      <td>0.06</td>\n",
       "      <td>0.00</td>\n",
       "      <td>0.71</td>\n",
       "      <td>0.0</td>\n",
       "      <td>1.23</td>\n",
       "      <td>0.19</td>\n",
       "      <td>0.19</td>\n",
       "      <td>0.12</td>\n",
       "      <td>0.64</td>\n",
       "      <td>0.25</td>\n",
       "      <td>...</td>\n",
       "      <td>0.01</td>\n",
       "      <td>0.143</td>\n",
       "      <td>0.0</td>\n",
       "      <td>0.276</td>\n",
       "      <td>0.184</td>\n",
       "      <td>0.010</td>\n",
       "      <td>9.821</td>\n",
       "      <td>485</td>\n",
       "      <td>2259</td>\n",
       "      <td>1</td>\n",
       "    </tr>\n",
       "    <tr>\n",
       "      <th>3</th>\n",
       "      <td>0.00</td>\n",
       "      <td>0.00</td>\n",
       "      <td>0.00</td>\n",
       "      <td>0.0</td>\n",
       "      <td>0.63</td>\n",
       "      <td>0.00</td>\n",
       "      <td>0.31</td>\n",
       "      <td>0.63</td>\n",
       "      <td>0.31</td>\n",
       "      <td>0.63</td>\n",
       "      <td>...</td>\n",
       "      <td>0.00</td>\n",
       "      <td>0.137</td>\n",
       "      <td>0.0</td>\n",
       "      <td>0.137</td>\n",
       "      <td>0.000</td>\n",
       "      <td>0.000</td>\n",
       "      <td>3.537</td>\n",
       "      <td>40</td>\n",
       "      <td>191</td>\n",
       "      <td>1</td>\n",
       "    </tr>\n",
       "    <tr>\n",
       "      <th>4</th>\n",
       "      <td>0.00</td>\n",
       "      <td>0.00</td>\n",
       "      <td>0.00</td>\n",
       "      <td>0.0</td>\n",
       "      <td>0.63</td>\n",
       "      <td>0.00</td>\n",
       "      <td>0.31</td>\n",
       "      <td>0.63</td>\n",
       "      <td>0.31</td>\n",
       "      <td>0.63</td>\n",
       "      <td>...</td>\n",
       "      <td>0.00</td>\n",
       "      <td>0.135</td>\n",
       "      <td>0.0</td>\n",
       "      <td>0.135</td>\n",
       "      <td>0.000</td>\n",
       "      <td>0.000</td>\n",
       "      <td>3.537</td>\n",
       "      <td>40</td>\n",
       "      <td>191</td>\n",
       "      <td>1</td>\n",
       "    </tr>\n",
       "  </tbody>\n",
       "</table>\n",
       "<p>5 rows × 58 columns</p>\n",
       "</div>"
      ],
      "text/plain": [
       "     0     1     2    3     4     5     6     7     8     9  ...    48     49  \\\n",
       "0  0.00  0.64  0.64  0.0  0.32  0.00  0.00  0.00  0.00  0.00 ...  0.00  0.000   \n",
       "1  0.21  0.28  0.50  0.0  0.14  0.28  0.21  0.07  0.00  0.94 ...  0.00  0.132   \n",
       "2  0.06  0.00  0.71  0.0  1.23  0.19  0.19  0.12  0.64  0.25 ...  0.01  0.143   \n",
       "3  0.00  0.00  0.00  0.0  0.63  0.00  0.31  0.63  0.31  0.63 ...  0.00  0.137   \n",
       "4  0.00  0.00  0.00  0.0  0.63  0.00  0.31  0.63  0.31  0.63 ...  0.00  0.135   \n",
       "\n",
       "    50     51     52     53     54   55    56  57  \n",
       "0  0.0  0.778  0.000  0.000  3.756   61   278   1  \n",
       "1  0.0  0.372  0.180  0.048  5.114  101  1028   1  \n",
       "2  0.0  0.276  0.184  0.010  9.821  485  2259   1  \n",
       "3  0.0  0.137  0.000  0.000  3.537   40   191   1  \n",
       "4  0.0  0.135  0.000  0.000  3.537   40   191   1  \n",
       "\n",
       "[5 rows x 58 columns]"
      ]
     },
     "execution_count": 39,
     "metadata": {},
     "output_type": "execute_result"
    }
   ],
   "source": [
    "spambase = pd.read_csv(\"spambase.data\", delimiter = \",\", header = None)\n",
    "spambase.head()"
   ]
  },
  {
   "cell_type": "code",
   "execution_count": 40,
   "metadata": {},
   "outputs": [
    {
     "data": {
      "text/html": [
       "<div>\n",
       "<style scoped>\n",
       "    .dataframe tbody tr th:only-of-type {\n",
       "        vertical-align: middle;\n",
       "    }\n",
       "\n",
       "    .dataframe tbody tr th {\n",
       "        vertical-align: top;\n",
       "    }\n",
       "\n",
       "    .dataframe thead th {\n",
       "        text-align: right;\n",
       "    }\n",
       "</style>\n",
       "<table border=\"1\" class=\"dataframe\">\n",
       "  <thead>\n",
       "    <tr style=\"text-align: right;\">\n",
       "      <th></th>\n",
       "      <th>0</th>\n",
       "      <th>1</th>\n",
       "      <th>2</th>\n",
       "      <th>3</th>\n",
       "      <th>4</th>\n",
       "      <th>5</th>\n",
       "      <th>6</th>\n",
       "      <th>7</th>\n",
       "      <th>8</th>\n",
       "      <th>9</th>\n",
       "      <th>...</th>\n",
       "      <th>47</th>\n",
       "      <th>48</th>\n",
       "      <th>49</th>\n",
       "      <th>50</th>\n",
       "      <th>51</th>\n",
       "      <th>52</th>\n",
       "      <th>53</th>\n",
       "      <th>54</th>\n",
       "      <th>55</th>\n",
       "      <th>56</th>\n",
       "    </tr>\n",
       "  </thead>\n",
       "  <tbody>\n",
       "    <tr>\n",
       "      <th>0</th>\n",
       "      <td>0.00</td>\n",
       "      <td>0.64</td>\n",
       "      <td>0.64</td>\n",
       "      <td>0.0</td>\n",
       "      <td>0.32</td>\n",
       "      <td>0.00</td>\n",
       "      <td>0.00</td>\n",
       "      <td>0.00</td>\n",
       "      <td>0.00</td>\n",
       "      <td>0.00</td>\n",
       "      <td>...</td>\n",
       "      <td>0.0</td>\n",
       "      <td>0.00</td>\n",
       "      <td>0.000</td>\n",
       "      <td>0.0</td>\n",
       "      <td>0.778</td>\n",
       "      <td>0.000</td>\n",
       "      <td>0.000</td>\n",
       "      <td>3.756</td>\n",
       "      <td>61</td>\n",
       "      <td>278</td>\n",
       "    </tr>\n",
       "    <tr>\n",
       "      <th>1</th>\n",
       "      <td>0.21</td>\n",
       "      <td>0.28</td>\n",
       "      <td>0.50</td>\n",
       "      <td>0.0</td>\n",
       "      <td>0.14</td>\n",
       "      <td>0.28</td>\n",
       "      <td>0.21</td>\n",
       "      <td>0.07</td>\n",
       "      <td>0.00</td>\n",
       "      <td>0.94</td>\n",
       "      <td>...</td>\n",
       "      <td>0.0</td>\n",
       "      <td>0.00</td>\n",
       "      <td>0.132</td>\n",
       "      <td>0.0</td>\n",
       "      <td>0.372</td>\n",
       "      <td>0.180</td>\n",
       "      <td>0.048</td>\n",
       "      <td>5.114</td>\n",
       "      <td>101</td>\n",
       "      <td>1028</td>\n",
       "    </tr>\n",
       "    <tr>\n",
       "      <th>2</th>\n",
       "      <td>0.06</td>\n",
       "      <td>0.00</td>\n",
       "      <td>0.71</td>\n",
       "      <td>0.0</td>\n",
       "      <td>1.23</td>\n",
       "      <td>0.19</td>\n",
       "      <td>0.19</td>\n",
       "      <td>0.12</td>\n",
       "      <td>0.64</td>\n",
       "      <td>0.25</td>\n",
       "      <td>...</td>\n",
       "      <td>0.0</td>\n",
       "      <td>0.01</td>\n",
       "      <td>0.143</td>\n",
       "      <td>0.0</td>\n",
       "      <td>0.276</td>\n",
       "      <td>0.184</td>\n",
       "      <td>0.010</td>\n",
       "      <td>9.821</td>\n",
       "      <td>485</td>\n",
       "      <td>2259</td>\n",
       "    </tr>\n",
       "    <tr>\n",
       "      <th>3</th>\n",
       "      <td>0.00</td>\n",
       "      <td>0.00</td>\n",
       "      <td>0.00</td>\n",
       "      <td>0.0</td>\n",
       "      <td>0.63</td>\n",
       "      <td>0.00</td>\n",
       "      <td>0.31</td>\n",
       "      <td>0.63</td>\n",
       "      <td>0.31</td>\n",
       "      <td>0.63</td>\n",
       "      <td>...</td>\n",
       "      <td>0.0</td>\n",
       "      <td>0.00</td>\n",
       "      <td>0.137</td>\n",
       "      <td>0.0</td>\n",
       "      <td>0.137</td>\n",
       "      <td>0.000</td>\n",
       "      <td>0.000</td>\n",
       "      <td>3.537</td>\n",
       "      <td>40</td>\n",
       "      <td>191</td>\n",
       "    </tr>\n",
       "    <tr>\n",
       "      <th>4</th>\n",
       "      <td>0.00</td>\n",
       "      <td>0.00</td>\n",
       "      <td>0.00</td>\n",
       "      <td>0.0</td>\n",
       "      <td>0.63</td>\n",
       "      <td>0.00</td>\n",
       "      <td>0.31</td>\n",
       "      <td>0.63</td>\n",
       "      <td>0.31</td>\n",
       "      <td>0.63</td>\n",
       "      <td>...</td>\n",
       "      <td>0.0</td>\n",
       "      <td>0.00</td>\n",
       "      <td>0.135</td>\n",
       "      <td>0.0</td>\n",
       "      <td>0.135</td>\n",
       "      <td>0.000</td>\n",
       "      <td>0.000</td>\n",
       "      <td>3.537</td>\n",
       "      <td>40</td>\n",
       "      <td>191</td>\n",
       "    </tr>\n",
       "  </tbody>\n",
       "</table>\n",
       "<p>5 rows × 57 columns</p>\n",
       "</div>"
      ],
      "text/plain": [
       "     0     1     2    3     4     5     6     7     8     9   ...    47    48  \\\n",
       "0  0.00  0.64  0.64  0.0  0.32  0.00  0.00  0.00  0.00  0.00  ...   0.0  0.00   \n",
       "1  0.21  0.28  0.50  0.0  0.14  0.28  0.21  0.07  0.00  0.94  ...   0.0  0.00   \n",
       "2  0.06  0.00  0.71  0.0  1.23  0.19  0.19  0.12  0.64  0.25  ...   0.0  0.01   \n",
       "3  0.00  0.00  0.00  0.0  0.63  0.00  0.31  0.63  0.31  0.63  ...   0.0  0.00   \n",
       "4  0.00  0.00  0.00  0.0  0.63  0.00  0.31  0.63  0.31  0.63  ...   0.0  0.00   \n",
       "\n",
       "      49   50     51     52     53     54   55    56  \n",
       "0  0.000  0.0  0.778  0.000  0.000  3.756   61   278  \n",
       "1  0.132  0.0  0.372  0.180  0.048  5.114  101  1028  \n",
       "2  0.143  0.0  0.276  0.184  0.010  9.821  485  2259  \n",
       "3  0.137  0.0  0.137  0.000  0.000  3.537   40   191  \n",
       "4  0.135  0.0  0.135  0.000  0.000  3.537   40   191  \n",
       "\n",
       "[5 rows x 57 columns]"
      ]
     },
     "execution_count": 40,
     "metadata": {},
     "output_type": "execute_result"
    }
   ],
   "source": [
    "X = pd.DataFrame(spambase)\n",
    "X = X.drop([57], axis=1)\n",
    "X.head()"
   ]
  },
  {
   "cell_type": "code",
   "execution_count": 41,
   "metadata": {},
   "outputs": [
    {
     "data": {
      "text/plain": [
       "0    1\n",
       "1    1\n",
       "2    1\n",
       "3    1\n",
       "4    1\n",
       "Name: 57, dtype: int64"
      ]
     },
     "execution_count": 41,
     "metadata": {},
     "output_type": "execute_result"
    }
   ],
   "source": [
    "y = spambase[57]\n",
    "X_train, X_test, y_train, y_test = train_test_split(X, y, test_size=0.05, random_state=5)\n",
    "y.head()"
   ]
  },
  {
   "cell_type": "markdown",
   "metadata": {},
   "source": [
    "# Multi-layer Perceptron classifier"
   ]
  },
  {
   "cell_type": "code",
   "execution_count": 42,
   "metadata": {},
   "outputs": [
    {
     "name": "stdout",
     "output_type": "stream",
     "text": [
      "Iteration 1, loss = 1.96573516\n",
      "Iteration 2, loss = 0.65777480\n",
      "Iteration 3, loss = 0.63437209\n",
      "Iteration 4, loss = 0.61852457\n",
      "Iteration 5, loss = 0.60619805\n",
      "Iteration 6, loss = 0.60690155\n",
      "Iteration 7, loss = 0.60629056\n",
      "Iteration 8, loss = 0.58706942\n",
      "Iteration 9, loss = 0.59438075\n",
      "Iteration 10, loss = 0.57883159\n",
      "Iteration 11, loss = 0.58736389\n",
      "Iteration 12, loss = 0.56734637\n",
      "Iteration 13, loss = 0.56185700\n",
      "Iteration 14, loss = 0.56483194\n",
      "Iteration 15, loss = 0.55583847\n",
      "Iteration 16, loss = 0.56015678\n",
      "Iteration 17, loss = 0.55668500\n",
      "Iteration 18, loss = 0.57131005\n",
      "Iteration 19, loss = 0.56250385\n",
      "Iteration 20, loss = 0.54300899\n",
      "Iteration 21, loss = 0.53797225\n",
      "Iteration 22, loss = 0.55069626\n",
      "Iteration 23, loss = 0.53502951\n",
      "Iteration 24, loss = 0.53559707\n",
      "Iteration 25, loss = 0.53622801\n",
      "Iteration 26, loss = 0.53550958\n",
      "Iteration 27, loss = 0.53057815\n",
      "Iteration 28, loss = 0.52153850\n",
      "Iteration 29, loss = 0.52128857\n",
      "Iteration 30, loss = 0.52705831\n",
      "Iteration 31, loss = 0.52463062\n",
      "Iteration 32, loss = 0.54766447\n",
      "Iteration 33, loss = 0.52248767\n",
      "Iteration 34, loss = 0.52366047\n",
      "Iteration 35, loss = 0.51112815\n",
      "Iteration 36, loss = 0.51691144\n",
      "Iteration 37, loss = 0.56086535\n",
      "Iteration 38, loss = 0.54591546\n",
      "Iteration 39, loss = 0.53247401\n",
      "Iteration 40, loss = 0.51397405\n",
      "Iteration 41, loss = 0.52154813\n",
      "Iteration 42, loss = 0.53623431\n",
      "Iteration 43, loss = 0.53472355\n",
      "Iteration 44, loss = 0.52335279\n",
      "Iteration 45, loss = 0.50410138\n",
      "Iteration 46, loss = 0.52327146\n",
      "Iteration 47, loss = 0.49729050\n",
      "Iteration 48, loss = 0.49658269\n",
      "Iteration 49, loss = 0.48784014\n",
      "Iteration 50, loss = 0.55911753\n",
      "Iteration 51, loss = 0.52316296\n",
      "Iteration 52, loss = 0.52049077\n",
      "Iteration 53, loss = 0.51405521\n",
      "Iteration 54, loss = 0.51694026\n",
      "Iteration 55, loss = 0.50358678\n",
      "Iteration 56, loss = 0.50605630\n",
      "Iteration 57, loss = 0.51700887\n",
      "Iteration 58, loss = 0.49311818\n",
      "Iteration 59, loss = 0.48609488\n",
      "Iteration 60, loss = 0.57880555\n",
      "Iteration 61, loss = 0.51798772\n",
      "Iteration 62, loss = 0.50259350\n",
      "Iteration 63, loss = 0.49834688\n",
      "Iteration 64, loss = 0.50389891\n",
      "Iteration 65, loss = 0.49721438\n",
      "Iteration 66, loss = 0.47389955\n",
      "Iteration 67, loss = 0.57750844\n",
      "Iteration 68, loss = 0.52029753\n",
      "Iteration 69, loss = 0.52089755\n",
      "Iteration 70, loss = 0.51259243\n",
      "Iteration 71, loss = 0.51383218\n",
      "Iteration 72, loss = 0.52844929\n",
      "Iteration 73, loss = 0.50083601\n",
      "Iteration 74, loss = 0.48218427\n",
      "Iteration 75, loss = 0.49910124\n",
      "Iteration 76, loss = 0.48520254\n",
      "Iteration 77, loss = 0.47035707\n",
      "Iteration 78, loss = 0.51539346\n",
      "Iteration 79, loss = 0.47213340\n",
      "Iteration 80, loss = 0.50429316\n",
      "Iteration 81, loss = 0.54444043\n",
      "Iteration 82, loss = 0.50105607\n",
      "Iteration 83, loss = 0.49150748\n",
      "Iteration 84, loss = 0.50065838\n",
      "Iteration 85, loss = 0.46854190\n",
      "Iteration 86, loss = 0.50757425\n",
      "Iteration 87, loss = 0.48424660\n",
      "Iteration 88, loss = 0.46538866\n",
      "Iteration 89, loss = 0.59491404\n",
      "Iteration 90, loss = 0.49721234\n",
      "Iteration 91, loss = 0.48834802\n",
      "Iteration 92, loss = 0.49044301\n",
      "Iteration 93, loss = 0.47003515\n",
      "Iteration 94, loss = 0.52897096\n",
      "Iteration 95, loss = 0.47768749\n",
      "Iteration 96, loss = 0.49934889\n",
      "Iteration 97, loss = 0.48612232\n",
      "Iteration 98, loss = 0.45788731\n",
      "Iteration 99, loss = 0.50679357\n",
      "Iteration 100, loss = 0.47399871\n",
      "Iteration 101, loss = 0.45441906\n",
      "Iteration 102, loss = 0.51351705\n",
      "Iteration 103, loss = 0.49942514\n",
      "Iteration 104, loss = 0.49356918\n",
      "Iteration 105, loss = 0.48250511\n",
      "Iteration 106, loss = 0.46774257\n",
      "Iteration 107, loss = 0.45860957\n",
      "Iteration 108, loss = 0.44876238\n",
      "Iteration 109, loss = 0.43701119\n",
      "Iteration 110, loss = 0.44861390\n",
      "Iteration 111, loss = 0.50401841\n",
      "Iteration 112, loss = 0.49094652\n",
      "Iteration 113, loss = 0.49308644\n",
      "Iteration 114, loss = 0.49653631\n",
      "Iteration 115, loss = 0.47465979\n",
      "Iteration 116, loss = 0.46754394\n",
      "Iteration 117, loss = 0.45457836\n",
      "Iteration 118, loss = 0.43631984\n",
      "Iteration 119, loss = 0.45264030\n",
      "Iteration 120, loss = 0.48580241\n",
      "Iteration 121, loss = 0.47046271\n",
      "Iteration 122, loss = 0.51813617\n",
      "Iteration 123, loss = 0.51159844\n",
      "Iteration 124, loss = 0.49799208\n",
      "Iteration 125, loss = 0.47365082\n",
      "Iteration 126, loss = 0.47995646\n",
      "Iteration 127, loss = 0.50069918\n",
      "Iteration 128, loss = 0.45098575\n",
      "Iteration 129, loss = 0.46174904\n",
      "Training loss did not improve more than tol=0.000000 for 10 consecutive epochs. Stopping.\n"
     ]
    }
   ],
   "source": [
    "mlp_clf = MLPClassifier(hidden_layer_sizes=(100,100,100), max_iter=500, alpha=0.0001, \n",
    "                    solver='sgd', verbose=10, random_state=21, tol=0.000000001)\n",
    "mlp_clf.fit(X_train, y_train)\n",
    "y_pred = mlp_clf.predict(X_test)"
   ]
  },
  {
   "cell_type": "code",
   "execution_count": 43,
   "metadata": {},
   "outputs": [
    {
     "data": {
      "text/plain": [
       "0.7748917748917749"
      ]
     },
     "execution_count": 43,
     "metadata": {},
     "output_type": "execute_result"
    }
   ],
   "source": [
    "accuracy_score(y_test, y_pred)"
   ]
  },
  {
   "cell_type": "code",
   "execution_count": 44,
   "metadata": {},
   "outputs": [
    {
     "name": "stdout",
     "output_type": "stream",
     "text": [
      "Multi-layer Perceptron classifier F1 score: 0.7748917748917749\n"
     ]
    }
   ],
   "source": [
    "score = f1_score(y_pred, y_test, average='micro')\n",
    "print (\"Multi-layer Perceptron classifier F1 score: \" + str(score))"
   ]
  },
  {
   "cell_type": "markdown",
   "metadata": {},
   "source": [
    "# K Nearest Neighbours"
   ]
  },
  {
   "cell_type": "code",
   "execution_count": 45,
   "metadata": {},
   "outputs": [
    {
     "data": {
      "text/plain": [
       "KNeighborsClassifier(algorithm='brute', leaf_size=30, metric='minkowski',\n",
       "           metric_params=None, n_jobs=1, n_neighbors=4, p=2,\n",
       "           weights='distance')"
      ]
     },
     "execution_count": 45,
     "metadata": {},
     "output_type": "execute_result"
    }
   ],
   "source": [
    "knn_clf = KNeighborsClassifier(algorithm='brute', leaf_size=30, metric='minkowski',\n",
    "           metric_params=None, n_jobs=1, n_neighbors=4, p=2,\n",
    "           weights='distance')\n",
    "knn_clf.fit(X_train,y_train)"
   ]
  },
  {
   "cell_type": "code",
   "execution_count": 46,
   "metadata": {},
   "outputs": [
    {
     "data": {
      "text/plain": [
       "0.8051948051948052"
      ]
     },
     "execution_count": 46,
     "metadata": {},
     "output_type": "execute_result"
    }
   ],
   "source": [
    "y_pred = knn_clf.predict(X_test)\n",
    "accuracy_score(y_test,y_pred)"
   ]
  },
  {
   "cell_type": "code",
   "execution_count": 47,
   "metadata": {},
   "outputs": [
    {
     "name": "stdout",
     "output_type": "stream",
     "text": [
      "K Nearest Neighbours classifier F1 score: 0.8051948051948051\n"
     ]
    }
   ],
   "source": [
    "score = f1_score(y_pred, y_test, average='micro')\n",
    "print (\"K Nearest Neighbours classifier F1 score: \" + str(score))"
   ]
  },
  {
   "cell_type": "markdown",
   "metadata": {},
   "source": [
    "# Decision Tree"
   ]
  },
  {
   "cell_type": "code",
   "execution_count": 48,
   "metadata": {},
   "outputs": [
    {
     "data": {
      "text/plain": [
       "0.9393939393939394"
      ]
     },
     "execution_count": 48,
     "metadata": {},
     "output_type": "execute_result"
    }
   ],
   "source": [
    "dt_clf = tree.DecisionTreeClassifier()\n",
    "dt_clf.fit(X_train, y_train)\n",
    "y_pred = dt_clf.predict(X_test)\n",
    "accuracy_score(y_test, y_pred)"
   ]
  },
  {
   "cell_type": "code",
   "execution_count": 49,
   "metadata": {},
   "outputs": [
    {
     "name": "stdout",
     "output_type": "stream",
     "text": [
      "Decision Tree classifier F1 score: 0.9393939393939394\n"
     ]
    }
   ],
   "source": [
    "score = f1_score(y_pred, y_test, average='micro')\n",
    "print (\"Decision Tree classifier F1 score: \" + str(score))"
   ]
  },
  {
   "cell_type": "markdown",
   "metadata": {},
   "source": [
    "# SVC"
   ]
  },
  {
   "cell_type": "code",
   "execution_count": null,
   "metadata": {},
   "outputs": [],
   "source": [
    "sv_clf = SVC(kernel='linear')  \n",
    "sv_clf.fit(X_train, y_train)  \n",
    "y_pred = sv_clf.predict(X_test)  \n",
    "accuracy_score(y_test, y_pred)"
   ]
  },
  {
   "cell_type": "code",
   "execution_count": null,
   "metadata": {},
   "outputs": [],
   "source": [
    "score = f1_score(y_pred, y_test, average='micro')\n",
    "print (\"SVC F1 score: \" + str(score))"
   ]
  },
  {
   "cell_type": "markdown",
   "metadata": {},
   "source": [
    "# Random Forest"
   ]
  },
  {
   "cell_type": "code",
   "execution_count": 50,
   "metadata": {},
   "outputs": [
    {
     "data": {
      "text/plain": [
       "0.9696969696969697"
      ]
     },
     "execution_count": 50,
     "metadata": {},
     "output_type": "execute_result"
    }
   ],
   "source": [
    "rf_clf = RandomForestClassifier(n_estimators=100)\n",
    "rf_clf.fit(X_train,y_train)\n",
    "y_pred = rf_clf.predict(X_test)\n",
    "accuracy_score(y_test, y_pred)"
   ]
  },
  {
   "cell_type": "code",
   "execution_count": 51,
   "metadata": {},
   "outputs": [
    {
     "name": "stdout",
     "output_type": "stream",
     "text": [
      "Random Forest classifier F1 score: 0.9696969696969697\n"
     ]
    }
   ],
   "source": [
    "score = f1_score(y_pred, y_test, average='micro')\n",
    "print (\"Random Forest classifier F1 score: \" + str(score))"
   ]
  },
  {
   "cell_type": "markdown",
   "metadata": {},
   "source": [
    "\n",
    "\n",
    "\n",
    "\n",
    "# Smartphone Dataset for Human Activity Recognition (HAR) in Ambient Assisted Living (AAL) Data Set"
   ]
  },
  {
   "cell_type": "code",
   "execution_count": 52,
   "metadata": {
    "scrolled": true
   },
   "outputs": [
    {
     "data": {
      "text/html": [
       "<div>\n",
       "<style scoped>\n",
       "    .dataframe tbody tr th:only-of-type {\n",
       "        vertical-align: middle;\n",
       "    }\n",
       "\n",
       "    .dataframe tbody tr th {\n",
       "        vertical-align: top;\n",
       "    }\n",
       "\n",
       "    .dataframe thead th {\n",
       "        text-align: right;\n",
       "    }\n",
       "</style>\n",
       "<table border=\"1\" class=\"dataframe\">\n",
       "  <thead>\n",
       "    <tr style=\"text-align: right;\">\n",
       "      <th></th>\n",
       "      <th>0</th>\n",
       "      <th>1</th>\n",
       "      <th>2</th>\n",
       "      <th>3</th>\n",
       "      <th>4</th>\n",
       "      <th>5</th>\n",
       "      <th>6</th>\n",
       "      <th>7</th>\n",
       "      <th>8</th>\n",
       "      <th>9</th>\n",
       "      <th>...</th>\n",
       "      <th>551</th>\n",
       "      <th>552</th>\n",
       "      <th>553</th>\n",
       "      <th>554</th>\n",
       "      <th>555</th>\n",
       "      <th>556</th>\n",
       "      <th>557</th>\n",
       "      <th>558</th>\n",
       "      <th>559</th>\n",
       "      <th>560</th>\n",
       "    </tr>\n",
       "  </thead>\n",
       "  <tbody>\n",
       "    <tr>\n",
       "      <th>0</th>\n",
       "      <td>2.25890</td>\n",
       "      <td>-0.022376</td>\n",
       "      <td>-0.651510</td>\n",
       "      <td>0.28483</td>\n",
       "      <td>-0.31966</td>\n",
       "      <td>0.059275</td>\n",
       "      <td>0.28214</td>\n",
       "      <td>-0.38569</td>\n",
       "      <td>0.036359</td>\n",
       "      <td>1.29060</td>\n",
       "      <td>...</td>\n",
       "      <td>0.23905</td>\n",
       "      <td>-0.41445</td>\n",
       "      <td>-0.76696</td>\n",
       "      <td>-0.974270</td>\n",
       "      <td>0.46312</td>\n",
       "      <td>-0.53861</td>\n",
       "      <td>-0.397320</td>\n",
       "      <td>-0.62225</td>\n",
       "      <td>0.089781</td>\n",
       "      <td>0.29091</td>\n",
       "    </tr>\n",
       "    <tr>\n",
       "      <th>1</th>\n",
       "      <td>0.29285</td>\n",
       "      <td>-0.018404</td>\n",
       "      <td>-0.178480</td>\n",
       "      <td>-0.47754</td>\n",
       "      <td>-0.44896</td>\n",
       "      <td>-0.241460</td>\n",
       "      <td>-0.52517</td>\n",
       "      <td>-0.48042</td>\n",
       "      <td>-0.248240</td>\n",
       "      <td>-0.06169</td>\n",
       "      <td>...</td>\n",
       "      <td>0.21316</td>\n",
       "      <td>-0.47362</td>\n",
       "      <td>-0.84674</td>\n",
       "      <td>-0.338140</td>\n",
       "      <td>0.93831</td>\n",
       "      <td>-0.60066</td>\n",
       "      <td>0.494360</td>\n",
       "      <td>-0.59451</td>\n",
       "      <td>0.097650</td>\n",
       "      <td>0.31090</td>\n",
       "    </tr>\n",
       "    <tr>\n",
       "      <th>2</th>\n",
       "      <td>0.17396</td>\n",
       "      <td>0.008436</td>\n",
       "      <td>-0.051125</td>\n",
       "      <td>-0.61113</td>\n",
       "      <td>-0.53955</td>\n",
       "      <td>-0.356220</td>\n",
       "      <td>-0.64649</td>\n",
       "      <td>-0.55313</td>\n",
       "      <td>-0.343820</td>\n",
       "      <td>-0.53636</td>\n",
       "      <td>...</td>\n",
       "      <td>0.11844</td>\n",
       "      <td>-0.51160</td>\n",
       "      <td>-0.86103</td>\n",
       "      <td>0.670930</td>\n",
       "      <td>-0.45232</td>\n",
       "      <td>0.40514</td>\n",
       "      <td>0.437860</td>\n",
       "      <td>-0.58076</td>\n",
       "      <td>0.093523</td>\n",
       "      <td>0.32076</td>\n",
       "    </tr>\n",
       "    <tr>\n",
       "      <th>3</th>\n",
       "      <td>0.38971</td>\n",
       "      <td>-0.026192</td>\n",
       "      <td>-0.012077</td>\n",
       "      <td>-0.68015</td>\n",
       "      <td>-0.46868</td>\n",
       "      <td>-0.416290</td>\n",
       "      <td>-0.71453</td>\n",
       "      <td>-0.50497</td>\n",
       "      <td>-0.422480</td>\n",
       "      <td>-0.46952</td>\n",
       "      <td>...</td>\n",
       "      <td>0.10043</td>\n",
       "      <td>-0.63320</td>\n",
       "      <td>-0.93572</td>\n",
       "      <td>-0.141030</td>\n",
       "      <td>0.41715</td>\n",
       "      <td>0.54579</td>\n",
       "      <td>0.092521</td>\n",
       "      <td>-0.60139</td>\n",
       "      <td>0.083581</td>\n",
       "      <td>0.30563</td>\n",
       "    </tr>\n",
       "    <tr>\n",
       "      <th>4</th>\n",
       "      <td>0.35382</td>\n",
       "      <td>-0.018021</td>\n",
       "      <td>-0.003540</td>\n",
       "      <td>-0.65372</td>\n",
       "      <td>-0.46089</td>\n",
       "      <td>-0.360500</td>\n",
       "      <td>-0.69813</td>\n",
       "      <td>-0.50064</td>\n",
       "      <td>-0.348730</td>\n",
       "      <td>-0.46952</td>\n",
       "      <td>...</td>\n",
       "      <td>0.48928</td>\n",
       "      <td>-0.24234</td>\n",
       "      <td>-0.54614</td>\n",
       "      <td>-0.037312</td>\n",
       "      <td>0.34323</td>\n",
       "      <td>0.61432</td>\n",
       "      <td>-0.422060</td>\n",
       "      <td>-0.63910</td>\n",
       "      <td>0.088903</td>\n",
       "      <td>0.27879</td>\n",
       "    </tr>\n",
       "  </tbody>\n",
       "</table>\n",
       "<p>5 rows × 561 columns</p>\n",
       "</div>"
      ],
      "text/plain": [
       "       0         1         2        3        4         5        6        7    \\\n",
       "0  2.25890 -0.022376 -0.651510  0.28483 -0.31966  0.059275  0.28214 -0.38569   \n",
       "1  0.29285 -0.018404 -0.178480 -0.47754 -0.44896 -0.241460 -0.52517 -0.48042   \n",
       "2  0.17396  0.008436 -0.051125 -0.61113 -0.53955 -0.356220 -0.64649 -0.55313   \n",
       "3  0.38971 -0.026192 -0.012077 -0.68015 -0.46868 -0.416290 -0.71453 -0.50497   \n",
       "4  0.35382 -0.018021 -0.003540 -0.65372 -0.46089 -0.360500 -0.69813 -0.50064   \n",
       "\n",
       "        8        9     ...         551      552      553       554      555  \\\n",
       "0  0.036359  1.29060   ...     0.23905 -0.41445 -0.76696 -0.974270  0.46312   \n",
       "1 -0.248240 -0.06169   ...     0.21316 -0.47362 -0.84674 -0.338140  0.93831   \n",
       "2 -0.343820 -0.53636   ...     0.11844 -0.51160 -0.86103  0.670930 -0.45232   \n",
       "3 -0.422480 -0.46952   ...     0.10043 -0.63320 -0.93572 -0.141030  0.41715   \n",
       "4 -0.348730 -0.46952   ...     0.48928 -0.24234 -0.54614 -0.037312  0.34323   \n",
       "\n",
       "       556       557      558       559      560  \n",
       "0 -0.53861 -0.397320 -0.62225  0.089781  0.29091  \n",
       "1 -0.60066  0.494360 -0.59451  0.097650  0.31090  \n",
       "2  0.40514  0.437860 -0.58076  0.093523  0.32076  \n",
       "3  0.54579  0.092521 -0.60139  0.083581  0.30563  \n",
       "4  0.61432 -0.422060 -0.63910  0.088903  0.27879  \n",
       "\n",
       "[5 rows x 561 columns]"
      ]
     },
     "execution_count": 52,
     "metadata": {},
     "output_type": "execute_result"
    }
   ],
   "source": [
    "X_train = pd.read_csv(\"final_X_train.txt\", delimiter = \",\", header = None)\n",
    "X_train.head()"
   ]
  },
  {
   "cell_type": "code",
   "execution_count": 53,
   "metadata": {},
   "outputs": [
    {
     "data": {
      "text/html": [
       "<div>\n",
       "<style scoped>\n",
       "    .dataframe tbody tr th:only-of-type {\n",
       "        vertical-align: middle;\n",
       "    }\n",
       "\n",
       "    .dataframe tbody tr th {\n",
       "        vertical-align: top;\n",
       "    }\n",
       "\n",
       "    .dataframe thead th {\n",
       "        text-align: right;\n",
       "    }\n",
       "</style>\n",
       "<table border=\"1\" class=\"dataframe\">\n",
       "  <thead>\n",
       "    <tr style=\"text-align: right;\">\n",
       "      <th></th>\n",
       "      <th>0</th>\n",
       "      <th>1</th>\n",
       "      <th>2</th>\n",
       "      <th>3</th>\n",
       "      <th>4</th>\n",
       "      <th>5</th>\n",
       "      <th>6</th>\n",
       "      <th>7</th>\n",
       "      <th>8</th>\n",
       "      <th>9</th>\n",
       "      <th>...</th>\n",
       "      <th>551</th>\n",
       "      <th>552</th>\n",
       "      <th>553</th>\n",
       "      <th>554</th>\n",
       "      <th>555</th>\n",
       "      <th>556</th>\n",
       "      <th>557</th>\n",
       "      <th>558</th>\n",
       "      <th>559</th>\n",
       "      <th>560</th>\n",
       "    </tr>\n",
       "  </thead>\n",
       "  <tbody>\n",
       "    <tr>\n",
       "      <th>0</th>\n",
       "      <td>1.91710</td>\n",
       "      <td>0.266330</td>\n",
       "      <td>0.626790</td>\n",
       "      <td>-0.081542</td>\n",
       "      <td>-0.31381</td>\n",
       "      <td>0.34915</td>\n",
       "      <td>-0.063587</td>\n",
       "      <td>-0.29050</td>\n",
       "      <td>0.54554</td>\n",
       "      <td>0.44071</td>\n",
       "      <td>...</td>\n",
       "      <td>-0.437780</td>\n",
       "      <td>-0.27102</td>\n",
       "      <td>-0.72849</td>\n",
       "      <td>-0.968630</td>\n",
       "      <td>0.86815</td>\n",
       "      <td>0.024128</td>\n",
       "      <td>0.30082</td>\n",
       "      <td>-0.297430</td>\n",
       "      <td>-0.11008</td>\n",
       "      <td>-0.42472</td>\n",
       "    </tr>\n",
       "    <tr>\n",
       "      <th>1</th>\n",
       "      <td>0.18330</td>\n",
       "      <td>0.000917</td>\n",
       "      <td>0.047262</td>\n",
       "      <td>-0.597730</td>\n",
       "      <td>-0.56539</td>\n",
       "      <td>-0.49041</td>\n",
       "      <td>-0.637610</td>\n",
       "      <td>-0.57360</td>\n",
       "      <td>-0.43668</td>\n",
       "      <td>-0.47593</td>\n",
       "      <td>...</td>\n",
       "      <td>0.062618</td>\n",
       "      <td>0.75066</td>\n",
       "      <td>0.63855</td>\n",
       "      <td>-0.197060</td>\n",
       "      <td>0.79018</td>\n",
       "      <td>0.129850</td>\n",
       "      <td>0.41032</td>\n",
       "      <td>-0.284820</td>\n",
       "      <td>-0.12951</td>\n",
       "      <td>-0.42178</td>\n",
       "    </tr>\n",
       "    <tr>\n",
       "      <th>2</th>\n",
       "      <td>-0.14222</td>\n",
       "      <td>-0.051524</td>\n",
       "      <td>0.111800</td>\n",
       "      <td>-0.812000</td>\n",
       "      <td>-0.75592</td>\n",
       "      <td>-0.61699</td>\n",
       "      <td>-0.828580</td>\n",
       "      <td>-0.77047</td>\n",
       "      <td>-0.61002</td>\n",
       "      <td>-0.88825</td>\n",
       "      <td>...</td>\n",
       "      <td>0.146030</td>\n",
       "      <td>0.59439</td>\n",
       "      <td>0.42662</td>\n",
       "      <td>0.135180</td>\n",
       "      <td>-0.68971</td>\n",
       "      <td>0.053301</td>\n",
       "      <td>-0.15466</td>\n",
       "      <td>-0.219630</td>\n",
       "      <td>-0.13284</td>\n",
       "      <td>-0.46835</td>\n",
       "    </tr>\n",
       "    <tr>\n",
       "      <th>3</th>\n",
       "      <td>0.18255</td>\n",
       "      <td>-0.002932</td>\n",
       "      <td>-0.033034</td>\n",
       "      <td>-0.834770</td>\n",
       "      <td>-0.92033</td>\n",
       "      <td>-0.67700</td>\n",
       "      <td>-0.856480</td>\n",
       "      <td>-0.92447</td>\n",
       "      <td>-0.67735</td>\n",
       "      <td>-0.85759</td>\n",
       "      <td>...</td>\n",
       "      <td>0.571890</td>\n",
       "      <td>-0.85247</td>\n",
       "      <td>-0.97792</td>\n",
       "      <td>-0.145660</td>\n",
       "      <td>-0.11779</td>\n",
       "      <td>0.136850</td>\n",
       "      <td>-0.19544</td>\n",
       "      <td>-0.101490</td>\n",
       "      <td>-0.12321</td>\n",
       "      <td>-0.55938</td>\n",
       "    </tr>\n",
       "    <tr>\n",
       "      <th>4</th>\n",
       "      <td>0.37079</td>\n",
       "      <td>-0.007905</td>\n",
       "      <td>-0.168390</td>\n",
       "      <td>-0.926470</td>\n",
       "      <td>-0.88623</td>\n",
       "      <td>-0.83995</td>\n",
       "      <td>-0.929590</td>\n",
       "      <td>-0.87669</td>\n",
       "      <td>-0.82406</td>\n",
       "      <td>-0.85759</td>\n",
       "      <td>...</td>\n",
       "      <td>0.164860</td>\n",
       "      <td>-0.64833</td>\n",
       "      <td>-0.90281</td>\n",
       "      <td>0.038464</td>\n",
       "      <td>0.17996</td>\n",
       "      <td>0.182920</td>\n",
       "      <td>-0.18907</td>\n",
       "      <td>-0.067717</td>\n",
       "      <td>-0.12579</td>\n",
       "      <td>-0.58138</td>\n",
       "    </tr>\n",
       "  </tbody>\n",
       "</table>\n",
       "<p>5 rows × 561 columns</p>\n",
       "</div>"
      ],
      "text/plain": [
       "       0         1         2         3        4        5         6        7    \\\n",
       "0  1.91710  0.266330  0.626790 -0.081542 -0.31381  0.34915 -0.063587 -0.29050   \n",
       "1  0.18330  0.000917  0.047262 -0.597730 -0.56539 -0.49041 -0.637610 -0.57360   \n",
       "2 -0.14222 -0.051524  0.111800 -0.812000 -0.75592 -0.61699 -0.828580 -0.77047   \n",
       "3  0.18255 -0.002932 -0.033034 -0.834770 -0.92033 -0.67700 -0.856480 -0.92447   \n",
       "4  0.37079 -0.007905 -0.168390 -0.926470 -0.88623 -0.83995 -0.929590 -0.87669   \n",
       "\n",
       "       8        9     ...          551      552      553       554      555  \\\n",
       "0  0.54554  0.44071   ...    -0.437780 -0.27102 -0.72849 -0.968630  0.86815   \n",
       "1 -0.43668 -0.47593   ...     0.062618  0.75066  0.63855 -0.197060  0.79018   \n",
       "2 -0.61002 -0.88825   ...     0.146030  0.59439  0.42662  0.135180 -0.68971   \n",
       "3 -0.67735 -0.85759   ...     0.571890 -0.85247 -0.97792 -0.145660 -0.11779   \n",
       "4 -0.82406 -0.85759   ...     0.164860 -0.64833 -0.90281  0.038464  0.17996   \n",
       "\n",
       "        556      557       558      559      560  \n",
       "0  0.024128  0.30082 -0.297430 -0.11008 -0.42472  \n",
       "1  0.129850  0.41032 -0.284820 -0.12951 -0.42178  \n",
       "2  0.053301 -0.15466 -0.219630 -0.13284 -0.46835  \n",
       "3  0.136850 -0.19544 -0.101490 -0.12321 -0.55938  \n",
       "4  0.182920 -0.18907 -0.067717 -0.12579 -0.58138  \n",
       "\n",
       "[5 rows x 561 columns]"
      ]
     },
     "execution_count": 53,
     "metadata": {},
     "output_type": "execute_result"
    }
   ],
   "source": [
    "X_test = pd.read_csv(\"final_X_test.txt\", delimiter = \",\", header = None)\n",
    "X_test.head()"
   ]
  },
  {
   "cell_type": "code",
   "execution_count": 54,
   "metadata": {},
   "outputs": [
    {
     "data": {
      "text/html": [
       "<div>\n",
       "<style scoped>\n",
       "    .dataframe tbody tr th:only-of-type {\n",
       "        vertical-align: middle;\n",
       "    }\n",
       "\n",
       "    .dataframe tbody tr th {\n",
       "        vertical-align: top;\n",
       "    }\n",
       "\n",
       "    .dataframe thead th {\n",
       "        text-align: right;\n",
       "    }\n",
       "</style>\n",
       "<table border=\"1\" class=\"dataframe\">\n",
       "  <thead>\n",
       "    <tr style=\"text-align: right;\">\n",
       "      <th></th>\n",
       "      <th>0</th>\n",
       "    </tr>\n",
       "  </thead>\n",
       "  <tbody>\n",
       "    <tr>\n",
       "      <th>0</th>\n",
       "      <td>1</td>\n",
       "    </tr>\n",
       "    <tr>\n",
       "      <th>1</th>\n",
       "      <td>1</td>\n",
       "    </tr>\n",
       "    <tr>\n",
       "      <th>2</th>\n",
       "      <td>1</td>\n",
       "    </tr>\n",
       "    <tr>\n",
       "      <th>3</th>\n",
       "      <td>1</td>\n",
       "    </tr>\n",
       "    <tr>\n",
       "      <th>4</th>\n",
       "      <td>1</td>\n",
       "    </tr>\n",
       "  </tbody>\n",
       "</table>\n",
       "</div>"
      ],
      "text/plain": [
       "   0\n",
       "0  1\n",
       "1  1\n",
       "2  1\n",
       "3  1\n",
       "4  1"
      ]
     },
     "execution_count": 54,
     "metadata": {},
     "output_type": "execute_result"
    }
   ],
   "source": [
    "y_train = pd.read_csv(\"final_y_train.txt\", header = None)\n",
    "y_train.head()"
   ]
  },
  {
   "cell_type": "code",
   "execution_count": 55,
   "metadata": {},
   "outputs": [
    {
     "data": {
      "text/html": [
       "<div>\n",
       "<style scoped>\n",
       "    .dataframe tbody tr th:only-of-type {\n",
       "        vertical-align: middle;\n",
       "    }\n",
       "\n",
       "    .dataframe tbody tr th {\n",
       "        vertical-align: top;\n",
       "    }\n",
       "\n",
       "    .dataframe thead th {\n",
       "        text-align: right;\n",
       "    }\n",
       "</style>\n",
       "<table border=\"1\" class=\"dataframe\">\n",
       "  <thead>\n",
       "    <tr style=\"text-align: right;\">\n",
       "      <th></th>\n",
       "      <th>0</th>\n",
       "    </tr>\n",
       "  </thead>\n",
       "  <tbody>\n",
       "    <tr>\n",
       "      <th>0</th>\n",
       "      <td>4</td>\n",
       "    </tr>\n",
       "    <tr>\n",
       "      <th>1</th>\n",
       "      <td>4</td>\n",
       "    </tr>\n",
       "    <tr>\n",
       "      <th>2</th>\n",
       "      <td>4</td>\n",
       "    </tr>\n",
       "    <tr>\n",
       "      <th>3</th>\n",
       "      <td>4</td>\n",
       "    </tr>\n",
       "    <tr>\n",
       "      <th>4</th>\n",
       "      <td>4</td>\n",
       "    </tr>\n",
       "  </tbody>\n",
       "</table>\n",
       "</div>"
      ],
      "text/plain": [
       "   0\n",
       "0  4\n",
       "1  4\n",
       "2  4\n",
       "3  4\n",
       "4  4"
      ]
     },
     "execution_count": 55,
     "metadata": {},
     "output_type": "execute_result"
    }
   ],
   "source": [
    "y_test = pd.read_csv(\"final_y_test.txt\", header = None)\n",
    "y_test.head()"
   ]
  },
  {
   "cell_type": "markdown",
   "metadata": {},
   "source": [
    "# Multi-layer Perceptron classifier"
   ]
  },
  {
   "cell_type": "code",
   "execution_count": 56,
   "metadata": {},
   "outputs": [
    {
     "name": "stderr",
     "output_type": "stream",
     "text": [
      "D:\\Applications\\Anaconda3\\lib\\site-packages\\sklearn\\neural_network\\multilayer_perceptron.py:916: DataConversionWarning: A column-vector y was passed when a 1d array was expected. Please change the shape of y to (n_samples, ), for example using ravel().\n",
      "  y = column_or_1d(y, warn=True)\n"
     ]
    },
    {
     "name": "stdout",
     "output_type": "stream",
     "text": [
      "Iteration 1, loss = 1.73630816\n",
      "Iteration 2, loss = 1.57472016\n",
      "Iteration 3, loss = 1.44018240\n",
      "Iteration 4, loss = 1.31365565\n",
      "Iteration 5, loss = 1.20505317\n",
      "Iteration 6, loss = 1.11779780\n",
      "Iteration 7, loss = 1.04970588\n",
      "Iteration 8, loss = 0.99714324\n",
      "Iteration 9, loss = 0.95551804\n",
      "Iteration 10, loss = 0.91956510\n",
      "Iteration 11, loss = 0.89096459\n",
      "Iteration 12, loss = 0.86422481\n",
      "Iteration 13, loss = 0.84144623\n",
      "Iteration 14, loss = 0.82146450\n",
      "Iteration 15, loss = 0.80229797\n",
      "Iteration 16, loss = 0.78494622\n",
      "Iteration 17, loss = 0.77026998\n",
      "Iteration 18, loss = 0.75402673\n",
      "Iteration 19, loss = 0.73812470\n",
      "Iteration 20, loss = 0.72488176\n",
      "Iteration 21, loss = 0.71174347\n",
      "Iteration 22, loss = 0.69746170\n",
      "Iteration 23, loss = 0.68529651\n",
      "Iteration 24, loss = 0.67194856\n",
      "Iteration 25, loss = 0.66126332\n",
      "Iteration 26, loss = 0.64943077\n",
      "Iteration 27, loss = 0.63959987\n",
      "Iteration 28, loss = 0.62608069\n",
      "Iteration 29, loss = 0.61563655\n",
      "Iteration 30, loss = 0.60439914\n",
      "Iteration 31, loss = 0.59491696\n",
      "Iteration 32, loss = 0.58440803\n",
      "Iteration 33, loss = 0.57486590\n",
      "Iteration 34, loss = 0.56341774\n",
      "Iteration 35, loss = 0.55576570\n",
      "Iteration 36, loss = 0.54649904\n",
      "Iteration 37, loss = 0.53864043\n",
      "Iteration 38, loss = 0.52964744\n",
      "Iteration 39, loss = 0.51969562\n",
      "Iteration 40, loss = 0.51258850\n",
      "Iteration 41, loss = 0.50612359\n",
      "Iteration 42, loss = 0.49891961\n",
      "Iteration 43, loss = 0.49159953\n",
      "Iteration 44, loss = 0.48492390\n",
      "Iteration 45, loss = 0.47761775\n",
      "Iteration 46, loss = 0.47185144\n",
      "Iteration 47, loss = 0.46547921\n",
      "Iteration 48, loss = 0.45976762\n",
      "Iteration 49, loss = 0.45342022\n",
      "Iteration 50, loss = 0.44830073\n",
      "Iteration 51, loss = 0.44436557\n",
      "Iteration 52, loss = 0.43682794\n",
      "Iteration 53, loss = 0.43389372\n",
      "Iteration 54, loss = 0.42734950\n",
      "Iteration 55, loss = 0.42254919\n",
      "Iteration 56, loss = 0.41779277\n",
      "Iteration 57, loss = 0.41546468\n",
      "Iteration 58, loss = 0.40849000\n",
      "Iteration 59, loss = 0.40445703\n",
      "Iteration 60, loss = 0.40043216\n",
      "Iteration 61, loss = 0.39817201\n",
      "Iteration 62, loss = 0.39352584\n",
      "Iteration 63, loss = 0.38932570\n",
      "Iteration 64, loss = 0.38448196\n",
      "Iteration 65, loss = 0.37962051\n",
      "Iteration 66, loss = 0.37746506\n",
      "Iteration 67, loss = 0.37472705\n",
      "Iteration 68, loss = 0.37034771\n",
      "Iteration 69, loss = 0.36535456\n",
      "Iteration 70, loss = 0.36396943\n",
      "Iteration 71, loss = 0.35977811\n",
      "Iteration 72, loss = 0.35672204\n",
      "Iteration 73, loss = 0.35382993\n",
      "Iteration 74, loss = 0.35393506\n",
      "Iteration 75, loss = 0.34850538\n",
      "Iteration 76, loss = 0.34466166\n",
      "Iteration 77, loss = 0.34392313\n",
      "Iteration 78, loss = 0.34080939\n",
      "Iteration 79, loss = 0.33666436\n",
      "Iteration 80, loss = 0.33449877\n",
      "Iteration 81, loss = 0.33257970\n",
      "Iteration 82, loss = 0.33259170\n",
      "Iteration 83, loss = 0.32895489\n",
      "Iteration 84, loss = 0.32577328\n",
      "Iteration 85, loss = 0.32171743\n",
      "Iteration 86, loss = 0.32035884\n",
      "Iteration 87, loss = 0.31726361\n",
      "Iteration 88, loss = 0.31457750\n",
      "Iteration 89, loss = 0.31249547\n",
      "Iteration 90, loss = 0.31231100\n",
      "Iteration 91, loss = 0.30817453\n",
      "Iteration 92, loss = 0.30919716\n",
      "Iteration 93, loss = 0.30635929\n",
      "Iteration 94, loss = 0.30408221\n",
      "Iteration 95, loss = 0.30137491\n",
      "Iteration 96, loss = 0.30069608\n",
      "Iteration 97, loss = 0.29746445\n",
      "Iteration 98, loss = 0.29589294\n",
      "Iteration 99, loss = 0.29281213\n",
      "Iteration 100, loss = 0.29310835\n",
      "Iteration 101, loss = 0.28967867\n",
      "Iteration 102, loss = 0.28908773\n",
      "Iteration 103, loss = 0.28654089\n",
      "Iteration 104, loss = 0.28431935\n",
      "Iteration 105, loss = 0.28219688\n",
      "Iteration 106, loss = 0.28071818\n",
      "Iteration 107, loss = 0.28045359\n",
      "Iteration 108, loss = 0.28045147\n",
      "Iteration 109, loss = 0.27640324\n",
      "Iteration 110, loss = 0.27345994\n",
      "Iteration 111, loss = 0.27191114\n",
      "Iteration 112, loss = 0.27131628\n",
      "Iteration 113, loss = 0.26973774\n",
      "Iteration 114, loss = 0.26903297\n",
      "Iteration 115, loss = 0.26858516\n",
      "Iteration 116, loss = 0.26456716\n",
      "Iteration 117, loss = 0.26528473\n",
      "Iteration 118, loss = 0.26554088\n",
      "Iteration 119, loss = 0.26374104\n",
      "Iteration 120, loss = 0.26033658\n",
      "Iteration 121, loss = 0.26010939\n",
      "Iteration 122, loss = 0.25949247\n",
      "Iteration 123, loss = 0.25606165\n",
      "Iteration 124, loss = 0.25589797\n",
      "Iteration 125, loss = 0.25400568\n",
      "Iteration 126, loss = 0.25226697\n",
      "Iteration 127, loss = 0.25180831\n",
      "Iteration 128, loss = 0.25214512\n",
      "Iteration 129, loss = 0.24875134\n",
      "Iteration 130, loss = 0.24751409\n",
      "Iteration 131, loss = 0.24746660\n",
      "Iteration 132, loss = 0.24463735\n",
      "Iteration 133, loss = 0.24428590\n",
      "Iteration 134, loss = 0.24429052\n",
      "Iteration 135, loss = 0.24089221\n",
      "Iteration 136, loss = 0.24067162\n",
      "Iteration 137, loss = 0.23818816\n",
      "Iteration 138, loss = 0.23841282\n",
      "Iteration 139, loss = 0.23764333\n",
      "Iteration 140, loss = 0.23567112\n",
      "Iteration 141, loss = 0.23612163\n",
      "Iteration 142, loss = 0.23496979\n",
      "Iteration 143, loss = 0.23339468\n",
      "Iteration 144, loss = 0.22967319\n",
      "Iteration 145, loss = 0.22842922\n",
      "Iteration 146, loss = 0.22916704\n",
      "Iteration 147, loss = 0.22744607\n",
      "Iteration 148, loss = 0.22860125\n",
      "Iteration 149, loss = 0.23149003\n",
      "Iteration 150, loss = 0.22333060\n",
      "Iteration 151, loss = 0.22330777\n",
      "Iteration 152, loss = 0.22440077\n",
      "Iteration 153, loss = 0.22022748\n",
      "Iteration 154, loss = 0.22158723\n",
      "Iteration 155, loss = 0.22018123\n",
      "Iteration 156, loss = 0.21938917\n",
      "Iteration 157, loss = 0.21731683\n",
      "Iteration 158, loss = 0.21747463\n",
      "Iteration 159, loss = 0.21614335\n",
      "Iteration 160, loss = 0.21443784\n",
      "Iteration 161, loss = 0.21309156\n",
      "Iteration 162, loss = 0.21293011\n",
      "Iteration 163, loss = 0.21255072\n",
      "Iteration 164, loss = 0.21071596\n",
      "Iteration 165, loss = 0.21106693\n",
      "Iteration 166, loss = 0.21069663\n",
      "Iteration 167, loss = 0.20858974\n",
      "Iteration 168, loss = 0.20704989\n",
      "Iteration 169, loss = 0.20668189\n",
      "Iteration 170, loss = 0.20652560\n",
      "Iteration 171, loss = 0.20440324\n",
      "Iteration 172, loss = 0.20503648\n",
      "Iteration 173, loss = 0.20517382\n",
      "Iteration 174, loss = 0.20214988\n",
      "Iteration 175, loss = 0.19981753\n",
      "Iteration 176, loss = 0.19890391\n",
      "Iteration 177, loss = 0.20290450\n",
      "Iteration 178, loss = 0.19931005\n",
      "Iteration 179, loss = 0.19881962\n",
      "Iteration 180, loss = 0.19786126\n",
      "Iteration 181, loss = 0.19618161\n",
      "Iteration 182, loss = 0.19404747\n",
      "Iteration 183, loss = 0.19368634\n",
      "Iteration 184, loss = 0.19491160\n",
      "Iteration 185, loss = 0.19276478\n",
      "Iteration 186, loss = 0.19140353\n",
      "Iteration 187, loss = 0.18879529\n",
      "Iteration 188, loss = 0.19078139\n",
      "Iteration 189, loss = 0.19151236\n",
      "Iteration 190, loss = 0.18763336\n",
      "Iteration 191, loss = 0.18775623\n",
      "Iteration 192, loss = 0.18907150\n",
      "Iteration 193, loss = 0.18712444\n",
      "Iteration 194, loss = 0.18720015\n",
      "Iteration 195, loss = 0.18621199\n",
      "Iteration 196, loss = 0.18372763\n",
      "Iteration 197, loss = 0.18737727\n",
      "Iteration 198, loss = 0.18341848\n",
      "Iteration 199, loss = 0.18225269\n",
      "Iteration 200, loss = 0.18443798\n",
      "Iteration 201, loss = 0.18189000\n",
      "Iteration 202, loss = 0.18222854\n",
      "Iteration 203, loss = 0.17969890\n",
      "Iteration 204, loss = 0.17994970\n",
      "Iteration 205, loss = 0.17758245\n",
      "Iteration 206, loss = 0.17848673\n",
      "Iteration 207, loss = 0.17631969\n",
      "Iteration 208, loss = 0.17595314\n",
      "Iteration 209, loss = 0.17389230\n",
      "Iteration 210, loss = 0.17803690\n",
      "Iteration 211, loss = 0.17441638\n",
      "Iteration 212, loss = 0.17172585\n",
      "Iteration 213, loss = 0.17340523\n",
      "Iteration 214, loss = 0.17182757\n",
      "Iteration 215, loss = 0.17077690\n",
      "Iteration 216, loss = 0.17072840\n",
      "Iteration 217, loss = 0.17139883\n",
      "Iteration 218, loss = 0.16745296\n",
      "Iteration 219, loss = 0.16866922\n",
      "Iteration 220, loss = 0.16836835\n",
      "Iteration 221, loss = 0.16905303\n",
      "Iteration 222, loss = 0.16514497\n",
      "Iteration 223, loss = 0.16776277\n",
      "Iteration 224, loss = 0.16721307\n",
      "Iteration 225, loss = 0.16655447\n",
      "Iteration 226, loss = 0.16220109\n",
      "Iteration 227, loss = 0.16178979\n",
      "Iteration 228, loss = 0.16390120\n",
      "Iteration 229, loss = 0.16270267\n",
      "Iteration 230, loss = 0.16034035\n",
      "Iteration 231, loss = 0.16160600\n",
      "Iteration 232, loss = 0.16314289\n",
      "Iteration 233, loss = 0.15932891\n",
      "Iteration 234, loss = 0.16087450\n",
      "Iteration 235, loss = 0.15669043\n",
      "Iteration 236, loss = 0.16211654\n",
      "Iteration 237, loss = 0.15713146\n",
      "Iteration 238, loss = 0.15683955\n",
      "Iteration 239, loss = 0.15828109\n",
      "Iteration 240, loss = 0.15719229\n",
      "Iteration 241, loss = 0.15522099\n",
      "Iteration 242, loss = 0.15632649\n",
      "Iteration 243, loss = 0.15367244\n",
      "Iteration 244, loss = 0.15288153\n",
      "Iteration 245, loss = 0.15718002\n",
      "Iteration 246, loss = 0.15775496\n",
      "Iteration 247, loss = 0.15620759\n",
      "Iteration 248, loss = 0.15150770\n",
      "Iteration 249, loss = 0.15548159\n",
      "Iteration 250, loss = 0.14960671\n",
      "Iteration 251, loss = 0.14720790\n",
      "Iteration 252, loss = 0.14786386\n",
      "Iteration 253, loss = 0.14661583\n"
     ]
    },
    {
     "name": "stdout",
     "output_type": "stream",
     "text": [
      "Iteration 254, loss = 0.14581225\n",
      "Iteration 255, loss = 0.14573374\n",
      "Iteration 256, loss = 0.14545623\n",
      "Iteration 257, loss = 0.14534304\n",
      "Iteration 258, loss = 0.14585641\n",
      "Iteration 259, loss = 0.14504850\n",
      "Iteration 260, loss = 0.14420866\n",
      "Iteration 261, loss = 0.14342405\n",
      "Iteration 262, loss = 0.14694429\n",
      "Iteration 263, loss = 0.14248417\n",
      "Iteration 264, loss = 0.14243639\n",
      "Iteration 265, loss = 0.14092377\n",
      "Iteration 266, loss = 0.14072981\n",
      "Iteration 267, loss = 0.14034750\n",
      "Iteration 268, loss = 0.14254929\n",
      "Iteration 269, loss = 0.14059001\n",
      "Iteration 270, loss = 0.13954050\n",
      "Iteration 271, loss = 0.13851494\n",
      "Iteration 272, loss = 0.13938369\n",
      "Iteration 273, loss = 0.13507686\n",
      "Iteration 274, loss = 0.14025623\n",
      "Iteration 275, loss = 0.13692615\n",
      "Iteration 276, loss = 0.13669076\n",
      "Iteration 277, loss = 0.13598148\n",
      "Iteration 278, loss = 0.13845193\n",
      "Iteration 279, loss = 0.13640905\n",
      "Iteration 280, loss = 0.13652577\n",
      "Iteration 281, loss = 0.13584031\n",
      "Iteration 282, loss = 0.13440370\n",
      "Iteration 283, loss = 0.13331795\n",
      "Iteration 284, loss = 0.13485708\n",
      "Iteration 285, loss = 0.13234968\n",
      "Iteration 286, loss = 0.13259884\n",
      "Iteration 287, loss = 0.13066704\n",
      "Iteration 288, loss = 0.12689487\n",
      "Iteration 289, loss = 0.12918780\n",
      "Iteration 290, loss = 0.13054280\n",
      "Iteration 291, loss = 0.12923632\n",
      "Iteration 292, loss = 0.12672208\n",
      "Iteration 293, loss = 0.12622059\n",
      "Iteration 294, loss = 0.12833153\n",
      "Iteration 295, loss = 0.12575453\n",
      "Iteration 296, loss = 0.12671092\n",
      "Iteration 297, loss = 0.12954379\n",
      "Iteration 298, loss = 0.12447949\n",
      "Iteration 299, loss = 0.12414711\n",
      "Iteration 300, loss = 0.12502375\n",
      "Iteration 301, loss = 0.12752090\n",
      "Iteration 302, loss = 0.12802277\n",
      "Iteration 303, loss = 0.12258604\n",
      "Iteration 304, loss = 0.12395595\n",
      "Iteration 305, loss = 0.12393160\n",
      "Iteration 306, loss = 0.12470969\n",
      "Iteration 307, loss = 0.12057992\n",
      "Iteration 308, loss = 0.12037071\n",
      "Iteration 309, loss = 0.11961761\n",
      "Iteration 310, loss = 0.11986825\n",
      "Iteration 311, loss = 0.12059184\n",
      "Iteration 312, loss = 0.11848520\n",
      "Iteration 313, loss = 0.12139003\n",
      "Iteration 314, loss = 0.11654286\n",
      "Iteration 315, loss = 0.12270386\n",
      "Iteration 316, loss = 0.11806931\n",
      "Iteration 317, loss = 0.11688025\n",
      "Iteration 318, loss = 0.11679722\n",
      "Iteration 319, loss = 0.11632778\n",
      "Iteration 320, loss = 0.11581134\n",
      "Iteration 321, loss = 0.11789257\n",
      "Iteration 322, loss = 0.11355789\n",
      "Iteration 323, loss = 0.11337866\n",
      "Iteration 324, loss = 0.11394620\n",
      "Iteration 325, loss = 0.11444320\n",
      "Iteration 326, loss = 0.11518752\n",
      "Iteration 327, loss = 0.11284172\n",
      "Iteration 328, loss = 0.11750722\n",
      "Iteration 329, loss = 0.11553183\n",
      "Iteration 330, loss = 0.11465241\n",
      "Iteration 331, loss = 0.11177357\n",
      "Iteration 332, loss = 0.11066506\n",
      "Iteration 333, loss = 0.10975275\n",
      "Iteration 334, loss = 0.11044662\n",
      "Iteration 335, loss = 0.11563043\n",
      "Iteration 336, loss = 0.10860138\n",
      "Iteration 337, loss = 0.11108881\n",
      "Iteration 338, loss = 0.10844229\n",
      "Iteration 339, loss = 0.10872689\n",
      "Iteration 340, loss = 0.10586136\n",
      "Iteration 341, loss = 0.10625348\n",
      "Iteration 342, loss = 0.10559782\n",
      "Iteration 343, loss = 0.10332166\n",
      "Iteration 344, loss = 0.10905222\n",
      "Iteration 345, loss = 0.10702211\n",
      "Iteration 346, loss = 0.10507063\n",
      "Iteration 347, loss = 0.10445075\n",
      "Iteration 348, loss = 0.12724752\n",
      "Iteration 349, loss = 0.10030970\n",
      "Iteration 350, loss = 0.10684632\n",
      "Iteration 351, loss = 0.10260110\n",
      "Iteration 352, loss = 0.10395905\n",
      "Iteration 353, loss = 0.10179467\n",
      "Iteration 354, loss = 0.10229565\n",
      "Iteration 355, loss = 0.10249489\n",
      "Iteration 356, loss = 0.09945883\n",
      "Iteration 357, loss = 0.10782402\n",
      "Iteration 358, loss = 0.09953583\n",
      "Iteration 359, loss = 0.10065471\n",
      "Iteration 360, loss = 0.10052144\n",
      "Iteration 361, loss = 0.10206410\n",
      "Iteration 362, loss = 0.10268679\n",
      "Iteration 363, loss = 0.10070966\n",
      "Iteration 364, loss = 0.10197967\n",
      "Iteration 365, loss = 0.10108364\n",
      "Iteration 366, loss = 0.10119813\n",
      "Iteration 367, loss = 0.09798743\n",
      "Iteration 368, loss = 0.09606561\n",
      "Iteration 369, loss = 0.09901994\n",
      "Iteration 370, loss = 0.09574417\n",
      "Iteration 371, loss = 0.09665452\n",
      "Iteration 372, loss = 0.09285854\n",
      "Iteration 373, loss = 0.09530366\n",
      "Iteration 374, loss = 0.09657754\n",
      "Iteration 375, loss = 0.09500942\n",
      "Iteration 376, loss = 0.10219494\n",
      "Iteration 377, loss = 0.09235848\n",
      "Iteration 378, loss = 0.09434559\n",
      "Iteration 379, loss = 0.09215802\n",
      "Iteration 380, loss = 0.09404514\n",
      "Iteration 381, loss = 0.09126200\n",
      "Iteration 382, loss = 0.09177153\n",
      "Iteration 383, loss = 0.08876000\n",
      "Iteration 384, loss = 0.09121783\n",
      "Iteration 385, loss = 0.09339669\n",
      "Iteration 386, loss = 0.08875605\n",
      "Iteration 387, loss = 0.09089547\n",
      "Iteration 388, loss = 0.08763850\n",
      "Iteration 389, loss = 0.08561727\n",
      "Iteration 390, loss = 0.08883714\n",
      "Iteration 391, loss = 0.08640609\n",
      "Iteration 392, loss = 0.09329894\n",
      "Iteration 393, loss = 0.10266369\n",
      "Iteration 394, loss = 0.08893371\n",
      "Iteration 395, loss = 0.08849494\n",
      "Iteration 396, loss = 0.09134797\n",
      "Iteration 397, loss = 0.09272845\n",
      "Iteration 398, loss = 0.08659980\n",
      "Iteration 399, loss = 0.08814209\n",
      "Iteration 400, loss = 0.09620187\n",
      "Training loss did not improve more than tol=0.000000 for 10 consecutive epochs. Stopping.\n"
     ]
    }
   ],
   "source": [
    "mlp_clf = MLPClassifier(hidden_layer_sizes=(100,100,100), max_iter=500, alpha=0.0001, \n",
    "                    solver='sgd', verbose=10, random_state=21, tol=0.000000001)\n",
    "mlp_clf.fit(X_train, y_train)\n",
    "y_pred = mlp_clf.predict(X_test)"
   ]
  },
  {
   "cell_type": "code",
   "execution_count": 57,
   "metadata": {},
   "outputs": [
    {
     "data": {
      "text/plain": [
       "0.8498659517426274"
      ]
     },
     "execution_count": 57,
     "metadata": {},
     "output_type": "execute_result"
    }
   ],
   "source": [
    "accuracy_score(y_test, y_pred)"
   ]
  },
  {
   "cell_type": "code",
   "execution_count": 58,
   "metadata": {},
   "outputs": [
    {
     "name": "stdout",
     "output_type": "stream",
     "text": [
      "Multi-layer Perceptron classifier F1 score: 0.8498659517426274\n"
     ]
    }
   ],
   "source": [
    "score = f1_score(y_pred, y_test, average='micro')\n",
    "print (\"Multi-layer Perceptron classifier F1 score: \" + str(score))"
   ]
  },
  {
   "cell_type": "markdown",
   "metadata": {},
   "source": [
    "# K Nearest Neighbours"
   ]
  },
  {
   "cell_type": "code",
   "execution_count": 59,
   "metadata": {},
   "outputs": [
    {
     "name": "stderr",
     "output_type": "stream",
     "text": [
      "D:\\Applications\\Anaconda3\\lib\\site-packages\\ipykernel_launcher.py:4: DataConversionWarning: A column-vector y was passed when a 1d array was expected. Please change the shape of y to (n_samples, ), for example using ravel().\n",
      "  after removing the cwd from sys.path.\n"
     ]
    },
    {
     "data": {
      "text/plain": [
       "KNeighborsClassifier(algorithm='brute', leaf_size=30, metric='minkowski',\n",
       "           metric_params=None, n_jobs=1, n_neighbors=4, p=2,\n",
       "           weights='distance')"
      ]
     },
     "execution_count": 59,
     "metadata": {},
     "output_type": "execute_result"
    }
   ],
   "source": [
    "knn_clf = KNeighborsClassifier(algorithm='brute', leaf_size=30, metric='minkowski',\n",
    "           metric_params=None, n_jobs=1, n_neighbors=4, p=2,\n",
    "           weights='distance')\n",
    "knn_clf.fit(X_train,y_train)"
   ]
  },
  {
   "cell_type": "code",
   "execution_count": 60,
   "metadata": {},
   "outputs": [
    {
     "data": {
      "text/plain": [
       "0.7640750670241286"
      ]
     },
     "execution_count": 60,
     "metadata": {},
     "output_type": "execute_result"
    }
   ],
   "source": [
    "y_pred = knn_clf.predict(X_test)\n",
    "accuracy_score(y_test,y_pred)"
   ]
  },
  {
   "cell_type": "code",
   "execution_count": 61,
   "metadata": {},
   "outputs": [
    {
     "name": "stdout",
     "output_type": "stream",
     "text": [
      "K Nearest Neighbours classifier F1 score: 0.7640750670241286\n"
     ]
    }
   ],
   "source": [
    "score = f1_score(y_pred, y_test, average='micro')\n",
    "print (\"K Nearest Neighbours classifier F1 score: \" + str(score))"
   ]
  },
  {
   "cell_type": "markdown",
   "metadata": {},
   "source": [
    "# Decision Tree"
   ]
  },
  {
   "cell_type": "code",
   "execution_count": 62,
   "metadata": {},
   "outputs": [
    {
     "data": {
      "text/plain": [
       "0.7949061662198391"
      ]
     },
     "execution_count": 62,
     "metadata": {},
     "output_type": "execute_result"
    }
   ],
   "source": [
    "dt_clf = tree.DecisionTreeClassifier()\n",
    "dt_clf.fit(X_train, y_train)\n",
    "y_pred = dt_clf.predict(X_test)\n",
    "accuracy_score(y_test, y_pred)"
   ]
  },
  {
   "cell_type": "code",
   "execution_count": 63,
   "metadata": {},
   "outputs": [
    {
     "name": "stdout",
     "output_type": "stream",
     "text": [
      "Decision Tree classifier F1 score: 0.7949061662198391\n"
     ]
    }
   ],
   "source": [
    "score = f1_score(y_pred, y_test, average='micro')\n",
    "print (\"Decision Tree classifier F1 score: \" + str(score))"
   ]
  },
  {
   "cell_type": "markdown",
   "metadata": {},
   "source": [
    "# SVC"
   ]
  },
  {
   "cell_type": "code",
   "execution_count": 64,
   "metadata": {},
   "outputs": [
    {
     "name": "stderr",
     "output_type": "stream",
     "text": [
      "D:\\Applications\\Anaconda3\\lib\\site-packages\\sklearn\\utils\\validation.py:761: DataConversionWarning: A column-vector y was passed when a 1d array was expected. Please change the shape of y to (n_samples, ), for example using ravel().\n",
      "  y = column_or_1d(y, warn=True)\n"
     ]
    },
    {
     "data": {
      "text/plain": [
       "0.853887399463807"
      ]
     },
     "execution_count": 64,
     "metadata": {},
     "output_type": "execute_result"
    }
   ],
   "source": [
    "sv_clf = SVC(kernel='linear')  \n",
    "sv_clf.fit(X_train, y_train)  \n",
    "y_pred = sv_clf.predict(X_test)  \n",
    "accuracy_score(y_test, y_pred)"
   ]
  },
  {
   "cell_type": "code",
   "execution_count": 65,
   "metadata": {},
   "outputs": [
    {
     "name": "stdout",
     "output_type": "stream",
     "text": [
      "SVC F1 score: 0.853887399463807\n"
     ]
    }
   ],
   "source": [
    "score = f1_score(y_pred, y_test, average='micro')\n",
    "print (\"SVC F1 score: \" + str(score))"
   ]
  },
  {
   "cell_type": "markdown",
   "metadata": {},
   "source": [
    "# Random Forest"
   ]
  },
  {
   "cell_type": "code",
   "execution_count": 66,
   "metadata": {},
   "outputs": [
    {
     "name": "stderr",
     "output_type": "stream",
     "text": [
      "D:\\Applications\\Anaconda3\\lib\\site-packages\\ipykernel_launcher.py:2: DataConversionWarning: A column-vector y was passed when a 1d array was expected. Please change the shape of y to (n_samples,), for example using ravel().\n",
      "  \n"
     ]
    },
    {
     "data": {
      "text/plain": [
       "0.8739946380697051"
      ]
     },
     "execution_count": 66,
     "metadata": {},
     "output_type": "execute_result"
    }
   ],
   "source": [
    "rf_clf = RandomForestClassifier(n_estimators=100)\n",
    "rf_clf.fit(X_train,y_train)\n",
    "y_pred = rf_clf.predict(X_test)\n",
    "accuracy_score(y_test, y_pred)"
   ]
  },
  {
   "cell_type": "code",
   "execution_count": 67,
   "metadata": {},
   "outputs": [
    {
     "name": "stdout",
     "output_type": "stream",
     "text": [
      "Random Forest classifier F1 score: 0.8739946380697051\n"
     ]
    }
   ],
   "source": [
    "score = f1_score(y_pred, y_test, average='micro')\n",
    "print (\"Random Forest classifier F1 score: \" + str(score))"
   ]
  },
  {
   "cell_type": "markdown",
   "metadata": {},
   "source": [
    "# Banknote Authentication Data Set "
   ]
  },
  {
   "cell_type": "code",
   "execution_count": 68,
   "metadata": {
    "scrolled": true
   },
   "outputs": [
    {
     "data": {
      "text/html": [
       "<div>\n",
       "<style scoped>\n",
       "    .dataframe tbody tr th:only-of-type {\n",
       "        vertical-align: middle;\n",
       "    }\n",
       "\n",
       "    .dataframe tbody tr th {\n",
       "        vertical-align: top;\n",
       "    }\n",
       "\n",
       "    .dataframe thead th {\n",
       "        text-align: right;\n",
       "    }\n",
       "</style>\n",
       "<table border=\"1\" class=\"dataframe\">\n",
       "  <thead>\n",
       "    <tr style=\"text-align: right;\">\n",
       "      <th></th>\n",
       "      <th>0</th>\n",
       "      <th>1</th>\n",
       "      <th>2</th>\n",
       "      <th>3</th>\n",
       "      <th>4</th>\n",
       "    </tr>\n",
       "  </thead>\n",
       "  <tbody>\n",
       "    <tr>\n",
       "      <th>0</th>\n",
       "      <td>3.62160</td>\n",
       "      <td>8.6661</td>\n",
       "      <td>-2.8073</td>\n",
       "      <td>-0.44699</td>\n",
       "      <td>0</td>\n",
       "    </tr>\n",
       "    <tr>\n",
       "      <th>1</th>\n",
       "      <td>4.54590</td>\n",
       "      <td>8.1674</td>\n",
       "      <td>-2.4586</td>\n",
       "      <td>-1.46210</td>\n",
       "      <td>0</td>\n",
       "    </tr>\n",
       "    <tr>\n",
       "      <th>2</th>\n",
       "      <td>3.86600</td>\n",
       "      <td>-2.6383</td>\n",
       "      <td>1.9242</td>\n",
       "      <td>0.10645</td>\n",
       "      <td>0</td>\n",
       "    </tr>\n",
       "    <tr>\n",
       "      <th>3</th>\n",
       "      <td>3.45660</td>\n",
       "      <td>9.5228</td>\n",
       "      <td>-4.0112</td>\n",
       "      <td>-3.59440</td>\n",
       "      <td>0</td>\n",
       "    </tr>\n",
       "    <tr>\n",
       "      <th>4</th>\n",
       "      <td>0.32924</td>\n",
       "      <td>-4.4552</td>\n",
       "      <td>4.5718</td>\n",
       "      <td>-0.98880</td>\n",
       "      <td>0</td>\n",
       "    </tr>\n",
       "  </tbody>\n",
       "</table>\n",
       "</div>"
      ],
      "text/plain": [
       "         0       1       2        3  4\n",
       "0  3.62160  8.6661 -2.8073 -0.44699  0\n",
       "1  4.54590  8.1674 -2.4586 -1.46210  0\n",
       "2  3.86600 -2.6383  1.9242  0.10645  0\n",
       "3  3.45660  9.5228 -4.0112 -3.59440  0\n",
       "4  0.32924 -4.4552  4.5718 -0.98880  0"
      ]
     },
     "execution_count": 68,
     "metadata": {},
     "output_type": "execute_result"
    }
   ],
   "source": [
    "banknote = pd.read_csv(\"data_banknote_authentication.txt\", delimiter = \",\", header = None)\n",
    "banknote.head()"
   ]
  },
  {
   "cell_type": "code",
   "execution_count": 69,
   "metadata": {},
   "outputs": [
    {
     "data": {
      "text/html": [
       "<div>\n",
       "<style scoped>\n",
       "    .dataframe tbody tr th:only-of-type {\n",
       "        vertical-align: middle;\n",
       "    }\n",
       "\n",
       "    .dataframe tbody tr th {\n",
       "        vertical-align: top;\n",
       "    }\n",
       "\n",
       "    .dataframe thead th {\n",
       "        text-align: right;\n",
       "    }\n",
       "</style>\n",
       "<table border=\"1\" class=\"dataframe\">\n",
       "  <thead>\n",
       "    <tr style=\"text-align: right;\">\n",
       "      <th></th>\n",
       "      <th>0</th>\n",
       "      <th>1</th>\n",
       "      <th>2</th>\n",
       "      <th>3</th>\n",
       "    </tr>\n",
       "  </thead>\n",
       "  <tbody>\n",
       "    <tr>\n",
       "      <th>0</th>\n",
       "      <td>3.62160</td>\n",
       "      <td>8.6661</td>\n",
       "      <td>-2.8073</td>\n",
       "      <td>-0.44699</td>\n",
       "    </tr>\n",
       "    <tr>\n",
       "      <th>1</th>\n",
       "      <td>4.54590</td>\n",
       "      <td>8.1674</td>\n",
       "      <td>-2.4586</td>\n",
       "      <td>-1.46210</td>\n",
       "    </tr>\n",
       "    <tr>\n",
       "      <th>2</th>\n",
       "      <td>3.86600</td>\n",
       "      <td>-2.6383</td>\n",
       "      <td>1.9242</td>\n",
       "      <td>0.10645</td>\n",
       "    </tr>\n",
       "    <tr>\n",
       "      <th>3</th>\n",
       "      <td>3.45660</td>\n",
       "      <td>9.5228</td>\n",
       "      <td>-4.0112</td>\n",
       "      <td>-3.59440</td>\n",
       "    </tr>\n",
       "    <tr>\n",
       "      <th>4</th>\n",
       "      <td>0.32924</td>\n",
       "      <td>-4.4552</td>\n",
       "      <td>4.5718</td>\n",
       "      <td>-0.98880</td>\n",
       "    </tr>\n",
       "  </tbody>\n",
       "</table>\n",
       "</div>"
      ],
      "text/plain": [
       "         0       1       2        3\n",
       "0  3.62160  8.6661 -2.8073 -0.44699\n",
       "1  4.54590  8.1674 -2.4586 -1.46210\n",
       "2  3.86600 -2.6383  1.9242  0.10645\n",
       "3  3.45660  9.5228 -4.0112 -3.59440\n",
       "4  0.32924 -4.4552  4.5718 -0.98880"
      ]
     },
     "execution_count": 69,
     "metadata": {},
     "output_type": "execute_result"
    }
   ],
   "source": [
    "X = pd.DataFrame(banknote)\n",
    "X = X.drop([4], axis=1)\n",
    "X.head()"
   ]
  },
  {
   "cell_type": "code",
   "execution_count": 70,
   "metadata": {},
   "outputs": [
    {
     "data": {
      "text/plain": [
       "0    0\n",
       "1    0\n",
       "2    0\n",
       "3    0\n",
       "4    0\n",
       "Name: 4, dtype: int64"
      ]
     },
     "execution_count": 70,
     "metadata": {},
     "output_type": "execute_result"
    }
   ],
   "source": [
    "y = banknote[4]\n",
    "X_train, X_test, y_train, y_test = train_test_split(X, y, test_size=0.05, random_state=5)\n",
    "y.head()"
   ]
  },
  {
   "cell_type": "markdown",
   "metadata": {},
   "source": [
    "# Multi-layer Perceptron classifier"
   ]
  },
  {
   "cell_type": "code",
   "execution_count": 71,
   "metadata": {},
   "outputs": [
    {
     "name": "stdout",
     "output_type": "stream",
     "text": [
      "Iteration 1, loss = 0.87927394\n",
      "Iteration 2, loss = 0.73197813\n",
      "Iteration 3, loss = 0.62449209\n",
      "Iteration 4, loss = 0.56351506\n",
      "Iteration 5, loss = 0.52297487\n",
      "Iteration 6, loss = 0.48794362\n",
      "Iteration 7, loss = 0.45626674\n",
      "Iteration 8, loss = 0.42721064\n",
      "Iteration 9, loss = 0.40092973\n",
      "Iteration 10, loss = 0.37642777\n",
      "Iteration 11, loss = 0.35362799\n",
      "Iteration 12, loss = 0.33217751\n",
      "Iteration 13, loss = 0.31180602\n",
      "Iteration 14, loss = 0.29284614\n",
      "Iteration 15, loss = 0.27526876\n",
      "Iteration 16, loss = 0.25854935\n",
      "Iteration 17, loss = 0.24311205\n",
      "Iteration 18, loss = 0.22892081\n",
      "Iteration 19, loss = 0.21550604\n",
      "Iteration 20, loss = 0.20327602\n",
      "Iteration 21, loss = 0.19193075\n",
      "Iteration 22, loss = 0.18145470\n",
      "Iteration 23, loss = 0.17178876\n",
      "Iteration 24, loss = 0.16289541\n",
      "Iteration 25, loss = 0.15465168\n",
      "Iteration 26, loss = 0.14721957\n",
      "Iteration 27, loss = 0.14026236\n",
      "Iteration 28, loss = 0.13381727\n",
      "Iteration 29, loss = 0.12794253\n",
      "Iteration 30, loss = 0.12245620\n",
      "Iteration 31, loss = 0.11736395\n",
      "Iteration 32, loss = 0.11266146\n",
      "Iteration 33, loss = 0.10824823\n",
      "Iteration 34, loss = 0.10412795\n",
      "Iteration 35, loss = 0.10022127\n",
      "Iteration 36, loss = 0.09659892\n",
      "Iteration 37, loss = 0.09311258\n",
      "Iteration 38, loss = 0.08993579\n",
      "Iteration 39, loss = 0.08689944\n",
      "Iteration 40, loss = 0.08404707\n",
      "Iteration 41, loss = 0.08133701\n",
      "Iteration 42, loss = 0.07879763\n",
      "Iteration 43, loss = 0.07638683\n",
      "Iteration 44, loss = 0.07408448\n",
      "Iteration 45, loss = 0.07192107\n",
      "Iteration 46, loss = 0.06986175\n",
      "Iteration 47, loss = 0.06786907\n",
      "Iteration 48, loss = 0.06599020\n",
      "Iteration 49, loss = 0.06416319\n",
      "Iteration 50, loss = 0.06248354\n",
      "Iteration 51, loss = 0.06081106\n",
      "Iteration 52, loss = 0.05920823\n",
      "Iteration 53, loss = 0.05771952\n",
      "Iteration 54, loss = 0.05622694\n",
      "Iteration 55, loss = 0.05487583\n",
      "Iteration 56, loss = 0.05351539\n",
      "Iteration 57, loss = 0.05225689\n",
      "Iteration 58, loss = 0.05107387\n",
      "Iteration 59, loss = 0.04986113\n",
      "Iteration 60, loss = 0.04872563\n",
      "Iteration 61, loss = 0.04763983\n",
      "Iteration 62, loss = 0.04656713\n",
      "Iteration 63, loss = 0.04552385\n",
      "Iteration 64, loss = 0.04452964\n",
      "Iteration 65, loss = 0.04360272\n",
      "Iteration 66, loss = 0.04267138\n",
      "Iteration 67, loss = 0.04176613\n",
      "Iteration 68, loss = 0.04092107\n",
      "Iteration 69, loss = 0.04011135\n",
      "Iteration 70, loss = 0.03929974\n",
      "Iteration 71, loss = 0.03855590\n",
      "Iteration 72, loss = 0.03780366\n",
      "Iteration 73, loss = 0.03707660\n",
      "Iteration 74, loss = 0.03637097\n",
      "Iteration 75, loss = 0.03572220\n",
      "Iteration 76, loss = 0.03507331\n",
      "Iteration 77, loss = 0.03442982\n",
      "Iteration 78, loss = 0.03383697\n",
      "Iteration 79, loss = 0.03324075\n",
      "Iteration 80, loss = 0.03266984\n",
      "Iteration 81, loss = 0.03210400\n",
      "Iteration 82, loss = 0.03156831\n",
      "Iteration 83, loss = 0.03104396\n",
      "Iteration 84, loss = 0.03053620\n",
      "Iteration 85, loss = 0.03003980\n",
      "Iteration 86, loss = 0.02955561\n",
      "Iteration 87, loss = 0.02908017\n",
      "Iteration 88, loss = 0.02862565\n",
      "Iteration 89, loss = 0.02818185\n",
      "Iteration 90, loss = 0.02775915\n",
      "Iteration 91, loss = 0.02732426\n",
      "Iteration 92, loss = 0.02691202\n",
      "Iteration 93, loss = 0.02650929\n",
      "Iteration 94, loss = 0.02611701\n",
      "Iteration 95, loss = 0.02573069\n",
      "Iteration 96, loss = 0.02536322\n",
      "Iteration 97, loss = 0.02498989\n",
      "Iteration 98, loss = 0.02463475\n",
      "Iteration 99, loss = 0.02429815\n",
      "Iteration 100, loss = 0.02394987\n",
      "Iteration 101, loss = 0.02362342\n",
      "Iteration 102, loss = 0.02329189\n",
      "Iteration 103, loss = 0.02298354\n",
      "Iteration 104, loss = 0.02265974\n",
      "Iteration 105, loss = 0.02236599\n",
      "Iteration 106, loss = 0.02206400\n",
      "Iteration 107, loss = 0.02177549\n",
      "Iteration 108, loss = 0.02150128\n",
      "Iteration 109, loss = 0.02121226\n",
      "Iteration 110, loss = 0.02094959\n",
      "Iteration 111, loss = 0.02067194\n",
      "Iteration 112, loss = 0.02042529\n",
      "Iteration 113, loss = 0.02015785\n",
      "Iteration 114, loss = 0.01991225\n",
      "Iteration 115, loss = 0.01965950\n",
      "Iteration 116, loss = 0.01941630\n",
      "Iteration 117, loss = 0.01918843\n",
      "Iteration 118, loss = 0.01895423\n",
      "Iteration 119, loss = 0.01872974\n",
      "Iteration 120, loss = 0.01851033\n",
      "Iteration 121, loss = 0.01829491\n",
      "Iteration 122, loss = 0.01808387\n",
      "Iteration 123, loss = 0.01787138\n",
      "Iteration 124, loss = 0.01767252\n",
      "Iteration 125, loss = 0.01747223\n",
      "Iteration 126, loss = 0.01727385\n",
      "Iteration 127, loss = 0.01708104\n",
      "Iteration 128, loss = 0.01690188\n",
      "Iteration 129, loss = 0.01671118\n",
      "Iteration 130, loss = 0.01652329\n",
      "Iteration 131, loss = 0.01634367\n",
      "Iteration 132, loss = 0.01616377\n",
      "Iteration 133, loss = 0.01600296\n",
      "Iteration 134, loss = 0.01582175\n",
      "Iteration 135, loss = 0.01565226\n",
      "Iteration 136, loss = 0.01548542\n",
      "Iteration 137, loss = 0.01533159\n",
      "Iteration 138, loss = 0.01517207\n",
      "Iteration 139, loss = 0.01501393\n",
      "Iteration 140, loss = 0.01486182\n",
      "Iteration 141, loss = 0.01471228\n",
      "Iteration 142, loss = 0.01456457\n",
      "Iteration 143, loss = 0.01442125\n",
      "Iteration 144, loss = 0.01427761\n",
      "Iteration 145, loss = 0.01414077\n",
      "Iteration 146, loss = 0.01400907\n",
      "Iteration 147, loss = 0.01386385\n",
      "Iteration 148, loss = 0.01373122\n",
      "Iteration 149, loss = 0.01359572\n",
      "Iteration 150, loss = 0.01347368\n",
      "Iteration 151, loss = 0.01334397\n",
      "Iteration 152, loss = 0.01321947\n",
      "Iteration 153, loss = 0.01309817\n",
      "Iteration 154, loss = 0.01297595\n",
      "Iteration 155, loss = 0.01286134\n",
      "Iteration 156, loss = 0.01274378\n",
      "Iteration 157, loss = 0.01263327\n",
      "Iteration 158, loss = 0.01251519\n",
      "Iteration 159, loss = 0.01240612\n",
      "Iteration 160, loss = 0.01229144\n",
      "Iteration 161, loss = 0.01218755\n",
      "Iteration 162, loss = 0.01207942\n",
      "Iteration 163, loss = 0.01197428\n",
      "Iteration 164, loss = 0.01187259\n",
      "Iteration 165, loss = 0.01176793\n",
      "Iteration 166, loss = 0.01166802\n",
      "Iteration 167, loss = 0.01157079\n",
      "Iteration 168, loss = 0.01147397\n",
      "Iteration 169, loss = 0.01138184\n",
      "Iteration 170, loss = 0.01128510\n",
      "Iteration 171, loss = 0.01119270\n",
      "Iteration 172, loss = 0.01110583\n",
      "Iteration 173, loss = 0.01101315\n",
      "Iteration 174, loss = 0.01092347\n",
      "Iteration 175, loss = 0.01083784\n",
      "Iteration 176, loss = 0.01075569\n",
      "Iteration 177, loss = 0.01066603\n",
      "Iteration 178, loss = 0.01057871\n",
      "Iteration 179, loss = 0.01049826\n",
      "Iteration 180, loss = 0.01041841\n",
      "Iteration 181, loss = 0.01033465\n",
      "Iteration 182, loss = 0.01025635\n",
      "Iteration 183, loss = 0.01017896\n",
      "Iteration 184, loss = 0.01010219\n",
      "Iteration 185, loss = 0.01002619\n",
      "Iteration 186, loss = 0.00995266\n",
      "Iteration 187, loss = 0.00987821\n",
      "Iteration 188, loss = 0.00980283\n",
      "Iteration 189, loss = 0.00973287\n",
      "Iteration 190, loss = 0.00965972\n",
      "Iteration 191, loss = 0.00959466\n",
      "Iteration 192, loss = 0.00952088\n",
      "Iteration 193, loss = 0.00945413\n",
      "Iteration 194, loss = 0.00938540\n",
      "Iteration 195, loss = 0.00931733\n",
      "Iteration 196, loss = 0.00925274\n",
      "Iteration 197, loss = 0.00918812\n",
      "Iteration 198, loss = 0.00912506\n",
      "Iteration 199, loss = 0.00905784\n",
      "Iteration 200, loss = 0.00899672\n",
      "Iteration 201, loss = 0.00893566\n",
      "Iteration 202, loss = 0.00887234\n",
      "Iteration 203, loss = 0.00881269\n",
      "Iteration 204, loss = 0.00875285\n",
      "Iteration 205, loss = 0.00869544\n",
      "Iteration 206, loss = 0.00863455\n",
      "Iteration 207, loss = 0.00857610\n",
      "Iteration 208, loss = 0.00852022\n",
      "Iteration 209, loss = 0.00846324\n",
      "Iteration 210, loss = 0.00840608\n",
      "Iteration 211, loss = 0.00835232\n",
      "Iteration 212, loss = 0.00829554\n",
      "Iteration 213, loss = 0.00824159\n",
      "Iteration 214, loss = 0.00819135\n",
      "Iteration 215, loss = 0.00813741\n",
      "Iteration 216, loss = 0.00808582\n",
      "Iteration 217, loss = 0.00803506\n",
      "Iteration 218, loss = 0.00798384\n",
      "Iteration 219, loss = 0.00793368\n",
      "Iteration 220, loss = 0.00788273\n",
      "Iteration 221, loss = 0.00783574\n",
      "Iteration 222, loss = 0.00778481\n",
      "Iteration 223, loss = 0.00773608\n",
      "Iteration 224, loss = 0.00768991\n",
      "Iteration 225, loss = 0.00764460\n",
      "Iteration 226, loss = 0.00759731\n",
      "Iteration 227, loss = 0.00755153\n",
      "Iteration 228, loss = 0.00750664\n",
      "Iteration 229, loss = 0.00746291\n",
      "Iteration 230, loss = 0.00741787\n",
      "Iteration 231, loss = 0.00737446\n",
      "Iteration 232, loss = 0.00733036\n",
      "Iteration 233, loss = 0.00729102\n",
      "Iteration 234, loss = 0.00724543\n",
      "Iteration 235, loss = 0.00720451\n",
      "Iteration 236, loss = 0.00716274\n",
      "Iteration 237, loss = 0.00711985\n",
      "Iteration 238, loss = 0.00707937\n",
      "Iteration 239, loss = 0.00703894\n",
      "Iteration 240, loss = 0.00699959\n",
      "Iteration 241, loss = 0.00696005\n",
      "Iteration 242, loss = 0.00692072\n",
      "Iteration 243, loss = 0.00688062\n",
      "Iteration 244, loss = 0.00684058\n",
      "Iteration 245, loss = 0.00680247\n",
      "Iteration 246, loss = 0.00676560\n",
      "Iteration 247, loss = 0.00672795\n",
      "Iteration 248, loss = 0.00668995\n",
      "Iteration 249, loss = 0.00665289\n",
      "Iteration 250, loss = 0.00661631\n",
      "Iteration 251, loss = 0.00658076\n",
      "Iteration 252, loss = 0.00654691\n",
      "Iteration 253, loss = 0.00650957\n",
      "Iteration 254, loss = 0.00647414\n",
      "Iteration 255, loss = 0.00643958\n",
      "Iteration 256, loss = 0.00640535\n",
      "Iteration 257, loss = 0.00637081\n",
      "Iteration 258, loss = 0.00633667\n",
      "Iteration 259, loss = 0.00630276\n",
      "Iteration 260, loss = 0.00626924\n",
      "Iteration 261, loss = 0.00623675\n",
      "Iteration 262, loss = 0.00620419\n",
      "Iteration 263, loss = 0.00617219\n",
      "Iteration 264, loss = 0.00613984\n",
      "Iteration 265, loss = 0.00610799\n"
     ]
    },
    {
     "name": "stdout",
     "output_type": "stream",
     "text": [
      "Iteration 266, loss = 0.00607885\n",
      "Iteration 267, loss = 0.00604728\n",
      "Iteration 268, loss = 0.00601706\n",
      "Iteration 269, loss = 0.00598779\n",
      "Iteration 270, loss = 0.00595790\n",
      "Iteration 271, loss = 0.00592725\n",
      "Iteration 272, loss = 0.00589868\n",
      "Iteration 273, loss = 0.00586842\n",
      "Iteration 274, loss = 0.00584064\n",
      "Iteration 275, loss = 0.00581096\n",
      "Iteration 276, loss = 0.00578300\n",
      "Iteration 277, loss = 0.00575509\n",
      "Iteration 278, loss = 0.00572767\n",
      "Iteration 279, loss = 0.00570020\n",
      "Iteration 280, loss = 0.00567443\n",
      "Iteration 281, loss = 0.00564612\n",
      "Iteration 282, loss = 0.00561952\n",
      "Iteration 283, loss = 0.00559276\n",
      "Iteration 284, loss = 0.00556643\n",
      "Iteration 285, loss = 0.00553990\n",
      "Iteration 286, loss = 0.00551326\n",
      "Iteration 287, loss = 0.00548911\n",
      "Iteration 288, loss = 0.00546169\n",
      "Iteration 289, loss = 0.00543706\n",
      "Iteration 290, loss = 0.00541229\n",
      "Iteration 291, loss = 0.00538777\n",
      "Iteration 292, loss = 0.00536261\n",
      "Iteration 293, loss = 0.00533891\n",
      "Iteration 294, loss = 0.00531563\n",
      "Iteration 295, loss = 0.00529200\n",
      "Iteration 296, loss = 0.00526839\n",
      "Iteration 297, loss = 0.00524481\n",
      "Iteration 298, loss = 0.00522137\n",
      "Iteration 299, loss = 0.00519795\n",
      "Iteration 300, loss = 0.00517571\n",
      "Iteration 301, loss = 0.00515257\n",
      "Iteration 302, loss = 0.00513002\n",
      "Iteration 303, loss = 0.00510699\n",
      "Iteration 304, loss = 0.00508566\n",
      "Iteration 305, loss = 0.00506395\n",
      "Iteration 306, loss = 0.00504173\n",
      "Iteration 307, loss = 0.00502014\n",
      "Iteration 308, loss = 0.00499791\n",
      "Iteration 309, loss = 0.00497632\n",
      "Iteration 310, loss = 0.00495511\n",
      "Iteration 311, loss = 0.00493366\n",
      "Iteration 312, loss = 0.00491325\n",
      "Iteration 313, loss = 0.00489178\n",
      "Iteration 314, loss = 0.00487180\n",
      "Iteration 315, loss = 0.00485110\n",
      "Iteration 316, loss = 0.00483215\n",
      "Iteration 317, loss = 0.00481139\n",
      "Iteration 318, loss = 0.00479161\n",
      "Iteration 319, loss = 0.00477159\n",
      "Iteration 320, loss = 0.00475250\n",
      "Iteration 321, loss = 0.00473260\n",
      "Iteration 322, loss = 0.00471307\n",
      "Iteration 323, loss = 0.00469513\n",
      "Iteration 324, loss = 0.00467452\n",
      "Iteration 325, loss = 0.00465585\n",
      "Iteration 326, loss = 0.00463679\n",
      "Iteration 327, loss = 0.00461817\n",
      "Iteration 328, loss = 0.00459951\n",
      "Iteration 329, loss = 0.00458103\n",
      "Iteration 330, loss = 0.00456229\n",
      "Iteration 331, loss = 0.00454495\n",
      "Iteration 332, loss = 0.00452666\n",
      "Iteration 333, loss = 0.00450906\n",
      "Iteration 334, loss = 0.00449169\n",
      "Iteration 335, loss = 0.00447342\n",
      "Iteration 336, loss = 0.00445562\n",
      "Iteration 337, loss = 0.00443863\n",
      "Iteration 338, loss = 0.00442115\n",
      "Iteration 339, loss = 0.00440355\n",
      "Iteration 340, loss = 0.00438687\n",
      "Iteration 341, loss = 0.00437001\n",
      "Iteration 342, loss = 0.00435304\n",
      "Iteration 343, loss = 0.00433669\n",
      "Iteration 344, loss = 0.00431995\n",
      "Iteration 345, loss = 0.00430345\n",
      "Iteration 346, loss = 0.00428756\n",
      "Iteration 347, loss = 0.00427095\n",
      "Iteration 348, loss = 0.00425453\n",
      "Iteration 349, loss = 0.00423963\n",
      "Iteration 350, loss = 0.00422306\n",
      "Iteration 351, loss = 0.00420759\n",
      "Iteration 352, loss = 0.00419200\n",
      "Iteration 353, loss = 0.00417640\n",
      "Iteration 354, loss = 0.00416132\n",
      "Iteration 355, loss = 0.00414585\n",
      "Iteration 356, loss = 0.00413066\n",
      "Iteration 357, loss = 0.00411527\n",
      "Iteration 358, loss = 0.00410038\n",
      "Iteration 359, loss = 0.00408549\n",
      "Iteration 360, loss = 0.00407073\n",
      "Iteration 361, loss = 0.00405577\n",
      "Iteration 362, loss = 0.00404164\n",
      "Iteration 363, loss = 0.00402723\n",
      "Iteration 364, loss = 0.00401280\n",
      "Iteration 365, loss = 0.00399809\n",
      "Iteration 366, loss = 0.00398378\n",
      "Iteration 367, loss = 0.00396957\n",
      "Iteration 368, loss = 0.00395580\n",
      "Iteration 369, loss = 0.00394204\n",
      "Iteration 370, loss = 0.00392798\n",
      "Iteration 371, loss = 0.00391404\n",
      "Iteration 372, loss = 0.00390020\n",
      "Iteration 373, loss = 0.00388683\n",
      "Iteration 374, loss = 0.00387266\n",
      "Iteration 375, loss = 0.00385949\n",
      "Iteration 376, loss = 0.00384611\n",
      "Iteration 377, loss = 0.00383264\n",
      "Iteration 378, loss = 0.00381911\n",
      "Iteration 379, loss = 0.00380604\n",
      "Iteration 380, loss = 0.00379229\n",
      "Iteration 381, loss = 0.00377916\n",
      "Iteration 382, loss = 0.00376654\n",
      "Iteration 383, loss = 0.00375440\n",
      "Iteration 384, loss = 0.00374082\n",
      "Iteration 385, loss = 0.00372864\n",
      "Iteration 386, loss = 0.00371618\n",
      "Iteration 387, loss = 0.00370362\n",
      "Iteration 388, loss = 0.00369072\n",
      "Iteration 389, loss = 0.00367833\n",
      "Iteration 390, loss = 0.00366652\n",
      "Iteration 391, loss = 0.00365378\n",
      "Iteration 392, loss = 0.00364181\n",
      "Iteration 393, loss = 0.00362981\n",
      "Iteration 394, loss = 0.00361829\n",
      "Iteration 395, loss = 0.00360557\n",
      "Iteration 396, loss = 0.00359396\n",
      "Iteration 397, loss = 0.00358215\n",
      "Iteration 398, loss = 0.00357084\n",
      "Iteration 399, loss = 0.00355893\n",
      "Iteration 400, loss = 0.00354693\n",
      "Iteration 401, loss = 0.00353520\n",
      "Iteration 402, loss = 0.00352339\n",
      "Iteration 403, loss = 0.00351210\n",
      "Iteration 404, loss = 0.00349974\n",
      "Iteration 405, loss = 0.00348861\n",
      "Iteration 406, loss = 0.00347774\n",
      "Iteration 407, loss = 0.00346606\n",
      "Iteration 408, loss = 0.00345525\n",
      "Iteration 409, loss = 0.00344397\n",
      "Iteration 410, loss = 0.00343333\n",
      "Iteration 411, loss = 0.00342290\n",
      "Iteration 412, loss = 0.00341229\n",
      "Iteration 413, loss = 0.00340152\n",
      "Iteration 414, loss = 0.00339118\n",
      "Iteration 415, loss = 0.00338078\n",
      "Iteration 416, loss = 0.00337044\n",
      "Iteration 417, loss = 0.00335999\n",
      "Iteration 418, loss = 0.00334993\n",
      "Iteration 419, loss = 0.00333892\n",
      "Iteration 420, loss = 0.00332922\n",
      "Iteration 421, loss = 0.00331892\n",
      "Iteration 422, loss = 0.00330858\n",
      "Iteration 423, loss = 0.00329867\n",
      "Iteration 424, loss = 0.00328851\n",
      "Iteration 425, loss = 0.00327905\n",
      "Iteration 426, loss = 0.00326850\n",
      "Iteration 427, loss = 0.00325896\n",
      "Iteration 428, loss = 0.00324901\n",
      "Iteration 429, loss = 0.00323896\n",
      "Iteration 430, loss = 0.00322935\n",
      "Iteration 431, loss = 0.00322010\n",
      "Iteration 432, loss = 0.00320998\n",
      "Iteration 433, loss = 0.00320062\n",
      "Iteration 434, loss = 0.00319071\n",
      "Iteration 435, loss = 0.00318148\n",
      "Iteration 436, loss = 0.00317199\n",
      "Iteration 437, loss = 0.00316260\n",
      "Iteration 438, loss = 0.00315332\n",
      "Iteration 439, loss = 0.00314385\n",
      "Iteration 440, loss = 0.00313503\n",
      "Iteration 441, loss = 0.00312580\n",
      "Iteration 442, loss = 0.00311574\n",
      "Iteration 443, loss = 0.00310675\n",
      "Iteration 444, loss = 0.00309777\n",
      "Iteration 445, loss = 0.00308876\n",
      "Iteration 446, loss = 0.00307936\n",
      "Iteration 447, loss = 0.00307024\n",
      "Iteration 448, loss = 0.00306160\n",
      "Iteration 449, loss = 0.00305265\n",
      "Iteration 450, loss = 0.00304369\n",
      "Iteration 451, loss = 0.00303473\n",
      "Iteration 452, loss = 0.00302623\n",
      "Iteration 453, loss = 0.00301715\n",
      "Iteration 454, loss = 0.00300876\n",
      "Iteration 455, loss = 0.00299991\n",
      "Iteration 456, loss = 0.00299116\n",
      "Iteration 457, loss = 0.00298285\n",
      "Iteration 458, loss = 0.00297432\n",
      "Iteration 459, loss = 0.00296612\n",
      "Iteration 460, loss = 0.00295718\n",
      "Iteration 461, loss = 0.00294898\n",
      "Iteration 462, loss = 0.00294075\n",
      "Iteration 463, loss = 0.00293252\n",
      "Iteration 464, loss = 0.00292427\n",
      "Iteration 465, loss = 0.00291615\n",
      "Iteration 466, loss = 0.00290834\n",
      "Iteration 467, loss = 0.00289996\n",
      "Iteration 468, loss = 0.00289173\n",
      "Iteration 469, loss = 0.00288416\n",
      "Iteration 470, loss = 0.00287542\n",
      "Iteration 471, loss = 0.00286762\n",
      "Iteration 472, loss = 0.00285934\n",
      "Iteration 473, loss = 0.00285177\n",
      "Iteration 474, loss = 0.00284387\n",
      "Iteration 475, loss = 0.00283623\n",
      "Iteration 476, loss = 0.00282858\n",
      "Iteration 477, loss = 0.00282088\n",
      "Iteration 478, loss = 0.00281316\n",
      "Iteration 479, loss = 0.00280570\n",
      "Iteration 480, loss = 0.00279842\n",
      "Iteration 481, loss = 0.00279064\n",
      "Iteration 482, loss = 0.00278293\n",
      "Iteration 483, loss = 0.00277505\n",
      "Iteration 484, loss = 0.00276802\n",
      "Iteration 485, loss = 0.00276031\n",
      "Iteration 486, loss = 0.00275259\n",
      "Iteration 487, loss = 0.00274564\n",
      "Iteration 488, loss = 0.00273838\n",
      "Iteration 489, loss = 0.00273094\n",
      "Iteration 490, loss = 0.00272346\n",
      "Iteration 491, loss = 0.00271637\n",
      "Iteration 492, loss = 0.00270899\n",
      "Iteration 493, loss = 0.00270200\n",
      "Iteration 494, loss = 0.00269470\n",
      "Iteration 495, loss = 0.00268809\n",
      "Iteration 496, loss = 0.00268083\n",
      "Iteration 497, loss = 0.00267382\n",
      "Iteration 498, loss = 0.00266696\n",
      "Iteration 499, loss = 0.00265961\n",
      "Iteration 500, loss = 0.00265286\n"
     ]
    },
    {
     "name": "stderr",
     "output_type": "stream",
     "text": [
      "D:\\Applications\\Anaconda3\\lib\\site-packages\\sklearn\\neural_network\\multilayer_perceptron.py:562: ConvergenceWarning: Stochastic Optimizer: Maximum iterations (500) reached and the optimization hasn't converged yet.\n",
      "  % self.max_iter, ConvergenceWarning)\n"
     ]
    }
   ],
   "source": [
    "mlp_clf = MLPClassifier(hidden_layer_sizes=(100,100,100), max_iter=500, alpha=0.0001, \n",
    "                    solver='sgd', verbose=10, random_state=21, tol=0.000000001)\n",
    "mlp_clf.fit(X_train, y_train)\n",
    "y_pred = mlp_clf.predict(X_test)"
   ]
  },
  {
   "cell_type": "code",
   "execution_count": 72,
   "metadata": {},
   "outputs": [
    {
     "data": {
      "text/plain": [
       "1.0"
      ]
     },
     "execution_count": 72,
     "metadata": {},
     "output_type": "execute_result"
    }
   ],
   "source": [
    "accuracy_score(y_test, y_pred)"
   ]
  },
  {
   "cell_type": "code",
   "execution_count": 73,
   "metadata": {},
   "outputs": [
    {
     "name": "stdout",
     "output_type": "stream",
     "text": [
      "Multi-layer Perceptron classifier F1 score: 1.0\n"
     ]
    }
   ],
   "source": [
    "score = f1_score(y_pred, y_test, average='micro')\n",
    "print (\"Multi-layer Perceptron classifier F1 score: \" + str(score))"
   ]
  },
  {
   "cell_type": "markdown",
   "metadata": {},
   "source": [
    "# K Nearest Neighbours"
   ]
  },
  {
   "cell_type": "code",
   "execution_count": 74,
   "metadata": {},
   "outputs": [
    {
     "data": {
      "text/plain": [
       "KNeighborsClassifier(algorithm='brute', leaf_size=30, metric='minkowski',\n",
       "           metric_params=None, n_jobs=1, n_neighbors=4, p=2,\n",
       "           weights='distance')"
      ]
     },
     "execution_count": 74,
     "metadata": {},
     "output_type": "execute_result"
    }
   ],
   "source": [
    "knn_clf = KNeighborsClassifier(algorithm='brute', leaf_size=30, metric='minkowski',\n",
    "           metric_params=None, n_jobs=1, n_neighbors=4, p=2,\n",
    "           weights='distance')\n",
    "knn_clf.fit(X_train,y_train)"
   ]
  },
  {
   "cell_type": "code",
   "execution_count": 75,
   "metadata": {},
   "outputs": [
    {
     "data": {
      "text/plain": [
       "1.0"
      ]
     },
     "execution_count": 75,
     "metadata": {},
     "output_type": "execute_result"
    }
   ],
   "source": [
    "y_pred = knn_clf.predict(X_test)\n",
    "accuracy_score(y_test,y_pred)"
   ]
  },
  {
   "cell_type": "code",
   "execution_count": 76,
   "metadata": {},
   "outputs": [
    {
     "name": "stdout",
     "output_type": "stream",
     "text": [
      "K Nearest Neighbours classifier F1 score: 1.0\n"
     ]
    }
   ],
   "source": [
    "score = f1_score(y_pred, y_test, average='micro')\n",
    "print (\"K Nearest Neighbours classifier F1 score: \" + str(score))"
   ]
  },
  {
   "cell_type": "markdown",
   "metadata": {},
   "source": [
    "# Decision Tree"
   ]
  },
  {
   "cell_type": "code",
   "execution_count": 77,
   "metadata": {},
   "outputs": [
    {
     "data": {
      "text/plain": [
       "0.9565217391304348"
      ]
     },
     "execution_count": 77,
     "metadata": {},
     "output_type": "execute_result"
    }
   ],
   "source": [
    "dt_clf = tree.DecisionTreeClassifier()\n",
    "dt_clf.fit(X_train, y_train)\n",
    "y_pred = dt_clf.predict(X_test)\n",
    "accuracy_score(y_test, y_pred)"
   ]
  },
  {
   "cell_type": "code",
   "execution_count": 78,
   "metadata": {},
   "outputs": [
    {
     "name": "stdout",
     "output_type": "stream",
     "text": [
      "Decision Tree classifier F1 score: 0.9565217391304348\n"
     ]
    }
   ],
   "source": [
    "score = f1_score(y_pred, y_test, average='micro')\n",
    "print (\"Decision Tree classifier F1 score: \" + str(score))"
   ]
  },
  {
   "cell_type": "markdown",
   "metadata": {},
   "source": [
    "# SVC"
   ]
  },
  {
   "cell_type": "code",
   "execution_count": 79,
   "metadata": {},
   "outputs": [
    {
     "data": {
      "text/plain": [
       "1.0"
      ]
     },
     "execution_count": 79,
     "metadata": {},
     "output_type": "execute_result"
    }
   ],
   "source": [
    "sv_clf = SVC(kernel='linear')  \n",
    "sv_clf.fit(X_train, y_train)  \n",
    "y_pred = sv_clf.predict(X_test)  \n",
    "accuracy_score(y_test, y_pred)"
   ]
  },
  {
   "cell_type": "code",
   "execution_count": 80,
   "metadata": {},
   "outputs": [
    {
     "name": "stdout",
     "output_type": "stream",
     "text": [
      "SVC F1 score: 1.0\n"
     ]
    }
   ],
   "source": [
    "score = f1_score(y_pred, y_test, average='micro')\n",
    "print (\"SVC F1 score: \" + str(score))"
   ]
  },
  {
   "cell_type": "markdown",
   "metadata": {},
   "source": [
    "# Random Forest"
   ]
  },
  {
   "cell_type": "code",
   "execution_count": 81,
   "metadata": {},
   "outputs": [
    {
     "data": {
      "text/plain": [
       "1.0"
      ]
     },
     "execution_count": 81,
     "metadata": {},
     "output_type": "execute_result"
    }
   ],
   "source": [
    "rf_clf = RandomForestClassifier(n_estimators=100)\n",
    "rf_clf.fit(X_train,y_train)\n",
    "y_pred = rf_clf.predict(X_test)\n",
    "accuracy_score(y_test, y_pred)"
   ]
  },
  {
   "cell_type": "code",
   "execution_count": 82,
   "metadata": {},
   "outputs": [
    {
     "name": "stdout",
     "output_type": "stream",
     "text": [
      "Random Forest classifier F1 score: 1.0\n"
     ]
    }
   ],
   "source": [
    "score = f1_score(y_pred, y_test, average='micro')\n",
    "print (\"Random Forest classifier F1 score: \" + str(score))"
   ]
  },
  {
   "cell_type": "markdown",
   "metadata": {},
   "source": [
    "# Dataset for Sensorless Drive Diagnosis"
   ]
  },
  {
   "cell_type": "code",
   "execution_count": 84,
   "metadata": {
    "scrolled": true
   },
   "outputs": [
    {
     "data": {
      "text/html": [
       "<div>\n",
       "<style scoped>\n",
       "    .dataframe tbody tr th:only-of-type {\n",
       "        vertical-align: middle;\n",
       "    }\n",
       "\n",
       "    .dataframe tbody tr th {\n",
       "        vertical-align: top;\n",
       "    }\n",
       "\n",
       "    .dataframe thead th {\n",
       "        text-align: right;\n",
       "    }\n",
       "</style>\n",
       "<table border=\"1\" class=\"dataframe\">\n",
       "  <thead>\n",
       "    <tr style=\"text-align: right;\">\n",
       "      <th></th>\n",
       "      <th>0</th>\n",
       "      <th>1</th>\n",
       "      <th>2</th>\n",
       "      <th>3</th>\n",
       "      <th>4</th>\n",
       "      <th>5</th>\n",
       "      <th>6</th>\n",
       "      <th>7</th>\n",
       "      <th>8</th>\n",
       "      <th>9</th>\n",
       "      <th>...</th>\n",
       "      <th>39</th>\n",
       "      <th>40</th>\n",
       "      <th>41</th>\n",
       "      <th>42</th>\n",
       "      <th>43</th>\n",
       "      <th>44</th>\n",
       "      <th>45</th>\n",
       "      <th>46</th>\n",
       "      <th>47</th>\n",
       "      <th>48</th>\n",
       "    </tr>\n",
       "  </thead>\n",
       "  <tbody>\n",
       "    <tr>\n",
       "      <th>0</th>\n",
       "      <td>-3.014600e-07</td>\n",
       "      <td>8.260300e-06</td>\n",
       "      <td>-0.000012</td>\n",
       "      <td>-0.000002</td>\n",
       "      <td>-1.438600e-06</td>\n",
       "      <td>-0.000021</td>\n",
       "      <td>0.031718</td>\n",
       "      <td>0.031710</td>\n",
       "      <td>0.031721</td>\n",
       "      <td>-0.032963</td>\n",
       "      <td>...</td>\n",
       "      <td>-0.63308</td>\n",
       "      <td>2.9646</td>\n",
       "      <td>8.1198</td>\n",
       "      <td>-1.4961</td>\n",
       "      <td>-1.4961</td>\n",
       "      <td>-1.4961</td>\n",
       "      <td>-1.4996</td>\n",
       "      <td>-1.4996</td>\n",
       "      <td>-1.4996</td>\n",
       "      <td>1</td>\n",
       "    </tr>\n",
       "    <tr>\n",
       "      <th>1</th>\n",
       "      <td>2.913200e-06</td>\n",
       "      <td>-5.247700e-06</td>\n",
       "      <td>0.000003</td>\n",
       "      <td>-0.000006</td>\n",
       "      <td>2.778900e-06</td>\n",
       "      <td>-0.000004</td>\n",
       "      <td>0.030804</td>\n",
       "      <td>0.030810</td>\n",
       "      <td>0.030806</td>\n",
       "      <td>-0.033520</td>\n",
       "      <td>...</td>\n",
       "      <td>-0.59314</td>\n",
       "      <td>7.6252</td>\n",
       "      <td>6.1690</td>\n",
       "      <td>-1.4967</td>\n",
       "      <td>-1.4967</td>\n",
       "      <td>-1.4967</td>\n",
       "      <td>-1.5005</td>\n",
       "      <td>-1.5005</td>\n",
       "      <td>-1.5005</td>\n",
       "      <td>1</td>\n",
       "    </tr>\n",
       "    <tr>\n",
       "      <th>2</th>\n",
       "      <td>-2.951700e-06</td>\n",
       "      <td>-3.184000e-06</td>\n",
       "      <td>-0.000016</td>\n",
       "      <td>-0.000001</td>\n",
       "      <td>-1.575300e-06</td>\n",
       "      <td>0.000017</td>\n",
       "      <td>0.032877</td>\n",
       "      <td>0.032880</td>\n",
       "      <td>0.032896</td>\n",
       "      <td>-0.029834</td>\n",
       "      <td>...</td>\n",
       "      <td>-0.63252</td>\n",
       "      <td>2.7784</td>\n",
       "      <td>5.3017</td>\n",
       "      <td>-1.4983</td>\n",
       "      <td>-1.4983</td>\n",
       "      <td>-1.4982</td>\n",
       "      <td>-1.4985</td>\n",
       "      <td>-1.4985</td>\n",
       "      <td>-1.4985</td>\n",
       "      <td>1</td>\n",
       "    </tr>\n",
       "    <tr>\n",
       "      <th>3</th>\n",
       "      <td>-1.322600e-06</td>\n",
       "      <td>8.820100e-06</td>\n",
       "      <td>-0.000016</td>\n",
       "      <td>-0.000005</td>\n",
       "      <td>-7.282900e-07</td>\n",
       "      <td>0.000004</td>\n",
       "      <td>0.029410</td>\n",
       "      <td>0.029401</td>\n",
       "      <td>0.029417</td>\n",
       "      <td>-0.030156</td>\n",
       "      <td>...</td>\n",
       "      <td>-0.62289</td>\n",
       "      <td>6.5534</td>\n",
       "      <td>6.2606</td>\n",
       "      <td>-1.4963</td>\n",
       "      <td>-1.4963</td>\n",
       "      <td>-1.4963</td>\n",
       "      <td>-1.4975</td>\n",
       "      <td>-1.4975</td>\n",
       "      <td>-1.4976</td>\n",
       "      <td>1</td>\n",
       "    </tr>\n",
       "    <tr>\n",
       "      <th>4</th>\n",
       "      <td>-6.836600e-08</td>\n",
       "      <td>5.666300e-07</td>\n",
       "      <td>-0.000026</td>\n",
       "      <td>-0.000006</td>\n",
       "      <td>-7.940600e-07</td>\n",
       "      <td>0.000013</td>\n",
       "      <td>0.030119</td>\n",
       "      <td>0.030119</td>\n",
       "      <td>0.030145</td>\n",
       "      <td>-0.031393</td>\n",
       "      <td>...</td>\n",
       "      <td>-0.63010</td>\n",
       "      <td>4.5155</td>\n",
       "      <td>9.5231</td>\n",
       "      <td>-1.4958</td>\n",
       "      <td>-1.4958</td>\n",
       "      <td>-1.4958</td>\n",
       "      <td>-1.4959</td>\n",
       "      <td>-1.4959</td>\n",
       "      <td>-1.4959</td>\n",
       "      <td>1</td>\n",
       "    </tr>\n",
       "  </tbody>\n",
       "</table>\n",
       "<p>5 rows × 49 columns</p>\n",
       "</div>"
      ],
      "text/plain": [
       "             0             1         2         3             4         5   \\\n",
       "0 -3.014600e-07  8.260300e-06 -0.000012 -0.000002 -1.438600e-06 -0.000021   \n",
       "1  2.913200e-06 -5.247700e-06  0.000003 -0.000006  2.778900e-06 -0.000004   \n",
       "2 -2.951700e-06 -3.184000e-06 -0.000016 -0.000001 -1.575300e-06  0.000017   \n",
       "3 -1.322600e-06  8.820100e-06 -0.000016 -0.000005 -7.282900e-07  0.000004   \n",
       "4 -6.836600e-08  5.666300e-07 -0.000026 -0.000006 -7.940600e-07  0.000013   \n",
       "\n",
       "         6         7         8         9  ...       39      40      41  \\\n",
       "0  0.031718  0.031710  0.031721 -0.032963 ... -0.63308  2.9646  8.1198   \n",
       "1  0.030804  0.030810  0.030806 -0.033520 ... -0.59314  7.6252  6.1690   \n",
       "2  0.032877  0.032880  0.032896 -0.029834 ... -0.63252  2.7784  5.3017   \n",
       "3  0.029410  0.029401  0.029417 -0.030156 ... -0.62289  6.5534  6.2606   \n",
       "4  0.030119  0.030119  0.030145 -0.031393 ... -0.63010  4.5155  9.5231   \n",
       "\n",
       "       42      43      44      45      46      47  48  \n",
       "0 -1.4961 -1.4961 -1.4961 -1.4996 -1.4996 -1.4996   1  \n",
       "1 -1.4967 -1.4967 -1.4967 -1.5005 -1.5005 -1.5005   1  \n",
       "2 -1.4983 -1.4983 -1.4982 -1.4985 -1.4985 -1.4985   1  \n",
       "3 -1.4963 -1.4963 -1.4963 -1.4975 -1.4975 -1.4976   1  \n",
       "4 -1.4958 -1.4958 -1.4958 -1.4959 -1.4959 -1.4959   1  \n",
       "\n",
       "[5 rows x 49 columns]"
      ]
     },
     "execution_count": 84,
     "metadata": {},
     "output_type": "execute_result"
    }
   ],
   "source": [
    "drive = pd.read_csv(\"Sensorless_drive_diagnosis.txt\", delimiter = r\"\\s+\", header = None)\n",
    "drive.head()"
   ]
  },
  {
   "cell_type": "code",
   "execution_count": 85,
   "metadata": {},
   "outputs": [
    {
     "data": {
      "text/html": [
       "<div>\n",
       "<style scoped>\n",
       "    .dataframe tbody tr th:only-of-type {\n",
       "        vertical-align: middle;\n",
       "    }\n",
       "\n",
       "    .dataframe tbody tr th {\n",
       "        vertical-align: top;\n",
       "    }\n",
       "\n",
       "    .dataframe thead th {\n",
       "        text-align: right;\n",
       "    }\n",
       "</style>\n",
       "<table border=\"1\" class=\"dataframe\">\n",
       "  <thead>\n",
       "    <tr style=\"text-align: right;\">\n",
       "      <th></th>\n",
       "      <th>0</th>\n",
       "      <th>1</th>\n",
       "      <th>2</th>\n",
       "      <th>3</th>\n",
       "      <th>4</th>\n",
       "      <th>5</th>\n",
       "      <th>6</th>\n",
       "      <th>7</th>\n",
       "      <th>8</th>\n",
       "      <th>9</th>\n",
       "      <th>...</th>\n",
       "      <th>38</th>\n",
       "      <th>39</th>\n",
       "      <th>40</th>\n",
       "      <th>41</th>\n",
       "      <th>42</th>\n",
       "      <th>43</th>\n",
       "      <th>44</th>\n",
       "      <th>45</th>\n",
       "      <th>46</th>\n",
       "      <th>47</th>\n",
       "    </tr>\n",
       "  </thead>\n",
       "  <tbody>\n",
       "    <tr>\n",
       "      <th>0</th>\n",
       "      <td>-3.014600e-07</td>\n",
       "      <td>8.260300e-06</td>\n",
       "      <td>-0.000012</td>\n",
       "      <td>-0.000002</td>\n",
       "      <td>-1.438600e-06</td>\n",
       "      <td>-0.000021</td>\n",
       "      <td>0.031718</td>\n",
       "      <td>0.031710</td>\n",
       "      <td>0.031721</td>\n",
       "      <td>-0.032963</td>\n",
       "      <td>...</td>\n",
       "      <td>6.0168</td>\n",
       "      <td>-0.63308</td>\n",
       "      <td>2.9646</td>\n",
       "      <td>8.1198</td>\n",
       "      <td>-1.4961</td>\n",
       "      <td>-1.4961</td>\n",
       "      <td>-1.4961</td>\n",
       "      <td>-1.4996</td>\n",
       "      <td>-1.4996</td>\n",
       "      <td>-1.4996</td>\n",
       "    </tr>\n",
       "    <tr>\n",
       "      <th>1</th>\n",
       "      <td>2.913200e-06</td>\n",
       "      <td>-5.247700e-06</td>\n",
       "      <td>0.000003</td>\n",
       "      <td>-0.000006</td>\n",
       "      <td>2.778900e-06</td>\n",
       "      <td>-0.000004</td>\n",
       "      <td>0.030804</td>\n",
       "      <td>0.030810</td>\n",
       "      <td>0.030806</td>\n",
       "      <td>-0.033520</td>\n",
       "      <td>...</td>\n",
       "      <td>3.6048</td>\n",
       "      <td>-0.59314</td>\n",
       "      <td>7.6252</td>\n",
       "      <td>6.1690</td>\n",
       "      <td>-1.4967</td>\n",
       "      <td>-1.4967</td>\n",
       "      <td>-1.4967</td>\n",
       "      <td>-1.5005</td>\n",
       "      <td>-1.5005</td>\n",
       "      <td>-1.5005</td>\n",
       "    </tr>\n",
       "    <tr>\n",
       "      <th>2</th>\n",
       "      <td>-2.951700e-06</td>\n",
       "      <td>-3.184000e-06</td>\n",
       "      <td>-0.000016</td>\n",
       "      <td>-0.000001</td>\n",
       "      <td>-1.575300e-06</td>\n",
       "      <td>0.000017</td>\n",
       "      <td>0.032877</td>\n",
       "      <td>0.032880</td>\n",
       "      <td>0.032896</td>\n",
       "      <td>-0.029834</td>\n",
       "      <td>...</td>\n",
       "      <td>5.8007</td>\n",
       "      <td>-0.63252</td>\n",
       "      <td>2.7784</td>\n",
       "      <td>5.3017</td>\n",
       "      <td>-1.4983</td>\n",
       "      <td>-1.4983</td>\n",
       "      <td>-1.4982</td>\n",
       "      <td>-1.4985</td>\n",
       "      <td>-1.4985</td>\n",
       "      <td>-1.4985</td>\n",
       "    </tr>\n",
       "    <tr>\n",
       "      <th>3</th>\n",
       "      <td>-1.322600e-06</td>\n",
       "      <td>8.820100e-06</td>\n",
       "      <td>-0.000016</td>\n",
       "      <td>-0.000005</td>\n",
       "      <td>-7.282900e-07</td>\n",
       "      <td>0.000004</td>\n",
       "      <td>0.029410</td>\n",
       "      <td>0.029401</td>\n",
       "      <td>0.029417</td>\n",
       "      <td>-0.030156</td>\n",
       "      <td>...</td>\n",
       "      <td>23.3960</td>\n",
       "      <td>-0.62289</td>\n",
       "      <td>6.5534</td>\n",
       "      <td>6.2606</td>\n",
       "      <td>-1.4963</td>\n",
       "      <td>-1.4963</td>\n",
       "      <td>-1.4963</td>\n",
       "      <td>-1.4975</td>\n",
       "      <td>-1.4975</td>\n",
       "      <td>-1.4976</td>\n",
       "    </tr>\n",
       "    <tr>\n",
       "      <th>4</th>\n",
       "      <td>-6.836600e-08</td>\n",
       "      <td>5.666300e-07</td>\n",
       "      <td>-0.000026</td>\n",
       "      <td>-0.000006</td>\n",
       "      <td>-7.940600e-07</td>\n",
       "      <td>0.000013</td>\n",
       "      <td>0.030119</td>\n",
       "      <td>0.030119</td>\n",
       "      <td>0.030145</td>\n",
       "      <td>-0.031393</td>\n",
       "      <td>...</td>\n",
       "      <td>5.0582</td>\n",
       "      <td>-0.63010</td>\n",
       "      <td>4.5155</td>\n",
       "      <td>9.5231</td>\n",
       "      <td>-1.4958</td>\n",
       "      <td>-1.4958</td>\n",
       "      <td>-1.4958</td>\n",
       "      <td>-1.4959</td>\n",
       "      <td>-1.4959</td>\n",
       "      <td>-1.4959</td>\n",
       "    </tr>\n",
       "  </tbody>\n",
       "</table>\n",
       "<p>5 rows × 48 columns</p>\n",
       "</div>"
      ],
      "text/plain": [
       "             0             1         2         3             4         5   \\\n",
       "0 -3.014600e-07  8.260300e-06 -0.000012 -0.000002 -1.438600e-06 -0.000021   \n",
       "1  2.913200e-06 -5.247700e-06  0.000003 -0.000006  2.778900e-06 -0.000004   \n",
       "2 -2.951700e-06 -3.184000e-06 -0.000016 -0.000001 -1.575300e-06  0.000017   \n",
       "3 -1.322600e-06  8.820100e-06 -0.000016 -0.000005 -7.282900e-07  0.000004   \n",
       "4 -6.836600e-08  5.666300e-07 -0.000026 -0.000006 -7.940600e-07  0.000013   \n",
       "\n",
       "         6         7         8         9    ...         38       39      40  \\\n",
       "0  0.031718  0.031710  0.031721 -0.032963   ...     6.0168 -0.63308  2.9646   \n",
       "1  0.030804  0.030810  0.030806 -0.033520   ...     3.6048 -0.59314  7.6252   \n",
       "2  0.032877  0.032880  0.032896 -0.029834   ...     5.8007 -0.63252  2.7784   \n",
       "3  0.029410  0.029401  0.029417 -0.030156   ...    23.3960 -0.62289  6.5534   \n",
       "4  0.030119  0.030119  0.030145 -0.031393   ...     5.0582 -0.63010  4.5155   \n",
       "\n",
       "       41      42      43      44      45      46      47  \n",
       "0  8.1198 -1.4961 -1.4961 -1.4961 -1.4996 -1.4996 -1.4996  \n",
       "1  6.1690 -1.4967 -1.4967 -1.4967 -1.5005 -1.5005 -1.5005  \n",
       "2  5.3017 -1.4983 -1.4983 -1.4982 -1.4985 -1.4985 -1.4985  \n",
       "3  6.2606 -1.4963 -1.4963 -1.4963 -1.4975 -1.4975 -1.4976  \n",
       "4  9.5231 -1.4958 -1.4958 -1.4958 -1.4959 -1.4959 -1.4959  \n",
       "\n",
       "[5 rows x 48 columns]"
      ]
     },
     "execution_count": 85,
     "metadata": {},
     "output_type": "execute_result"
    }
   ],
   "source": [
    "X = pd.DataFrame(drive)\n",
    "X = X.drop([48], axis=1)\n",
    "X.head()"
   ]
  },
  {
   "cell_type": "code",
   "execution_count": 86,
   "metadata": {},
   "outputs": [
    {
     "data": {
      "text/plain": [
       "0    1\n",
       "1    1\n",
       "2    1\n",
       "3    1\n",
       "4    1\n",
       "Name: 48, dtype: int64"
      ]
     },
     "execution_count": 86,
     "metadata": {},
     "output_type": "execute_result"
    }
   ],
   "source": [
    "y = drive[48]\n",
    "X_train, X_test, y_train, y_test = train_test_split(X, y, test_size=0.05, random_state=5)\n",
    "y.head()"
   ]
  },
  {
   "cell_type": "markdown",
   "metadata": {},
   "source": [
    "# Multi-layer Perceptron classifier"
   ]
  },
  {
   "cell_type": "code",
   "execution_count": 87,
   "metadata": {
    "scrolled": true
   },
   "outputs": [
    {
     "name": "stdout",
     "output_type": "stream",
     "text": [
      "Iteration 1, loss = 2.43958744\n",
      "Iteration 2, loss = 2.40530085\n",
      "Iteration 3, loss = 2.39555965\n",
      "Iteration 4, loss = 2.39225576\n",
      "Iteration 5, loss = 2.38259371\n",
      "Iteration 6, loss = 2.37651738\n",
      "Iteration 7, loss = 2.36629395\n",
      "Iteration 8, loss = 2.35739674\n",
      "Iteration 9, loss = 2.34368533\n",
      "Iteration 10, loss = 2.32065350\n",
      "Iteration 11, loss = 2.28749105\n",
      "Iteration 12, loss = 2.22640086\n",
      "Iteration 13, loss = 2.11812436\n",
      "Iteration 14, loss = 2.06617673\n",
      "Iteration 15, loss = 2.01689962\n",
      "Iteration 16, loss = 1.96140378\n",
      "Iteration 17, loss = 1.92432266\n",
      "Iteration 18, loss = 1.87028629\n",
      "Iteration 19, loss = 1.83717912\n",
      "Iteration 20, loss = 1.78431525\n",
      "Iteration 21, loss = 1.75859748\n",
      "Iteration 22, loss = 1.73449195\n",
      "Iteration 23, loss = 1.70251841\n",
      "Iteration 24, loss = 1.65928870\n",
      "Iteration 25, loss = 1.62980878\n",
      "Iteration 26, loss = 1.64954661\n",
      "Iteration 27, loss = 1.56816682\n",
      "Iteration 28, loss = 1.59264412\n",
      "Iteration 29, loss = 1.52804886\n",
      "Iteration 30, loss = 1.53396356\n",
      "Iteration 31, loss = 1.50916973\n",
      "Iteration 32, loss = 1.50460541\n",
      "Iteration 33, loss = 1.47174293\n",
      "Iteration 34, loss = 1.45995725\n",
      "Iteration 35, loss = 1.44081227\n",
      "Iteration 36, loss = 1.42642238\n",
      "Iteration 37, loss = 1.41142939\n",
      "Iteration 38, loss = 1.41809770\n",
      "Iteration 39, loss = 1.38728332\n",
      "Iteration 40, loss = 1.39066755\n",
      "Iteration 41, loss = 1.37303256\n",
      "Iteration 42, loss = 1.36188809\n",
      "Iteration 43, loss = 1.36113384\n",
      "Iteration 44, loss = 1.34764712\n",
      "Iteration 45, loss = 1.33326476\n",
      "Iteration 46, loss = 1.30069941\n",
      "Iteration 47, loss = 1.33955719\n",
      "Iteration 48, loss = 1.30555563\n",
      "Iteration 49, loss = 1.30072966\n",
      "Iteration 50, loss = 1.29364828\n",
      "Iteration 51, loss = 1.28801020\n",
      "Iteration 52, loss = 1.26782648\n",
      "Iteration 53, loss = 1.27573909\n",
      "Iteration 54, loss = 1.27296690\n",
      "Iteration 55, loss = 1.26345932\n",
      "Iteration 56, loss = 1.23602691\n",
      "Iteration 57, loss = 1.25406003\n",
      "Iteration 58, loss = 1.23910343\n",
      "Iteration 59, loss = 1.23034515\n",
      "Iteration 60, loss = 1.23028083\n",
      "Iteration 61, loss = 1.22493537\n",
      "Iteration 62, loss = 1.20836738\n",
      "Iteration 63, loss = 1.19763910\n",
      "Iteration 64, loss = 1.22799035\n",
      "Iteration 65, loss = 1.18652382\n",
      "Iteration 66, loss = 1.18831133\n",
      "Iteration 67, loss = 1.17704246\n",
      "Iteration 68, loss = 1.18333219\n",
      "Iteration 69, loss = 1.21375255\n",
      "Iteration 70, loss = 1.16668292\n",
      "Iteration 71, loss = 1.15978776\n",
      "Iteration 72, loss = 1.14729054\n",
      "Iteration 73, loss = 1.15223840\n",
      "Iteration 74, loss = 1.14140807\n",
      "Iteration 75, loss = 1.14777634\n",
      "Iteration 76, loss = 1.13266335\n",
      "Iteration 77, loss = 1.12685956\n",
      "Iteration 78, loss = 1.10666454\n",
      "Iteration 79, loss = 1.09962814\n",
      "Iteration 80, loss = 1.08664828\n",
      "Iteration 81, loss = 1.09889250\n",
      "Iteration 82, loss = 1.07506288\n",
      "Iteration 83, loss = 1.05873860\n",
      "Iteration 84, loss = 1.06377880\n",
      "Iteration 85, loss = 1.02564142\n",
      "Iteration 86, loss = 1.02828225\n",
      "Iteration 87, loss = 1.01585978\n",
      "Iteration 88, loss = 1.01680437\n",
      "Iteration 89, loss = 1.01210328\n",
      "Iteration 90, loss = 1.00647890\n",
      "Iteration 91, loss = 0.97956022\n",
      "Iteration 92, loss = 1.00714110\n",
      "Iteration 93, loss = 0.98606503\n",
      "Iteration 94, loss = 0.97476723\n",
      "Iteration 95, loss = 0.96723876\n",
      "Iteration 96, loss = 0.96502475\n",
      "Iteration 97, loss = 0.95486690\n",
      "Iteration 98, loss = 0.95917062\n",
      "Iteration 99, loss = 0.95060946\n",
      "Iteration 100, loss = 0.93458731\n",
      "Iteration 101, loss = 0.93177656\n",
      "Iteration 102, loss = 0.93189576\n",
      "Iteration 103, loss = 0.93006179\n",
      "Iteration 104, loss = 0.91275759\n",
      "Iteration 105, loss = 0.89980940\n",
      "Iteration 106, loss = 0.91127186\n",
      "Iteration 107, loss = 0.91511595\n",
      "Iteration 108, loss = 0.89563930\n",
      "Iteration 109, loss = 0.89425730\n",
      "Iteration 110, loss = 0.88160396\n",
      "Iteration 111, loss = 0.88362004\n",
      "Iteration 112, loss = 0.86447280\n",
      "Iteration 113, loss = 0.88154810\n",
      "Iteration 114, loss = 0.87038366\n",
      "Iteration 115, loss = 0.86422571\n",
      "Iteration 116, loss = 0.86147908\n",
      "Iteration 117, loss = 0.86523315\n",
      "Iteration 118, loss = 0.84277461\n",
      "Iteration 119, loss = 0.92979956\n",
      "Iteration 120, loss = 0.83217108\n",
      "Iteration 121, loss = 0.85373896\n",
      "Iteration 122, loss = 0.83794498\n",
      "Iteration 123, loss = 0.87741120\n",
      "Iteration 124, loss = 0.81404774\n",
      "Iteration 125, loss = 0.79420744\n",
      "Iteration 126, loss = 0.82264048\n",
      "Iteration 127, loss = 0.80077896\n",
      "Iteration 128, loss = 0.81024948\n",
      "Iteration 129, loss = 0.80713936\n",
      "Iteration 130, loss = 0.79613920\n",
      "Iteration 131, loss = 0.78340137\n",
      "Iteration 132, loss = 0.77792820\n",
      "Iteration 133, loss = 0.79622789\n",
      "Iteration 134, loss = 0.78308582\n",
      "Iteration 135, loss = 0.78541742\n",
      "Iteration 136, loss = 0.75984399\n",
      "Iteration 137, loss = 0.75292792\n",
      "Iteration 138, loss = 0.77793168\n",
      "Iteration 139, loss = 0.75603005\n",
      "Iteration 140, loss = 0.75032426\n",
      "Iteration 141, loss = 0.72767997\n",
      "Iteration 142, loss = 0.73672597\n",
      "Iteration 143, loss = 0.74526668\n",
      "Iteration 144, loss = 0.73966049\n",
      "Iteration 145, loss = 0.71471155\n",
      "Iteration 146, loss = 0.71696596\n",
      "Iteration 147, loss = 0.73601184\n",
      "Iteration 148, loss = 0.70918738\n",
      "Iteration 149, loss = 0.72997240\n",
      "Iteration 150, loss = 0.72493941\n",
      "Iteration 151, loss = 0.73146846\n",
      "Iteration 152, loss = 0.71874006\n",
      "Iteration 153, loss = 0.69125734\n",
      "Iteration 154, loss = 0.70375209\n",
      "Iteration 155, loss = 0.69637793\n",
      "Iteration 156, loss = 0.69064679\n",
      "Iteration 157, loss = 0.71515030\n",
      "Iteration 158, loss = 0.66986035\n",
      "Iteration 159, loss = 0.68992126\n",
      "Iteration 160, loss = 0.69656047\n",
      "Iteration 161, loss = 0.69199073\n",
      "Iteration 162, loss = 0.69646260\n",
      "Iteration 163, loss = 0.66246253\n",
      "Iteration 164, loss = 0.68090686\n",
      "Iteration 165, loss = 0.66361203\n",
      "Iteration 166, loss = 0.66348900\n",
      "Iteration 167, loss = 0.68417642\n",
      "Iteration 168, loss = 0.66786139\n",
      "Iteration 169, loss = 0.62856147\n",
      "Iteration 170, loss = 0.65252498\n",
      "Iteration 171, loss = 0.67244863\n",
      "Iteration 172, loss = 0.65826164\n",
      "Iteration 173, loss = 0.67111272\n",
      "Iteration 174, loss = 0.65421940\n",
      "Iteration 175, loss = 0.67097718\n",
      "Iteration 176, loss = 0.62234685\n",
      "Iteration 177, loss = 0.67620432\n",
      "Iteration 178, loss = 0.64148710\n",
      "Iteration 179, loss = 0.63033721\n",
      "Iteration 180, loss = 0.67306437\n",
      "Iteration 181, loss = 0.61728428\n",
      "Iteration 182, loss = 0.67538804\n",
      "Iteration 183, loss = 0.63643872\n",
      "Iteration 184, loss = 0.64447515\n",
      "Iteration 185, loss = 0.61194210\n",
      "Iteration 186, loss = 0.65331403\n",
      "Iteration 187, loss = 0.60197157\n",
      "Iteration 188, loss = 0.60708085\n",
      "Iteration 189, loss = 0.60572444\n",
      "Iteration 190, loss = 0.60889984\n",
      "Iteration 191, loss = 0.64961136\n",
      "Iteration 192, loss = 0.58855013\n",
      "Iteration 193, loss = 0.62683616\n",
      "Iteration 194, loss = 0.63762843\n",
      "Iteration 195, loss = 0.61366760\n",
      "Iteration 196, loss = 0.59478390\n",
      "Iteration 197, loss = 0.58185207\n",
      "Iteration 198, loss = 0.57794516\n",
      "Iteration 199, loss = 0.60459766\n",
      "Iteration 200, loss = 0.59897300\n",
      "Iteration 201, loss = 0.60764584\n",
      "Iteration 202, loss = 0.60034572\n",
      "Iteration 203, loss = 0.58996550\n",
      "Iteration 204, loss = 0.56405607\n",
      "Iteration 205, loss = 0.58827301\n",
      "Iteration 206, loss = 0.58353393\n",
      "Iteration 207, loss = 0.59106507\n",
      "Iteration 208, loss = 0.56018076\n",
      "Iteration 209, loss = 0.55448139\n",
      "Iteration 210, loss = 0.59218077\n",
      "Iteration 211, loss = 0.55917104\n",
      "Iteration 212, loss = 0.63703737\n",
      "Iteration 213, loss = 0.58558607\n",
      "Iteration 214, loss = 0.56112700\n",
      "Iteration 215, loss = 0.57529082\n",
      "Iteration 216, loss = 0.53806016\n",
      "Iteration 217, loss = 0.64569838\n",
      "Iteration 218, loss = 0.56864314\n",
      "Iteration 219, loss = 0.61039886\n",
      "Iteration 220, loss = 0.55291163\n",
      "Iteration 221, loss = 0.54368479\n",
      "Iteration 222, loss = 0.57554394\n",
      "Iteration 223, loss = 0.57397873\n",
      "Iteration 224, loss = 0.57117150\n",
      "Iteration 225, loss = 0.53928314\n",
      "Iteration 226, loss = 0.55061556\n",
      "Iteration 227, loss = 0.53694731\n",
      "Iteration 228, loss = 0.51147894\n",
      "Iteration 229, loss = 0.51983509\n",
      "Iteration 230, loss = 0.65886403\n",
      "Iteration 231, loss = 0.54217190\n",
      "Iteration 232, loss = 0.54729633\n",
      "Iteration 233, loss = 0.57471214\n",
      "Iteration 234, loss = 0.55097676\n",
      "Iteration 235, loss = 0.53019877\n",
      "Iteration 236, loss = 0.52737154\n",
      "Iteration 237, loss = 0.53131386\n",
      "Iteration 238, loss = 0.51682913\n",
      "Iteration 239, loss = 0.50544489\n",
      "Iteration 240, loss = 0.54140464\n",
      "Iteration 241, loss = 0.62064595\n",
      "Iteration 242, loss = 0.51069014\n",
      "Iteration 243, loss = 0.49768821\n",
      "Iteration 244, loss = 0.55043480\n",
      "Iteration 245, loss = 0.51462306\n",
      "Iteration 246, loss = 0.49079971\n",
      "Iteration 247, loss = 0.52599277\n",
      "Iteration 248, loss = 0.47950305\n",
      "Iteration 249, loss = 0.57572113\n",
      "Iteration 250, loss = 0.51008391\n",
      "Iteration 251, loss = 0.49953981\n",
      "Iteration 252, loss = 0.49501955\n"
     ]
    },
    {
     "name": "stdout",
     "output_type": "stream",
     "text": [
      "Iteration 253, loss = 0.50261857\n",
      "Iteration 254, loss = 0.49964377\n",
      "Iteration 255, loss = 0.48272337\n",
      "Iteration 256, loss = 0.52176338\n",
      "Iteration 257, loss = 0.49988397\n",
      "Iteration 258, loss = 0.49601276\n",
      "Iteration 259, loss = 0.54242518\n",
      "Training loss did not improve more than tol=0.000000 for 10 consecutive epochs. Stopping.\n"
     ]
    }
   ],
   "source": [
    "mlp_clf = MLPClassifier(hidden_layer_sizes=(100,100,100), max_iter=500, alpha=0.0001, \n",
    "                    solver='sgd', verbose=10, random_state=21, tol=0.000000001)\n",
    "mlp_clf.fit(X_train, y_train)\n",
    "y_pred = mlp_clf.predict(X_test)"
   ]
  },
  {
   "cell_type": "code",
   "execution_count": 88,
   "metadata": {},
   "outputs": [
    {
     "data": {
      "text/plain": [
       "0.6869446343130554"
      ]
     },
     "execution_count": 88,
     "metadata": {},
     "output_type": "execute_result"
    }
   ],
   "source": [
    "accuracy_score(y_test, y_pred)"
   ]
  },
  {
   "cell_type": "code",
   "execution_count": 89,
   "metadata": {},
   "outputs": [
    {
     "name": "stdout",
     "output_type": "stream",
     "text": [
      "Multi-layer Perceptron classifier F1 score: 0.6869446343130554\n"
     ]
    }
   ],
   "source": [
    "score = f1_score(y_pred, y_test, average='micro')\n",
    "print (\"Multi-layer Perceptron classifier F1 score: \" + str(score))"
   ]
  },
  {
   "cell_type": "markdown",
   "metadata": {},
   "source": [
    "# K Nearest Neighbours"
   ]
  },
  {
   "cell_type": "code",
   "execution_count": 90,
   "metadata": {},
   "outputs": [
    {
     "data": {
      "text/plain": [
       "KNeighborsClassifier(algorithm='brute', leaf_size=30, metric='minkowski',\n",
       "           metric_params=None, n_jobs=1, n_neighbors=4, p=2,\n",
       "           weights='distance')"
      ]
     },
     "execution_count": 90,
     "metadata": {},
     "output_type": "execute_result"
    }
   ],
   "source": [
    "knn_clf = KNeighborsClassifier(algorithm='brute', leaf_size=30, metric='minkowski',\n",
    "           metric_params=None, n_jobs=1, n_neighbors=4, p=2,\n",
    "           weights='distance')\n",
    "knn_clf.fit(X_train,y_train)"
   ]
  },
  {
   "cell_type": "code",
   "execution_count": 91,
   "metadata": {},
   "outputs": [
    {
     "data": {
      "text/plain": [
       "0.12235133287764867"
      ]
     },
     "execution_count": 91,
     "metadata": {},
     "output_type": "execute_result"
    }
   ],
   "source": [
    "y_pred = knn_clf.predict(X_test)\n",
    "accuracy_score(y_test,y_pred)"
   ]
  },
  {
   "cell_type": "code",
   "execution_count": 92,
   "metadata": {},
   "outputs": [
    {
     "name": "stdout",
     "output_type": "stream",
     "text": [
      "K Nearest Neighbours classifier F1 score: 0.12235133287764868\n"
     ]
    }
   ],
   "source": [
    "score = f1_score(y_pred, y_test, average='micro')\n",
    "print (\"K Nearest Neighbours classifier F1 score: \" + str(score))"
   ]
  },
  {
   "cell_type": "markdown",
   "metadata": {},
   "source": [
    "# Decision Tree"
   ]
  },
  {
   "cell_type": "code",
   "execution_count": 93,
   "metadata": {},
   "outputs": [
    {
     "data": {
      "text/plain": [
       "0.9880382775119617"
      ]
     },
     "execution_count": 93,
     "metadata": {},
     "output_type": "execute_result"
    }
   ],
   "source": [
    "dt_clf = tree.DecisionTreeClassifier()\n",
    "dt_clf.fit(X_train, y_train)\n",
    "y_pred = dt_clf.predict(X_test)\n",
    "accuracy_score(y_test, y_pred)"
   ]
  },
  {
   "cell_type": "code",
   "execution_count": 94,
   "metadata": {},
   "outputs": [
    {
     "name": "stdout",
     "output_type": "stream",
     "text": [
      "Decision Tree classifier F1 score: 0.9880382775119617\n"
     ]
    }
   ],
   "source": [
    "score = f1_score(y_pred, y_test, average='micro')\n",
    "print (\"Decision Tree classifier F1 score: \" + str(score))"
   ]
  },
  {
   "cell_type": "markdown",
   "metadata": {},
   "source": [
    "# SVC"
   ]
  },
  {
   "cell_type": "code",
   "execution_count": 95,
   "metadata": {},
   "outputs": [
    {
     "data": {
      "text/plain": [
       "0.8947368421052632"
      ]
     },
     "execution_count": 95,
     "metadata": {},
     "output_type": "execute_result"
    }
   ],
   "source": [
    "sv_clf = SVC(kernel='linear')  \n",
    "sv_clf.fit(X_train, y_train)  \n",
    "y_pred = sv_clf.predict(X_test)  \n",
    "accuracy_score(y_test, y_pred)"
   ]
  },
  {
   "cell_type": "code",
   "execution_count": 96,
   "metadata": {},
   "outputs": [
    {
     "name": "stdout",
     "output_type": "stream",
     "text": [
      "SVC F1 score: 0.8947368421052632\n"
     ]
    }
   ],
   "source": [
    "score = f1_score(y_pred, y_test, average='micro')\n",
    "print (\"SVC F1 score: \" + str(score))"
   ]
  },
  {
   "cell_type": "markdown",
   "metadata": {},
   "source": [
    "# Random Forest"
   ]
  },
  {
   "cell_type": "code",
   "execution_count": 97,
   "metadata": {},
   "outputs": [
    {
     "data": {
      "text/plain": [
       "0.9993164730006835"
      ]
     },
     "execution_count": 97,
     "metadata": {},
     "output_type": "execute_result"
    }
   ],
   "source": [
    "rf_clf = RandomForestClassifier(n_estimators=100)\n",
    "rf_clf.fit(X_train,y_train)\n",
    "y_pred = rf_clf.predict(X_test)\n",
    "accuracy_score(y_test, y_pred)"
   ]
  },
  {
   "cell_type": "code",
   "execution_count": 98,
   "metadata": {},
   "outputs": [
    {
     "name": "stdout",
     "output_type": "stream",
     "text": [
      "Random Forest classifier F1 score: 0.9993164730006835\n"
     ]
    }
   ],
   "source": [
    "score = f1_score(y_pred, y_test, average='micro')\n",
    "print (\"Random Forest classifier F1 score: \" + str(score))"
   ]
  },
  {
   "cell_type": "code",
   "execution_count": null,
   "metadata": {},
   "outputs": [],
   "source": []
  }
 ],
 "metadata": {
  "kernelspec": {
   "display_name": "Python 3",
   "language": "python",
   "name": "python3"
  },
  "language_info": {
   "codemirror_mode": {
    "name": "ipython",
    "version": 3
   },
   "file_extension": ".py",
   "mimetype": "text/x-python",
   "name": "python",
   "nbconvert_exporter": "python",
   "pygments_lexer": "ipython3",
   "version": "3.7.2"
  },
  "notify_time": "5",
  "toc": {
   "base_numbering": 1,
   "nav_menu": {},
   "number_sections": true,
   "sideBar": true,
   "skip_h1_title": false,
   "title_cell": "Table of Contents",
   "title_sidebar": "Contents",
   "toc_cell": false,
   "toc_position": {},
   "toc_section_display": true,
   "toc_window_display": false
  },
  "varInspector": {
   "cols": {
    "lenName": 16,
    "lenType": 16,
    "lenVar": 40
   },
   "kernels_config": {
    "python": {
     "delete_cmd_postfix": "",
     "delete_cmd_prefix": "del ",
     "library": "var_list.py",
     "varRefreshCmd": "print(var_dic_list())"
    },
    "r": {
     "delete_cmd_postfix": ") ",
     "delete_cmd_prefix": "rm(",
     "library": "var_list.r",
     "varRefreshCmd": "cat(var_dic_list()) "
    }
   },
   "types_to_exclude": [
    "module",
    "function",
    "builtin_function_or_method",
    "instance",
    "_Feature"
   ],
   "window_display": false
  }
 },
 "nbformat": 4,
 "nbformat_minor": 2
}
